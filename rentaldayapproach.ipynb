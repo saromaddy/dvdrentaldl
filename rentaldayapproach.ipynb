{
 "cells": [
  {
   "cell_type": "code",
   "execution_count": 34,
   "metadata": {},
   "outputs": [],
   "source": [
    "import pandas as pd\n",
    "from sklearn.model_selection import train_test_split\n",
    "import tensorflow as tf\n",
    "from tensorflow.keras.models import Sequential\n",
    "from tensorflow.keras.layers import Dense\n",
    "from tensorflow.keras.callbacks import Callback\n",
    "import tensorflow.keras.backend as K\n",
    "import pickle\n",
    "import numpy as np\n",
    "from keras.utils import to_categorical\n",
    "import matplotlib.pyplot as plt\n",
    "from tensorflow.keras.metrics import MeanSquaredError, MeanAbsoluteError\n",
    "from keras.models import load_model"
   ]
  },
  {
   "cell_type": "code",
   "execution_count": 35,
   "metadata": {},
   "outputs": [],
   "source": [
    "df = pd.read_csv('dvd rental final csv.csv')"
   ]
  },
  {
   "cell_type": "code",
   "execution_count": 36,
   "metadata": {},
   "outputs": [],
   "source": [
    "# Ensure the rental_date and return_date are in datetime format\n",
    "df['rental_date'] = pd.to_datetime(df['rental_date'])\n",
    "df['return_date'] = pd.to_datetime(df['return_date'])\n",
    "\n",
    "# Calculate the difference in days between return_date and rental_date\n",
    "df['rental_actual_duration'] = (df['return_date'] - df['rental_date']).dt.days"
   ]
  },
  {
   "cell_type": "code",
   "execution_count": 37,
   "metadata": {},
   "outputs": [
    {
     "data": {
      "text/html": [
       "<div>\n",
       "<style scoped>\n",
       "    .dataframe tbody tr th:only-of-type {\n",
       "        vertical-align: middle;\n",
       "    }\n",
       "\n",
       "    .dataframe tbody tr th {\n",
       "        vertical-align: top;\n",
       "    }\n",
       "\n",
       "    .dataframe thead th {\n",
       "        text-align: right;\n",
       "    }\n",
       "</style>\n",
       "<table border=\"1\" class=\"dataframe\">\n",
       "  <thead>\n",
       "    <tr style=\"text-align: right;\">\n",
       "      <th></th>\n",
       "      <th>inventory_id</th>\n",
       "      <th>film_id</th>\n",
       "      <th>title</th>\n",
       "      <th>rental_duration</th>\n",
       "      <th>rental_rate</th>\n",
       "      <th>length</th>\n",
       "      <th>replacement_cost</th>\n",
       "      <th>rating</th>\n",
       "      <th>category</th>\n",
       "      <th>language</th>\n",
       "      <th>store_id</th>\n",
       "      <th>rental_id</th>\n",
       "      <th>rental_date</th>\n",
       "      <th>customer_id</th>\n",
       "      <th>return_date</th>\n",
       "      <th>amount</th>\n",
       "      <th>active</th>\n",
       "      <th>rental_actual_duration</th>\n",
       "    </tr>\n",
       "  </thead>\n",
       "  <tbody>\n",
       "    <tr>\n",
       "      <th>0</th>\n",
       "      <td>3419</td>\n",
       "      <td>749</td>\n",
       "      <td>Rules Human</td>\n",
       "      <td>6</td>\n",
       "      <td>4.99</td>\n",
       "      <td>153</td>\n",
       "      <td>19.99</td>\n",
       "      <td>R</td>\n",
       "      <td>Horror</td>\n",
       "      <td>English</td>\n",
       "      <td>1</td>\n",
       "      <td>1520</td>\n",
       "      <td>2005-06-15 23:57:20</td>\n",
       "      <td>341</td>\n",
       "      <td>2005-06-24 23:46:20</td>\n",
       "      <td>7.99</td>\n",
       "      <td>1</td>\n",
       "      <td>8.0</td>\n",
       "    </tr>\n",
       "    <tr>\n",
       "      <th>1</th>\n",
       "      <td>2512</td>\n",
       "      <td>552</td>\n",
       "      <td>Majestic Floats</td>\n",
       "      <td>5</td>\n",
       "      <td>0.99</td>\n",
       "      <td>130</td>\n",
       "      <td>15.99</td>\n",
       "      <td>PG</td>\n",
       "      <td>Documentary</td>\n",
       "      <td>English</td>\n",
       "      <td>2</td>\n",
       "      <td>1778</td>\n",
       "      <td>2005-06-16 18:54:48</td>\n",
       "      <td>341</td>\n",
       "      <td>2005-06-22 16:08:48</td>\n",
       "      <td>1.99</td>\n",
       "      <td>1</td>\n",
       "      <td>5.0</td>\n",
       "    </tr>\n",
       "    <tr>\n",
       "      <th>2</th>\n",
       "      <td>2507</td>\n",
       "      <td>551</td>\n",
       "      <td>Maiden Home</td>\n",
       "      <td>3</td>\n",
       "      <td>4.99</td>\n",
       "      <td>138</td>\n",
       "      <td>9.99</td>\n",
       "      <td>PG</td>\n",
       "      <td>New</td>\n",
       "      <td>English</td>\n",
       "      <td>1</td>\n",
       "      <td>1849</td>\n",
       "      <td>2005-06-17 00:13:19</td>\n",
       "      <td>341</td>\n",
       "      <td>2005-06-23 18:37:19</td>\n",
       "      <td>7.99</td>\n",
       "      <td>1</td>\n",
       "      <td>6.0</td>\n",
       "    </tr>\n",
       "    <tr>\n",
       "      <th>3</th>\n",
       "      <td>2047</td>\n",
       "      <td>445</td>\n",
       "      <td>Hyde Doctor</td>\n",
       "      <td>5</td>\n",
       "      <td>2.99</td>\n",
       "      <td>100</td>\n",
       "      <td>11.99</td>\n",
       "      <td>G</td>\n",
       "      <td>Classics</td>\n",
       "      <td>English</td>\n",
       "      <td>1</td>\n",
       "      <td>2829</td>\n",
       "      <td>2005-06-19 21:11:30</td>\n",
       "      <td>341</td>\n",
       "      <td>2005-06-24 18:10:30</td>\n",
       "      <td>2.99</td>\n",
       "      <td>1</td>\n",
       "      <td>4.0</td>\n",
       "    </tr>\n",
       "    <tr>\n",
       "      <th>4</th>\n",
       "      <td>2569</td>\n",
       "      <td>563</td>\n",
       "      <td>Massacre Usual</td>\n",
       "      <td>6</td>\n",
       "      <td>4.99</td>\n",
       "      <td>165</td>\n",
       "      <td>16.99</td>\n",
       "      <td>R</td>\n",
       "      <td>Games</td>\n",
       "      <td>English</td>\n",
       "      <td>1</td>\n",
       "      <td>3130</td>\n",
       "      <td>2005-06-20 19:03:22</td>\n",
       "      <td>341</td>\n",
       "      <td>2005-06-29 18:05:22</td>\n",
       "      <td>7.99</td>\n",
       "      <td>1</td>\n",
       "      <td>8.0</td>\n",
       "    </tr>\n",
       "  </tbody>\n",
       "</table>\n",
       "</div>"
      ],
      "text/plain": [
       "   inventory_id  film_id            title  rental_duration  rental_rate  \\\n",
       "0          3419      749      Rules Human                6         4.99   \n",
       "1          2512      552  Majestic Floats                5         0.99   \n",
       "2          2507      551      Maiden Home                3         4.99   \n",
       "3          2047      445      Hyde Doctor                5         2.99   \n",
       "4          2569      563   Massacre Usual                6         4.99   \n",
       "\n",
       "   length  replacement_cost rating     category              language  \\\n",
       "0     153             19.99      R       Horror  English                \n",
       "1     130             15.99     PG  Documentary  English                \n",
       "2     138              9.99     PG          New  English                \n",
       "3     100             11.99      G     Classics  English                \n",
       "4     165             16.99      R        Games  English                \n",
       "\n",
       "   store_id  rental_id         rental_date  customer_id         return_date  \\\n",
       "0         1       1520 2005-06-15 23:57:20          341 2005-06-24 23:46:20   \n",
       "1         2       1778 2005-06-16 18:54:48          341 2005-06-22 16:08:48   \n",
       "2         1       1849 2005-06-17 00:13:19          341 2005-06-23 18:37:19   \n",
       "3         1       2829 2005-06-19 21:11:30          341 2005-06-24 18:10:30   \n",
       "4         1       3130 2005-06-20 19:03:22          341 2005-06-29 18:05:22   \n",
       "\n",
       "   amount  active  rental_actual_duration  \n",
       "0    7.99       1                     8.0  \n",
       "1    1.99       1                     5.0  \n",
       "2    7.99       1                     6.0  \n",
       "3    2.99       1                     4.0  \n",
       "4    7.99       1                     8.0  "
      ]
     },
     "execution_count": 37,
     "metadata": {},
     "output_type": "execute_result"
    }
   ],
   "source": [
    "df.head()"
   ]
  },
  {
   "cell_type": "code",
   "execution_count": 38,
   "metadata": {},
   "outputs": [],
   "source": [
    "df.drop('rental_date', axis=1, inplace=True)\n",
    "df.drop('return_date', axis=1, inplace=True)\n",
    "df.drop('title',axis=1,inplace=True)\n",
    "df.drop(['inventory_id','film_id','store_id','rental_id','customer_id'], axis=1, inplace=True)\n",
    "df.drop('language',axis=1, inplace=True)"
   ]
  },
  {
   "cell_type": "code",
   "execution_count": 39,
   "metadata": {},
   "outputs": [],
   "source": [
    "df.drop('rental_duration', axis=1, inplace=True)"
   ]
  },
  {
   "cell_type": "code",
   "execution_count": 40,
   "metadata": {},
   "outputs": [
    {
     "data": {
      "text/html": [
       "<div>\n",
       "<style scoped>\n",
       "    .dataframe tbody tr th:only-of-type {\n",
       "        vertical-align: middle;\n",
       "    }\n",
       "\n",
       "    .dataframe tbody tr th {\n",
       "        vertical-align: top;\n",
       "    }\n",
       "\n",
       "    .dataframe thead th {\n",
       "        text-align: right;\n",
       "    }\n",
       "</style>\n",
       "<table border=\"1\" class=\"dataframe\">\n",
       "  <thead>\n",
       "    <tr style=\"text-align: right;\">\n",
       "      <th></th>\n",
       "      <th>rental_rate</th>\n",
       "      <th>length</th>\n",
       "      <th>replacement_cost</th>\n",
       "      <th>rating</th>\n",
       "      <th>category</th>\n",
       "      <th>amount</th>\n",
       "      <th>active</th>\n",
       "      <th>rental_actual_duration</th>\n",
       "    </tr>\n",
       "  </thead>\n",
       "  <tbody>\n",
       "    <tr>\n",
       "      <th>0</th>\n",
       "      <td>4.99</td>\n",
       "      <td>153</td>\n",
       "      <td>19.99</td>\n",
       "      <td>R</td>\n",
       "      <td>Horror</td>\n",
       "      <td>7.99</td>\n",
       "      <td>1</td>\n",
       "      <td>8.0</td>\n",
       "    </tr>\n",
       "    <tr>\n",
       "      <th>1</th>\n",
       "      <td>0.99</td>\n",
       "      <td>130</td>\n",
       "      <td>15.99</td>\n",
       "      <td>PG</td>\n",
       "      <td>Documentary</td>\n",
       "      <td>1.99</td>\n",
       "      <td>1</td>\n",
       "      <td>5.0</td>\n",
       "    </tr>\n",
       "    <tr>\n",
       "      <th>2</th>\n",
       "      <td>4.99</td>\n",
       "      <td>138</td>\n",
       "      <td>9.99</td>\n",
       "      <td>PG</td>\n",
       "      <td>New</td>\n",
       "      <td>7.99</td>\n",
       "      <td>1</td>\n",
       "      <td>6.0</td>\n",
       "    </tr>\n",
       "    <tr>\n",
       "      <th>3</th>\n",
       "      <td>2.99</td>\n",
       "      <td>100</td>\n",
       "      <td>11.99</td>\n",
       "      <td>G</td>\n",
       "      <td>Classics</td>\n",
       "      <td>2.99</td>\n",
       "      <td>1</td>\n",
       "      <td>4.0</td>\n",
       "    </tr>\n",
       "    <tr>\n",
       "      <th>4</th>\n",
       "      <td>4.99</td>\n",
       "      <td>165</td>\n",
       "      <td>16.99</td>\n",
       "      <td>R</td>\n",
       "      <td>Games</td>\n",
       "      <td>7.99</td>\n",
       "      <td>1</td>\n",
       "      <td>8.0</td>\n",
       "    </tr>\n",
       "  </tbody>\n",
       "</table>\n",
       "</div>"
      ],
      "text/plain": [
       "   rental_rate  length  replacement_cost rating     category  amount  active  \\\n",
       "0         4.99     153             19.99      R       Horror    7.99       1   \n",
       "1         0.99     130             15.99     PG  Documentary    1.99       1   \n",
       "2         4.99     138              9.99     PG          New    7.99       1   \n",
       "3         2.99     100             11.99      G     Classics    2.99       1   \n",
       "4         4.99     165             16.99      R        Games    7.99       1   \n",
       "\n",
       "   rental_actual_duration  \n",
       "0                     8.0  \n",
       "1                     5.0  \n",
       "2                     6.0  \n",
       "3                     4.0  \n",
       "4                     8.0  "
      ]
     },
     "execution_count": 40,
     "metadata": {},
     "output_type": "execute_result"
    }
   ],
   "source": [
    "df.head()"
   ]
  },
  {
   "cell_type": "code",
   "execution_count": 41,
   "metadata": {},
   "outputs": [],
   "source": [
    "df.dropna(inplace=True)"
   ]
  },
  {
   "cell_type": "code",
   "execution_count": 42,
   "metadata": {},
   "outputs": [],
   "source": [
    "df['rating'] = df['rating'].map({\"PG-13\":0,'NC-17':1,'PG':2,'R':3,\"G\":4}) #mapping\n",
    "df['category'] = df['category'].map({'Horror':0, 'Documentary':1, 'New':2, 'Classics':3, 'Games':4, 'Sci-Fi':5,\n",
    "       'Foreign':6, 'Family':7, 'Travel':8, 'Music':9, 'Sports':10, 'Comedy':11,\n",
    "       'Drama':12, 'Action':13, 'Children':14, 'Animation':15}) #mapping"
   ]
  },
  {
   "cell_type": "code",
   "execution_count": 43,
   "metadata": {},
   "outputs": [
    {
     "data": {
      "text/html": [
       "<div>\n",
       "<style scoped>\n",
       "    .dataframe tbody tr th:only-of-type {\n",
       "        vertical-align: middle;\n",
       "    }\n",
       "\n",
       "    .dataframe tbody tr th {\n",
       "        vertical-align: top;\n",
       "    }\n",
       "\n",
       "    .dataframe thead th {\n",
       "        text-align: right;\n",
       "    }\n",
       "</style>\n",
       "<table border=\"1\" class=\"dataframe\">\n",
       "  <thead>\n",
       "    <tr style=\"text-align: right;\">\n",
       "      <th></th>\n",
       "      <th>rental_rate</th>\n",
       "      <th>length</th>\n",
       "      <th>replacement_cost</th>\n",
       "      <th>rating</th>\n",
       "      <th>category</th>\n",
       "      <th>amount</th>\n",
       "      <th>active</th>\n",
       "      <th>rental_actual_duration</th>\n",
       "    </tr>\n",
       "  </thead>\n",
       "  <tbody>\n",
       "    <tr>\n",
       "      <th>0</th>\n",
       "      <td>4.99</td>\n",
       "      <td>153</td>\n",
       "      <td>19.99</td>\n",
       "      <td>3</td>\n",
       "      <td>0</td>\n",
       "      <td>7.99</td>\n",
       "      <td>1</td>\n",
       "      <td>8.0</td>\n",
       "    </tr>\n",
       "    <tr>\n",
       "      <th>1</th>\n",
       "      <td>0.99</td>\n",
       "      <td>130</td>\n",
       "      <td>15.99</td>\n",
       "      <td>2</td>\n",
       "      <td>1</td>\n",
       "      <td>1.99</td>\n",
       "      <td>1</td>\n",
       "      <td>5.0</td>\n",
       "    </tr>\n",
       "    <tr>\n",
       "      <th>2</th>\n",
       "      <td>4.99</td>\n",
       "      <td>138</td>\n",
       "      <td>9.99</td>\n",
       "      <td>2</td>\n",
       "      <td>2</td>\n",
       "      <td>7.99</td>\n",
       "      <td>1</td>\n",
       "      <td>6.0</td>\n",
       "    </tr>\n",
       "    <tr>\n",
       "      <th>3</th>\n",
       "      <td>2.99</td>\n",
       "      <td>100</td>\n",
       "      <td>11.99</td>\n",
       "      <td>4</td>\n",
       "      <td>3</td>\n",
       "      <td>2.99</td>\n",
       "      <td>1</td>\n",
       "      <td>4.0</td>\n",
       "    </tr>\n",
       "    <tr>\n",
       "      <th>4</th>\n",
       "      <td>4.99</td>\n",
       "      <td>165</td>\n",
       "      <td>16.99</td>\n",
       "      <td>3</td>\n",
       "      <td>4</td>\n",
       "      <td>7.99</td>\n",
       "      <td>1</td>\n",
       "      <td>8.0</td>\n",
       "    </tr>\n",
       "  </tbody>\n",
       "</table>\n",
       "</div>"
      ],
      "text/plain": [
       "   rental_rate  length  replacement_cost  rating  category  amount  active  \\\n",
       "0         4.99     153             19.99       3         0    7.99       1   \n",
       "1         0.99     130             15.99       2         1    1.99       1   \n",
       "2         4.99     138              9.99       2         2    7.99       1   \n",
       "3         2.99     100             11.99       4         3    2.99       1   \n",
       "4         4.99     165             16.99       3         4    7.99       1   \n",
       "\n",
       "   rental_actual_duration  \n",
       "0                     8.0  \n",
       "1                     5.0  \n",
       "2                     6.0  \n",
       "3                     4.0  \n",
       "4                     8.0  "
      ]
     },
     "execution_count": 43,
     "metadata": {},
     "output_type": "execute_result"
    }
   ],
   "source": [
    "df.head()"
   ]
  },
  {
   "cell_type": "code",
   "execution_count": 44,
   "metadata": {},
   "outputs": [],
   "source": [
    "# Separate features and target\n",
    "x = df.drop('amount', axis=1)  # Replace 'revenue_column' with the actual column name for revenue\n",
    "y = df['amount']"
   ]
  },
  {
   "cell_type": "code",
   "execution_count": 45,
   "metadata": {},
   "outputs": [],
   "source": [
    "x_train,x_test,y_train,y_test = train_test_split(x,y,test_size=0.25)"
   ]
  },
  {
   "cell_type": "code",
   "execution_count": 46,
   "metadata": {},
   "outputs": [
    {
     "data": {
      "text/html": [
       "<div>\n",
       "<style scoped>\n",
       "    .dataframe tbody tr th:only-of-type {\n",
       "        vertical-align: middle;\n",
       "    }\n",
       "\n",
       "    .dataframe tbody tr th {\n",
       "        vertical-align: top;\n",
       "    }\n",
       "\n",
       "    .dataframe thead th {\n",
       "        text-align: right;\n",
       "    }\n",
       "</style>\n",
       "<table border=\"1\" class=\"dataframe\">\n",
       "  <thead>\n",
       "    <tr style=\"text-align: right;\">\n",
       "      <th></th>\n",
       "      <th>rental_rate</th>\n",
       "      <th>length</th>\n",
       "      <th>replacement_cost</th>\n",
       "      <th>rating</th>\n",
       "      <th>category</th>\n",
       "      <th>active</th>\n",
       "      <th>rental_actual_duration</th>\n",
       "    </tr>\n",
       "  </thead>\n",
       "  <tbody>\n",
       "    <tr>\n",
       "      <th>13667</th>\n",
       "      <td>2.99</td>\n",
       "      <td>141</td>\n",
       "      <td>21.99</td>\n",
       "      <td>0</td>\n",
       "      <td>7</td>\n",
       "      <td>1</td>\n",
       "      <td>3.0</td>\n",
       "    </tr>\n",
       "    <tr>\n",
       "      <th>10394</th>\n",
       "      <td>2.99</td>\n",
       "      <td>184</td>\n",
       "      <td>27.99</td>\n",
       "      <td>0</td>\n",
       "      <td>3</td>\n",
       "      <td>1</td>\n",
       "      <td>2.0</td>\n",
       "    </tr>\n",
       "    <tr>\n",
       "      <th>13279</th>\n",
       "      <td>2.99</td>\n",
       "      <td>90</td>\n",
       "      <td>25.99</td>\n",
       "      <td>1</td>\n",
       "      <td>4</td>\n",
       "      <td>1</td>\n",
       "      <td>7.0</td>\n",
       "    </tr>\n",
       "    <tr>\n",
       "      <th>12448</th>\n",
       "      <td>2.99</td>\n",
       "      <td>152</td>\n",
       "      <td>9.99</td>\n",
       "      <td>0</td>\n",
       "      <td>15</td>\n",
       "      <td>1</td>\n",
       "      <td>7.0</td>\n",
       "    </tr>\n",
       "    <tr>\n",
       "      <th>4333</th>\n",
       "      <td>4.99</td>\n",
       "      <td>112</td>\n",
       "      <td>14.99</td>\n",
       "      <td>4</td>\n",
       "      <td>11</td>\n",
       "      <td>1</td>\n",
       "      <td>5.0</td>\n",
       "    </tr>\n",
       "    <tr>\n",
       "      <th>...</th>\n",
       "      <td>...</td>\n",
       "      <td>...</td>\n",
       "      <td>...</td>\n",
       "      <td>...</td>\n",
       "      <td>...</td>\n",
       "      <td>...</td>\n",
       "      <td>...</td>\n",
       "    </tr>\n",
       "    <tr>\n",
       "      <th>4442</th>\n",
       "      <td>0.99</td>\n",
       "      <td>118</td>\n",
       "      <td>19.99</td>\n",
       "      <td>0</td>\n",
       "      <td>9</td>\n",
       "      <td>1</td>\n",
       "      <td>7.0</td>\n",
       "    </tr>\n",
       "    <tr>\n",
       "      <th>1960</th>\n",
       "      <td>0.99</td>\n",
       "      <td>125</td>\n",
       "      <td>21.99</td>\n",
       "      <td>1</td>\n",
       "      <td>13</td>\n",
       "      <td>1</td>\n",
       "      <td>1.0</td>\n",
       "    </tr>\n",
       "    <tr>\n",
       "      <th>1417</th>\n",
       "      <td>4.99</td>\n",
       "      <td>50</td>\n",
       "      <td>18.99</td>\n",
       "      <td>1</td>\n",
       "      <td>11</td>\n",
       "      <td>1</td>\n",
       "      <td>7.0</td>\n",
       "    </tr>\n",
       "    <tr>\n",
       "      <th>4630</th>\n",
       "      <td>2.99</td>\n",
       "      <td>146</td>\n",
       "      <td>25.99</td>\n",
       "      <td>0</td>\n",
       "      <td>7</td>\n",
       "      <td>1</td>\n",
       "      <td>7.0</td>\n",
       "    </tr>\n",
       "    <tr>\n",
       "      <th>4345</th>\n",
       "      <td>2.99</td>\n",
       "      <td>136</td>\n",
       "      <td>14.99</td>\n",
       "      <td>2</td>\n",
       "      <td>11</td>\n",
       "      <td>1</td>\n",
       "      <td>1.0</td>\n",
       "    </tr>\n",
       "  </tbody>\n",
       "</table>\n",
       "<p>10809 rows × 7 columns</p>\n",
       "</div>"
      ],
      "text/plain": [
       "       rental_rate  length  replacement_cost  rating  category  active  \\\n",
       "13667         2.99     141             21.99       0         7       1   \n",
       "10394         2.99     184             27.99       0         3       1   \n",
       "13279         2.99      90             25.99       1         4       1   \n",
       "12448         2.99     152              9.99       0        15       1   \n",
       "4333          4.99     112             14.99       4        11       1   \n",
       "...            ...     ...               ...     ...       ...     ...   \n",
       "4442          0.99     118             19.99       0         9       1   \n",
       "1960          0.99     125             21.99       1        13       1   \n",
       "1417          4.99      50             18.99       1        11       1   \n",
       "4630          2.99     146             25.99       0         7       1   \n",
       "4345          2.99     136             14.99       2        11       1   \n",
       "\n",
       "       rental_actual_duration  \n",
       "13667                     3.0  \n",
       "10394                     2.0  \n",
       "13279                     7.0  \n",
       "12448                     7.0  \n",
       "4333                      5.0  \n",
       "...                       ...  \n",
       "4442                      7.0  \n",
       "1960                      1.0  \n",
       "1417                      7.0  \n",
       "4630                      7.0  \n",
       "4345                      1.0  \n",
       "\n",
       "[10809 rows x 7 columns]"
      ]
     },
     "execution_count": 46,
     "metadata": {},
     "output_type": "execute_result"
    }
   ],
   "source": [
    "x_train"
   ]
  },
  {
   "cell_type": "markdown",
   "metadata": {},
   "source": [
    "# Deep Learning"
   ]
  },
  {
   "cell_type": "code",
   "execution_count": 47,
   "metadata": {},
   "outputs": [
    {
     "name": "stderr",
     "output_type": "stream",
     "text": [
      "/Users/saro/Desktop/dvdrentaldl/.venv/lib/python3.9/site-packages/keras/src/layers/core/dense.py:87: UserWarning: Do not pass an `input_shape`/`input_dim` argument to a layer. When using Sequential models, prefer using an `Input(shape)` object as the first layer in the model instead.\n",
      "  super().__init__(activity_regularizer=activity_regularizer, **kwargs)\n"
     ]
    }
   ],
   "source": [
    "model1 = Sequential()\n",
    "# Input layer (match input shape to your data)\n",
    "model1.add(Dense(512, input_dim=x_train.shape[1], activation='relu'))\n",
    "\n",
    "# Hidden layers\n",
    "model1.add(Dense(256, activation='relu'))\n",
    "model1.add(Dense(256, activation='relu'))\n",
    "model1.add(Dense(128, activation='relu'))\n",
    "model1.add(Dense(128, activation='relu'))\n",
    "model1.add(Dense(64, activation='relu'))\n",
    "model1.add(Dense(16, activation='relu'))\n",
    "\n",
    "\n",
    "model1.add(Dense(1))\n",
    "\n",
    "# Compile the model for regression with 'mse' loss function\n",
    "model1.compile(optimizer='adam', loss='mean_squared_error', metrics=[MeanSquaredError(), MeanAbsoluteError()])"
   ]
  },
  {
   "cell_type": "code",
   "execution_count": 48,
   "metadata": {},
   "outputs": [
    {
     "data": {
      "text/html": [
       "<pre style=\"white-space:pre;overflow-x:auto;line-height:normal;font-family:Menlo,'DejaVu Sans Mono',consolas,'Courier New',monospace\"><span style=\"font-weight: bold\">Model: \"sequential_1\"</span>\n",
       "</pre>\n"
      ],
      "text/plain": [
       "\u001b[1mModel: \"sequential_1\"\u001b[0m\n"
      ]
     },
     "metadata": {},
     "output_type": "display_data"
    },
    {
     "data": {
      "text/html": [
       "<pre style=\"white-space:pre;overflow-x:auto;line-height:normal;font-family:Menlo,'DejaVu Sans Mono',consolas,'Courier New',monospace\">┏━━━━━━━━━━━━━━━━━━━━━━━━━━━━━━━━━┳━━━━━━━━━━━━━━━━━━━━━━━━┳━━━━━━━━━━━━━━━┓\n",
       "┃<span style=\"font-weight: bold\"> Layer (type)                    </span>┃<span style=\"font-weight: bold\"> Output Shape           </span>┃<span style=\"font-weight: bold\">       Param # </span>┃\n",
       "┡━━━━━━━━━━━━━━━━━━━━━━━━━━━━━━━━━╇━━━━━━━━━━━━━━━━━━━━━━━━╇━━━━━━━━━━━━━━━┩\n",
       "│ dense_8 (<span style=\"color: #0087ff; text-decoration-color: #0087ff\">Dense</span>)                 │ (<span style=\"color: #00d7ff; text-decoration-color: #00d7ff\">None</span>, <span style=\"color: #00af00; text-decoration-color: #00af00\">512</span>)            │         <span style=\"color: #00af00; text-decoration-color: #00af00\">4,096</span> │\n",
       "├─────────────────────────────────┼────────────────────────┼───────────────┤\n",
       "│ dense_9 (<span style=\"color: #0087ff; text-decoration-color: #0087ff\">Dense</span>)                 │ (<span style=\"color: #00d7ff; text-decoration-color: #00d7ff\">None</span>, <span style=\"color: #00af00; text-decoration-color: #00af00\">256</span>)            │       <span style=\"color: #00af00; text-decoration-color: #00af00\">131,328</span> │\n",
       "├─────────────────────────────────┼────────────────────────┼───────────────┤\n",
       "│ dense_10 (<span style=\"color: #0087ff; text-decoration-color: #0087ff\">Dense</span>)                │ (<span style=\"color: #00d7ff; text-decoration-color: #00d7ff\">None</span>, <span style=\"color: #00af00; text-decoration-color: #00af00\">256</span>)            │        <span style=\"color: #00af00; text-decoration-color: #00af00\">65,792</span> │\n",
       "├─────────────────────────────────┼────────────────────────┼───────────────┤\n",
       "│ dense_11 (<span style=\"color: #0087ff; text-decoration-color: #0087ff\">Dense</span>)                │ (<span style=\"color: #00d7ff; text-decoration-color: #00d7ff\">None</span>, <span style=\"color: #00af00; text-decoration-color: #00af00\">128</span>)            │        <span style=\"color: #00af00; text-decoration-color: #00af00\">32,896</span> │\n",
       "├─────────────────────────────────┼────────────────────────┼───────────────┤\n",
       "│ dense_12 (<span style=\"color: #0087ff; text-decoration-color: #0087ff\">Dense</span>)                │ (<span style=\"color: #00d7ff; text-decoration-color: #00d7ff\">None</span>, <span style=\"color: #00af00; text-decoration-color: #00af00\">128</span>)            │        <span style=\"color: #00af00; text-decoration-color: #00af00\">16,512</span> │\n",
       "├─────────────────────────────────┼────────────────────────┼───────────────┤\n",
       "│ dense_13 (<span style=\"color: #0087ff; text-decoration-color: #0087ff\">Dense</span>)                │ (<span style=\"color: #00d7ff; text-decoration-color: #00d7ff\">None</span>, <span style=\"color: #00af00; text-decoration-color: #00af00\">64</span>)             │         <span style=\"color: #00af00; text-decoration-color: #00af00\">8,256</span> │\n",
       "├─────────────────────────────────┼────────────────────────┼───────────────┤\n",
       "│ dense_14 (<span style=\"color: #0087ff; text-decoration-color: #0087ff\">Dense</span>)                │ (<span style=\"color: #00d7ff; text-decoration-color: #00d7ff\">None</span>, <span style=\"color: #00af00; text-decoration-color: #00af00\">16</span>)             │         <span style=\"color: #00af00; text-decoration-color: #00af00\">1,040</span> │\n",
       "├─────────────────────────────────┼────────────────────────┼───────────────┤\n",
       "│ dense_15 (<span style=\"color: #0087ff; text-decoration-color: #0087ff\">Dense</span>)                │ (<span style=\"color: #00d7ff; text-decoration-color: #00d7ff\">None</span>, <span style=\"color: #00af00; text-decoration-color: #00af00\">1</span>)              │            <span style=\"color: #00af00; text-decoration-color: #00af00\">17</span> │\n",
       "└─────────────────────────────────┴────────────────────────┴───────────────┘\n",
       "</pre>\n"
      ],
      "text/plain": [
       "┏━━━━━━━━━━━━━━━━━━━━━━━━━━━━━━━━━┳━━━━━━━━━━━━━━━━━━━━━━━━┳━━━━━━━━━━━━━━━┓\n",
       "┃\u001b[1m \u001b[0m\u001b[1mLayer (type)                   \u001b[0m\u001b[1m \u001b[0m┃\u001b[1m \u001b[0m\u001b[1mOutput Shape          \u001b[0m\u001b[1m \u001b[0m┃\u001b[1m \u001b[0m\u001b[1m      Param #\u001b[0m\u001b[1m \u001b[0m┃\n",
       "┡━━━━━━━━━━━━━━━━━━━━━━━━━━━━━━━━━╇━━━━━━━━━━━━━━━━━━━━━━━━╇━━━━━━━━━━━━━━━┩\n",
       "│ dense_8 (\u001b[38;5;33mDense\u001b[0m)                 │ (\u001b[38;5;45mNone\u001b[0m, \u001b[38;5;34m512\u001b[0m)            │         \u001b[38;5;34m4,096\u001b[0m │\n",
       "├─────────────────────────────────┼────────────────────────┼───────────────┤\n",
       "│ dense_9 (\u001b[38;5;33mDense\u001b[0m)                 │ (\u001b[38;5;45mNone\u001b[0m, \u001b[38;5;34m256\u001b[0m)            │       \u001b[38;5;34m131,328\u001b[0m │\n",
       "├─────────────────────────────────┼────────────────────────┼───────────────┤\n",
       "│ dense_10 (\u001b[38;5;33mDense\u001b[0m)                │ (\u001b[38;5;45mNone\u001b[0m, \u001b[38;5;34m256\u001b[0m)            │        \u001b[38;5;34m65,792\u001b[0m │\n",
       "├─────────────────────────────────┼────────────────────────┼───────────────┤\n",
       "│ dense_11 (\u001b[38;5;33mDense\u001b[0m)                │ (\u001b[38;5;45mNone\u001b[0m, \u001b[38;5;34m128\u001b[0m)            │        \u001b[38;5;34m32,896\u001b[0m │\n",
       "├─────────────────────────────────┼────────────────────────┼───────────────┤\n",
       "│ dense_12 (\u001b[38;5;33mDense\u001b[0m)                │ (\u001b[38;5;45mNone\u001b[0m, \u001b[38;5;34m128\u001b[0m)            │        \u001b[38;5;34m16,512\u001b[0m │\n",
       "├─────────────────────────────────┼────────────────────────┼───────────────┤\n",
       "│ dense_13 (\u001b[38;5;33mDense\u001b[0m)                │ (\u001b[38;5;45mNone\u001b[0m, \u001b[38;5;34m64\u001b[0m)             │         \u001b[38;5;34m8,256\u001b[0m │\n",
       "├─────────────────────────────────┼────────────────────────┼───────────────┤\n",
       "│ dense_14 (\u001b[38;5;33mDense\u001b[0m)                │ (\u001b[38;5;45mNone\u001b[0m, \u001b[38;5;34m16\u001b[0m)             │         \u001b[38;5;34m1,040\u001b[0m │\n",
       "├─────────────────────────────────┼────────────────────────┼───────────────┤\n",
       "│ dense_15 (\u001b[38;5;33mDense\u001b[0m)                │ (\u001b[38;5;45mNone\u001b[0m, \u001b[38;5;34m1\u001b[0m)              │            \u001b[38;5;34m17\u001b[0m │\n",
       "└─────────────────────────────────┴────────────────────────┴───────────────┘\n"
      ]
     },
     "metadata": {},
     "output_type": "display_data"
    },
    {
     "data": {
      "text/html": [
       "<pre style=\"white-space:pre;overflow-x:auto;line-height:normal;font-family:Menlo,'DejaVu Sans Mono',consolas,'Courier New',monospace\"><span style=\"font-weight: bold\"> Total params: </span><span style=\"color: #00af00; text-decoration-color: #00af00\">259,937</span> (1015.38 KB)\n",
       "</pre>\n"
      ],
      "text/plain": [
       "\u001b[1m Total params: \u001b[0m\u001b[38;5;34m259,937\u001b[0m (1015.38 KB)\n"
      ]
     },
     "metadata": {},
     "output_type": "display_data"
    },
    {
     "data": {
      "text/html": [
       "<pre style=\"white-space:pre;overflow-x:auto;line-height:normal;font-family:Menlo,'DejaVu Sans Mono',consolas,'Courier New',monospace\"><span style=\"font-weight: bold\"> Trainable params: </span><span style=\"color: #00af00; text-decoration-color: #00af00\">259,937</span> (1015.38 KB)\n",
       "</pre>\n"
      ],
      "text/plain": [
       "\u001b[1m Trainable params: \u001b[0m\u001b[38;5;34m259,937\u001b[0m (1015.38 KB)\n"
      ]
     },
     "metadata": {},
     "output_type": "display_data"
    },
    {
     "data": {
      "text/html": [
       "<pre style=\"white-space:pre;overflow-x:auto;line-height:normal;font-family:Menlo,'DejaVu Sans Mono',consolas,'Courier New',monospace\"><span style=\"font-weight: bold\"> Non-trainable params: </span><span style=\"color: #00af00; text-decoration-color: #00af00\">0</span> (0.00 B)\n",
       "</pre>\n"
      ],
      "text/plain": [
       "\u001b[1m Non-trainable params: \u001b[0m\u001b[38;5;34m0\u001b[0m (0.00 B)\n"
      ]
     },
     "metadata": {},
     "output_type": "display_data"
    }
   ],
   "source": [
    "model1.summary()"
   ]
  },
  {
   "cell_type": "code",
   "execution_count": 49,
   "metadata": {},
   "outputs": [
    {
     "name": "stdout",
     "output_type": "stream",
     "text": [
      "Epoch 1/100\n",
      "\u001b[1m338/338\u001b[0m \u001b[32m━━━━━━━━━━━━━━━━━━━━\u001b[0m\u001b[37m\u001b[0m \u001b[1m2s\u001b[0m 3ms/step - loss: 4.9197 - mean_absolute_error: 1.6293 - mean_squared_error: 4.9197 - val_loss: 1.3620 - val_mean_absolute_error: 0.9025 - val_mean_squared_error: 1.3620\n",
      "Epoch 2/100\n",
      "\u001b[1m338/338\u001b[0m \u001b[32m━━━━━━━━━━━━━━━━━━━━\u001b[0m\u001b[37m\u001b[0m \u001b[1m1s\u001b[0m 2ms/step - loss: 1.4214 - mean_absolute_error: 0.9278 - mean_squared_error: 1.4214 - val_loss: 1.5387 - val_mean_absolute_error: 0.9315 - val_mean_squared_error: 1.5387\n",
      "Epoch 3/100\n",
      "\u001b[1m338/338\u001b[0m \u001b[32m━━━━━━━━━━━━━━━━━━━━\u001b[0m\u001b[37m\u001b[0m \u001b[1m1s\u001b[0m 2ms/step - loss: 1.3464 - mean_absolute_error: 0.8949 - mean_squared_error: 1.3464 - val_loss: 1.3946 - val_mean_absolute_error: 0.9378 - val_mean_squared_error: 1.3946\n",
      "Epoch 4/100\n",
      "\u001b[1m338/338\u001b[0m \u001b[32m━━━━━━━━━━━━━━━━━━━━\u001b[0m\u001b[37m\u001b[0m \u001b[1m1s\u001b[0m 2ms/step - loss: 1.2857 - mean_absolute_error: 0.8615 - mean_squared_error: 1.2857 - val_loss: 1.1429 - val_mean_absolute_error: 0.7907 - val_mean_squared_error: 1.1429\n",
      "Epoch 5/100\n",
      "\u001b[1m338/338\u001b[0m \u001b[32m━━━━━━━━━━━━━━━━━━━━\u001b[0m\u001b[37m\u001b[0m \u001b[1m1s\u001b[0m 2ms/step - loss: 1.2079 - mean_absolute_error: 0.8177 - mean_squared_error: 1.2079 - val_loss: 2.0240 - val_mean_absolute_error: 1.1432 - val_mean_squared_error: 2.0240\n",
      "Epoch 6/100\n",
      "\u001b[1m338/338\u001b[0m \u001b[32m━━━━━━━━━━━━━━━━━━━━\u001b[0m\u001b[37m\u001b[0m \u001b[1m1s\u001b[0m 2ms/step - loss: 1.2590 - mean_absolute_error: 0.8342 - mean_squared_error: 1.2590 - val_loss: 1.1082 - val_mean_absolute_error: 0.7577 - val_mean_squared_error: 1.1082\n",
      "Epoch 7/100\n",
      "\u001b[1m338/338\u001b[0m \u001b[32m━━━━━━━━━━━━━━━━━━━━\u001b[0m\u001b[37m\u001b[0m \u001b[1m1s\u001b[0m 2ms/step - loss: 1.1697 - mean_absolute_error: 0.7972 - mean_squared_error: 1.1697 - val_loss: 1.1284 - val_mean_absolute_error: 0.7861 - val_mean_squared_error: 1.1284\n",
      "Epoch 8/100\n",
      "\u001b[1m338/338\u001b[0m \u001b[32m━━━━━━━━━━━━━━━━━━━━\u001b[0m\u001b[37m\u001b[0m \u001b[1m1s\u001b[0m 2ms/step - loss: 1.1295 - mean_absolute_error: 0.7827 - mean_squared_error: 1.1295 - val_loss: 1.0845 - val_mean_absolute_error: 0.7358 - val_mean_squared_error: 1.0845\n",
      "Epoch 9/100\n",
      "\u001b[1m338/338\u001b[0m \u001b[32m━━━━━━━━━━━━━━━━━━━━\u001b[0m\u001b[37m\u001b[0m \u001b[1m1s\u001b[0m 2ms/step - loss: 1.1030 - mean_absolute_error: 0.7584 - mean_squared_error: 1.1030 - val_loss: 1.0883 - val_mean_absolute_error: 0.7372 - val_mean_squared_error: 1.0883\n",
      "Epoch 10/100\n",
      "\u001b[1m338/338\u001b[0m \u001b[32m━━━━━━━━━━━━━━━━━━━━\u001b[0m\u001b[37m\u001b[0m \u001b[1m1s\u001b[0m 2ms/step - loss: 1.1196 - mean_absolute_error: 0.7700 - mean_squared_error: 1.1196 - val_loss: 1.1938 - val_mean_absolute_error: 0.7595 - val_mean_squared_error: 1.1938\n",
      "Epoch 11/100\n",
      "\u001b[1m338/338\u001b[0m \u001b[32m━━━━━━━━━━━━━━━━━━━━\u001b[0m\u001b[37m\u001b[0m \u001b[1m1s\u001b[0m 2ms/step - loss: 1.1023 - mean_absolute_error: 0.7648 - mean_squared_error: 1.1023 - val_loss: 1.1023 - val_mean_absolute_error: 0.7365 - val_mean_squared_error: 1.1023\n",
      "Epoch 12/100\n",
      "\u001b[1m338/338\u001b[0m \u001b[32m━━━━━━━━━━━━━━━━━━━━\u001b[0m\u001b[37m\u001b[0m \u001b[1m1s\u001b[0m 2ms/step - loss: 1.0875 - mean_absolute_error: 0.7508 - mean_squared_error: 1.0875 - val_loss: 1.1373 - val_mean_absolute_error: 0.7583 - val_mean_squared_error: 1.1373\n",
      "Epoch 13/100\n",
      "\u001b[1m338/338\u001b[0m \u001b[32m━━━━━━━━━━━━━━━━━━━━\u001b[0m\u001b[37m\u001b[0m \u001b[1m1s\u001b[0m 2ms/step - loss: 1.0943 - mean_absolute_error: 0.7522 - mean_squared_error: 1.0943 - val_loss: 1.0849 - val_mean_absolute_error: 0.7520 - val_mean_squared_error: 1.0849\n",
      "Epoch 14/100\n",
      "\u001b[1m338/338\u001b[0m \u001b[32m━━━━━━━━━━━━━━━━━━━━\u001b[0m\u001b[37m\u001b[0m \u001b[1m1s\u001b[0m 2ms/step - loss: 1.0859 - mean_absolute_error: 0.7569 - mean_squared_error: 1.0859 - val_loss: 1.1866 - val_mean_absolute_error: 0.7454 - val_mean_squared_error: 1.1866\n",
      "Epoch 15/100\n",
      "\u001b[1m338/338\u001b[0m \u001b[32m━━━━━━━━━━━━━━━━━━━━\u001b[0m\u001b[37m\u001b[0m \u001b[1m1s\u001b[0m 2ms/step - loss: 1.0595 - mean_absolute_error: 0.7428 - mean_squared_error: 1.0595 - val_loss: 1.1568 - val_mean_absolute_error: 0.7873 - val_mean_squared_error: 1.1568\n",
      "Epoch 16/100\n",
      "\u001b[1m338/338\u001b[0m \u001b[32m━━━━━━━━━━━━━━━━━━━━\u001b[0m\u001b[37m\u001b[0m \u001b[1m1s\u001b[0m 2ms/step - loss: 1.0541 - mean_absolute_error: 0.7360 - mean_squared_error: 1.0541 - val_loss: 1.2470 - val_mean_absolute_error: 0.7704 - val_mean_squared_error: 1.2470\n",
      "Epoch 17/100\n",
      "\u001b[1m338/338\u001b[0m \u001b[32m━━━━━━━━━━━━━━━━━━━━\u001b[0m\u001b[37m\u001b[0m \u001b[1m1s\u001b[0m 2ms/step - loss: 1.0710 - mean_absolute_error: 0.7434 - mean_squared_error: 1.0710 - val_loss: 1.1262 - val_mean_absolute_error: 0.7548 - val_mean_squared_error: 1.1262\n",
      "Epoch 18/100\n",
      "\u001b[1m338/338\u001b[0m \u001b[32m━━━━━━━━━━━━━━━━━━━━\u001b[0m\u001b[37m\u001b[0m \u001b[1m1s\u001b[0m 2ms/step - loss: 1.1279 - mean_absolute_error: 0.7719 - mean_squared_error: 1.1279 - val_loss: 1.0654 - val_mean_absolute_error: 0.7312 - val_mean_squared_error: 1.0654\n",
      "Epoch 19/100\n",
      "\u001b[1m338/338\u001b[0m \u001b[32m━━━━━━━━━━━━━━━━━━━━\u001b[0m\u001b[37m\u001b[0m \u001b[1m1s\u001b[0m 2ms/step - loss: 1.0540 - mean_absolute_error: 0.7293 - mean_squared_error: 1.0540 - val_loss: 1.0753 - val_mean_absolute_error: 0.7352 - val_mean_squared_error: 1.0753\n",
      "Epoch 20/100\n",
      "\u001b[1m338/338\u001b[0m \u001b[32m━━━━━━━━━━━━━━━━━━━━\u001b[0m\u001b[37m\u001b[0m \u001b[1m1s\u001b[0m 2ms/step - loss: 1.0758 - mean_absolute_error: 0.7436 - mean_squared_error: 1.0758 - val_loss: 1.1528 - val_mean_absolute_error: 0.7541 - val_mean_squared_error: 1.1528\n",
      "Epoch 21/100\n",
      "\u001b[1m338/338\u001b[0m \u001b[32m━━━━━━━━━━━━━━━━━━━━\u001b[0m\u001b[37m\u001b[0m \u001b[1m1s\u001b[0m 2ms/step - loss: 1.0693 - mean_absolute_error: 0.7431 - mean_squared_error: 1.0693 - val_loss: 1.0640 - val_mean_absolute_error: 0.7188 - val_mean_squared_error: 1.0640\n",
      "Epoch 22/100\n",
      "\u001b[1m338/338\u001b[0m \u001b[32m━━━━━━━━━━━━━━━━━━━━\u001b[0m\u001b[37m\u001b[0m \u001b[1m1s\u001b[0m 2ms/step - loss: 1.0521 - mean_absolute_error: 0.7321 - mean_squared_error: 1.0521 - val_loss: 1.0814 - val_mean_absolute_error: 0.7321 - val_mean_squared_error: 1.0814\n",
      "Epoch 23/100\n",
      "\u001b[1m338/338\u001b[0m \u001b[32m━━━━━━━━━━━━━━━━━━━━\u001b[0m\u001b[37m\u001b[0m \u001b[1m1s\u001b[0m 2ms/step - loss: 1.0300 - mean_absolute_error: 0.7196 - mean_squared_error: 1.0300 - val_loss: 1.0687 - val_mean_absolute_error: 0.7587 - val_mean_squared_error: 1.0687\n",
      "Epoch 24/100\n",
      "\u001b[1m338/338\u001b[0m \u001b[32m━━━━━━━━━━━━━━━━━━━━\u001b[0m\u001b[37m\u001b[0m \u001b[1m1s\u001b[0m 2ms/step - loss: 1.0193 - mean_absolute_error: 0.7184 - mean_squared_error: 1.0193 - val_loss: 1.0589 - val_mean_absolute_error: 0.7279 - val_mean_squared_error: 1.0589\n",
      "Epoch 25/100\n",
      "\u001b[1m338/338\u001b[0m \u001b[32m━━━━━━━━━━━━━━━━━━━━\u001b[0m\u001b[37m\u001b[0m \u001b[1m1s\u001b[0m 2ms/step - loss: 1.0469 - mean_absolute_error: 0.7313 - mean_squared_error: 1.0469 - val_loss: 1.0877 - val_mean_absolute_error: 0.7260 - val_mean_squared_error: 1.0877\n",
      "Epoch 26/100\n",
      "\u001b[1m338/338\u001b[0m \u001b[32m━━━━━━━━━━━━━━━━━━━━\u001b[0m\u001b[37m\u001b[0m \u001b[1m1s\u001b[0m 2ms/step - loss: 1.0855 - mean_absolute_error: 0.7425 - mean_squared_error: 1.0855 - val_loss: 1.0725 - val_mean_absolute_error: 0.7044 - val_mean_squared_error: 1.0725\n",
      "Epoch 27/100\n",
      "\u001b[1m338/338\u001b[0m \u001b[32m━━━━━━━━━━━━━━━━━━━━\u001b[0m\u001b[37m\u001b[0m \u001b[1m1s\u001b[0m 2ms/step - loss: 0.9985 - mean_absolute_error: 0.6997 - mean_squared_error: 0.9985 - val_loss: 1.3177 - val_mean_absolute_error: 0.8933 - val_mean_squared_error: 1.3177\n",
      "Epoch 28/100\n",
      "\u001b[1m338/338\u001b[0m \u001b[32m━━━━━━━━━━━━━━━━━━━━\u001b[0m\u001b[37m\u001b[0m \u001b[1m1s\u001b[0m 2ms/step - loss: 1.0786 - mean_absolute_error: 0.7416 - mean_squared_error: 1.0786 - val_loss: 1.0621 - val_mean_absolute_error: 0.7282 - val_mean_squared_error: 1.0621\n",
      "Epoch 29/100\n",
      "\u001b[1m338/338\u001b[0m \u001b[32m━━━━━━━━━━━━━━━━━━━━\u001b[0m\u001b[37m\u001b[0m \u001b[1m1s\u001b[0m 2ms/step - loss: 1.0019 - mean_absolute_error: 0.7057 - mean_squared_error: 1.0019 - val_loss: 1.0278 - val_mean_absolute_error: 0.7149 - val_mean_squared_error: 1.0278\n",
      "Epoch 30/100\n",
      "\u001b[1m338/338\u001b[0m \u001b[32m━━━━━━━━━━━━━━━━━━━━\u001b[0m\u001b[37m\u001b[0m \u001b[1m1s\u001b[0m 2ms/step - loss: 1.0359 - mean_absolute_error: 0.7201 - mean_squared_error: 1.0359 - val_loss: 1.1663 - val_mean_absolute_error: 0.8141 - val_mean_squared_error: 1.1663\n",
      "Epoch 31/100\n",
      "\u001b[1m338/338\u001b[0m \u001b[32m━━━━━━━━━━━━━━━━━━━━\u001b[0m\u001b[37m\u001b[0m \u001b[1m1s\u001b[0m 4ms/step - loss: 1.0168 - mean_absolute_error: 0.7190 - mean_squared_error: 1.0168 - val_loss: 1.0607 - val_mean_absolute_error: 0.7087 - val_mean_squared_error: 1.0607\n",
      "Epoch 32/100\n",
      "\u001b[1m338/338\u001b[0m \u001b[32m━━━━━━━━━━━━━━━━━━━━\u001b[0m\u001b[37m\u001b[0m \u001b[1m1s\u001b[0m 3ms/step - loss: 1.0156 - mean_absolute_error: 0.7104 - mean_squared_error: 1.0156 - val_loss: 1.0968 - val_mean_absolute_error: 0.7345 - val_mean_squared_error: 1.0968\n",
      "Epoch 33/100\n",
      "\u001b[1m338/338\u001b[0m \u001b[32m━━━━━━━━━━━━━━━━━━━━\u001b[0m\u001b[37m\u001b[0m \u001b[1m1s\u001b[0m 2ms/step - loss: 1.0385 - mean_absolute_error: 0.7211 - mean_squared_error: 1.0385 - val_loss: 1.0120 - val_mean_absolute_error: 0.6995 - val_mean_squared_error: 1.0120\n",
      "Epoch 34/100\n",
      "\u001b[1m338/338\u001b[0m \u001b[32m━━━━━━━━━━━━━━━━━━━━\u001b[0m\u001b[37m\u001b[0m \u001b[1m1s\u001b[0m 2ms/step - loss: 0.9708 - mean_absolute_error: 0.6914 - mean_squared_error: 0.9708 - val_loss: 1.0377 - val_mean_absolute_error: 0.7153 - val_mean_squared_error: 1.0377\n",
      "Epoch 35/100\n",
      "\u001b[1m338/338\u001b[0m \u001b[32m━━━━━━━━━━━━━━━━━━━━\u001b[0m\u001b[37m\u001b[0m \u001b[1m1s\u001b[0m 2ms/step - loss: 1.0137 - mean_absolute_error: 0.7100 - mean_squared_error: 1.0137 - val_loss: 1.0102 - val_mean_absolute_error: 0.7196 - val_mean_squared_error: 1.0102\n",
      "Epoch 36/100\n",
      "\u001b[1m338/338\u001b[0m \u001b[32m━━━━━━━━━━━━━━━━━━━━\u001b[0m\u001b[37m\u001b[0m \u001b[1m1s\u001b[0m 2ms/step - loss: 1.0811 - mean_absolute_error: 0.7368 - mean_squared_error: 1.0811 - val_loss: 1.2646 - val_mean_absolute_error: 0.7902 - val_mean_squared_error: 1.2646\n",
      "Epoch 37/100\n",
      "\u001b[1m338/338\u001b[0m \u001b[32m━━━━━━━━━━━━━━━━━━━━\u001b[0m\u001b[37m\u001b[0m \u001b[1m1s\u001b[0m 2ms/step - loss: 0.9894 - mean_absolute_error: 0.7023 - mean_squared_error: 0.9894 - val_loss: 1.0203 - val_mean_absolute_error: 0.7379 - val_mean_squared_error: 1.0203\n",
      "Epoch 38/100\n",
      "\u001b[1m338/338\u001b[0m \u001b[32m━━━━━━━━━━━━━━━━━━━━\u001b[0m\u001b[37m\u001b[0m \u001b[1m1s\u001b[0m 2ms/step - loss: 0.9638 - mean_absolute_error: 0.6858 - mean_squared_error: 0.9638 - val_loss: 1.1758 - val_mean_absolute_error: 0.7784 - val_mean_squared_error: 1.1758\n",
      "Epoch 39/100\n",
      "\u001b[1m338/338\u001b[0m \u001b[32m━━━━━━━━━━━━━━━━━━━━\u001b[0m\u001b[37m\u001b[0m \u001b[1m1s\u001b[0m 2ms/step - loss: 0.9699 - mean_absolute_error: 0.6880 - mean_squared_error: 0.9699 - val_loss: 0.9910 - val_mean_absolute_error: 0.7099 - val_mean_squared_error: 0.9910\n",
      "Epoch 40/100\n",
      "\u001b[1m338/338\u001b[0m \u001b[32m━━━━━━━━━━━━━━━━━━━━\u001b[0m\u001b[37m\u001b[0m \u001b[1m1s\u001b[0m 2ms/step - loss: 0.9958 - mean_absolute_error: 0.7039 - mean_squared_error: 0.9958 - val_loss: 1.0166 - val_mean_absolute_error: 0.7367 - val_mean_squared_error: 1.0166\n",
      "Epoch 41/100\n",
      "\u001b[1m338/338\u001b[0m \u001b[32m━━━━━━━━━━━━━━━━━━━━\u001b[0m\u001b[37m\u001b[0m \u001b[1m1s\u001b[0m 2ms/step - loss: 1.0144 - mean_absolute_error: 0.7079 - mean_squared_error: 1.0144 - val_loss: 1.0768 - val_mean_absolute_error: 0.7379 - val_mean_squared_error: 1.0768\n",
      "Epoch 42/100\n",
      "\u001b[1m338/338\u001b[0m \u001b[32m━━━━━━━━━━━━━━━━━━━━\u001b[0m\u001b[37m\u001b[0m \u001b[1m1s\u001b[0m 2ms/step - loss: 1.0239 - mean_absolute_error: 0.7123 - mean_squared_error: 1.0239 - val_loss: 1.0560 - val_mean_absolute_error: 0.7399 - val_mean_squared_error: 1.0560\n",
      "Epoch 43/100\n",
      "\u001b[1m338/338\u001b[0m \u001b[32m━━━━━━━━━━━━━━━━━━━━\u001b[0m\u001b[37m\u001b[0m \u001b[1m1s\u001b[0m 2ms/step - loss: 0.9944 - mean_absolute_error: 0.7046 - mean_squared_error: 0.9944 - val_loss: 1.0819 - val_mean_absolute_error: 0.7022 - val_mean_squared_error: 1.0819\n",
      "Epoch 44/100\n",
      "\u001b[1m338/338\u001b[0m \u001b[32m━━━━━━━━━━━━━━━━━━━━\u001b[0m\u001b[37m\u001b[0m \u001b[1m1s\u001b[0m 2ms/step - loss: 1.0057 - mean_absolute_error: 0.7069 - mean_squared_error: 1.0057 - val_loss: 1.0440 - val_mean_absolute_error: 0.6816 - val_mean_squared_error: 1.0440\n",
      "Epoch 45/100\n",
      "\u001b[1m338/338\u001b[0m \u001b[32m━━━━━━━━━━━━━━━━━━━━\u001b[0m\u001b[37m\u001b[0m \u001b[1m1s\u001b[0m 2ms/step - loss: 0.9706 - mean_absolute_error: 0.6877 - mean_squared_error: 0.9706 - val_loss: 0.9861 - val_mean_absolute_error: 0.6796 - val_mean_squared_error: 0.9861\n",
      "Epoch 46/100\n",
      "\u001b[1m338/338\u001b[0m \u001b[32m━━━━━━━━━━━━━━━━━━━━\u001b[0m\u001b[37m\u001b[0m \u001b[1m1s\u001b[0m 2ms/step - loss: 0.9583 - mean_absolute_error: 0.6834 - mean_squared_error: 0.9583 - val_loss: 1.0031 - val_mean_absolute_error: 0.7052 - val_mean_squared_error: 1.0031\n",
      "Epoch 47/100\n",
      "\u001b[1m338/338\u001b[0m \u001b[32m━━━━━━━━━━━━━━━━━━━━\u001b[0m\u001b[37m\u001b[0m \u001b[1m1s\u001b[0m 2ms/step - loss: 0.9344 - mean_absolute_error: 0.6749 - mean_squared_error: 0.9344 - val_loss: 0.9964 - val_mean_absolute_error: 0.7299 - val_mean_squared_error: 0.9964\n",
      "Epoch 48/100\n",
      "\u001b[1m338/338\u001b[0m \u001b[32m━━━━━━━━━━━━━━━━━━━━\u001b[0m\u001b[37m\u001b[0m \u001b[1m1s\u001b[0m 2ms/step - loss: 0.9539 - mean_absolute_error: 0.6802 - mean_squared_error: 0.9539 - val_loss: 0.9718 - val_mean_absolute_error: 0.7009 - val_mean_squared_error: 0.9718\n",
      "Epoch 49/100\n",
      "\u001b[1m338/338\u001b[0m \u001b[32m━━━━━━━━━━━━━━━━━━━━\u001b[0m\u001b[37m\u001b[0m \u001b[1m1s\u001b[0m 2ms/step - loss: 0.9136 - mean_absolute_error: 0.6550 - mean_squared_error: 0.9136 - val_loss: 1.0849 - val_mean_absolute_error: 0.7715 - val_mean_squared_error: 1.0849\n",
      "Epoch 50/100\n",
      "\u001b[1m338/338\u001b[0m \u001b[32m━━━━━━━━━━━━━━━━━━━━\u001b[0m\u001b[37m\u001b[0m \u001b[1m1s\u001b[0m 2ms/step - loss: 0.9478 - mean_absolute_error: 0.6778 - mean_squared_error: 0.9478 - val_loss: 0.9446 - val_mean_absolute_error: 0.6802 - val_mean_squared_error: 0.9446\n",
      "Epoch 51/100\n",
      "\u001b[1m338/338\u001b[0m \u001b[32m━━━━━━━━━━━━━━━━━━━━\u001b[0m\u001b[37m\u001b[0m \u001b[1m1s\u001b[0m 2ms/step - loss: 0.8948 - mean_absolute_error: 0.6482 - mean_squared_error: 0.8948 - val_loss: 0.9709 - val_mean_absolute_error: 0.7189 - val_mean_squared_error: 0.9709\n",
      "Epoch 52/100\n",
      "\u001b[1m338/338\u001b[0m \u001b[32m━━━━━━━━━━━━━━━━━━━━\u001b[0m\u001b[37m\u001b[0m \u001b[1m1s\u001b[0m 2ms/step - loss: 0.9334 - mean_absolute_error: 0.6684 - mean_squared_error: 0.9334 - val_loss: 0.9169 - val_mean_absolute_error: 0.6546 - val_mean_squared_error: 0.9169\n",
      "Epoch 53/100\n",
      "\u001b[1m338/338\u001b[0m \u001b[32m━━━━━━━━━━━━━━━━━━━━\u001b[0m\u001b[37m\u001b[0m \u001b[1m1s\u001b[0m 2ms/step - loss: 0.9175 - mean_absolute_error: 0.6613 - mean_squared_error: 0.9175 - val_loss: 1.0632 - val_mean_absolute_error: 0.7655 - val_mean_squared_error: 1.0632\n",
      "Epoch 54/100\n",
      "\u001b[1m338/338\u001b[0m \u001b[32m━━━━━━━━━━━━━━━━━━━━\u001b[0m\u001b[37m\u001b[0m \u001b[1m1s\u001b[0m 2ms/step - loss: 0.9438 - mean_absolute_error: 0.6714 - mean_squared_error: 0.9438 - val_loss: 0.9249 - val_mean_absolute_error: 0.6572 - val_mean_squared_error: 0.9249\n",
      "Epoch 55/100\n",
      "\u001b[1m338/338\u001b[0m \u001b[32m━━━━━━━━━━━━━━━━━━━━\u001b[0m\u001b[37m\u001b[0m \u001b[1m1s\u001b[0m 2ms/step - loss: 0.8820 - mean_absolute_error: 0.6473 - mean_squared_error: 0.8820 - val_loss: 0.9463 - val_mean_absolute_error: 0.6917 - val_mean_squared_error: 0.9463\n",
      "Epoch 56/100\n",
      "\u001b[1m338/338\u001b[0m \u001b[32m━━━━━━━━━━━━━━━━━━━━\u001b[0m\u001b[37m\u001b[0m \u001b[1m1s\u001b[0m 2ms/step - loss: 0.9267 - mean_absolute_error: 0.6687 - mean_squared_error: 0.9267 - val_loss: 0.9148 - val_mean_absolute_error: 0.6562 - val_mean_squared_error: 0.9148\n",
      "Epoch 57/100\n",
      "\u001b[1m338/338\u001b[0m \u001b[32m━━━━━━━━━━━━━━━━━━━━\u001b[0m\u001b[37m\u001b[0m \u001b[1m1s\u001b[0m 2ms/step - loss: 0.9037 - mean_absolute_error: 0.6622 - mean_squared_error: 0.9037 - val_loss: 0.9985 - val_mean_absolute_error: 0.6826 - val_mean_squared_error: 0.9985\n",
      "Epoch 58/100\n",
      "\u001b[1m338/338\u001b[0m \u001b[32m━━━━━━━━━━━━━━━━━━━━\u001b[0m\u001b[37m\u001b[0m \u001b[1m1s\u001b[0m 2ms/step - loss: 0.8641 - mean_absolute_error: 0.6334 - mean_squared_error: 0.8641 - val_loss: 0.9327 - val_mean_absolute_error: 0.6726 - val_mean_squared_error: 0.9327\n",
      "Epoch 59/100\n",
      "\u001b[1m338/338\u001b[0m \u001b[32m━━━━━━━━━━━━━━━━━━━━\u001b[0m\u001b[37m\u001b[0m \u001b[1m1s\u001b[0m 2ms/step - loss: 0.8534 - mean_absolute_error: 0.6365 - mean_squared_error: 0.8534 - val_loss: 0.9496 - val_mean_absolute_error: 0.6603 - val_mean_squared_error: 0.9496\n",
      "Epoch 60/100\n",
      "\u001b[1m338/338\u001b[0m \u001b[32m━━━━━━━━━━━━━━━━━━━━\u001b[0m\u001b[37m\u001b[0m \u001b[1m1s\u001b[0m 2ms/step - loss: 0.9108 - mean_absolute_error: 0.6628 - mean_squared_error: 0.9108 - val_loss: 0.8841 - val_mean_absolute_error: 0.6411 - val_mean_squared_error: 0.8841\n",
      "Epoch 61/100\n",
      "\u001b[1m338/338\u001b[0m \u001b[32m━━━━━━━━━━━━━━━━━━━━\u001b[0m\u001b[37m\u001b[0m \u001b[1m1s\u001b[0m 2ms/step - loss: 0.9165 - mean_absolute_error: 0.6640 - mean_squared_error: 0.9165 - val_loss: 0.9196 - val_mean_absolute_error: 0.6464 - val_mean_squared_error: 0.9196\n",
      "Epoch 62/100\n",
      "\u001b[1m338/338\u001b[0m \u001b[32m━━━━━━━━━━━━━━━━━━━━\u001b[0m\u001b[37m\u001b[0m \u001b[1m1s\u001b[0m 2ms/step - loss: 0.8693 - mean_absolute_error: 0.6456 - mean_squared_error: 0.8693 - val_loss: 0.9392 - val_mean_absolute_error: 0.6423 - val_mean_squared_error: 0.9392\n",
      "Epoch 63/100\n",
      "\u001b[1m338/338\u001b[0m \u001b[32m━━━━━━━━━━━━━━━━━━━━\u001b[0m\u001b[37m\u001b[0m \u001b[1m1s\u001b[0m 2ms/step - loss: 0.8709 - mean_absolute_error: 0.6458 - mean_squared_error: 0.8709 - val_loss: 0.9311 - val_mean_absolute_error: 0.6470 - val_mean_squared_error: 0.9311\n",
      "Epoch 64/100\n",
      "\u001b[1m338/338\u001b[0m \u001b[32m━━━━━━━━━━━━━━━━━━━━\u001b[0m\u001b[37m\u001b[0m \u001b[1m1s\u001b[0m 2ms/step - loss: 0.8475 - mean_absolute_error: 0.6325 - mean_squared_error: 0.8475 - val_loss: 0.8907 - val_mean_absolute_error: 0.6368 - val_mean_squared_error: 0.8907\n",
      "Epoch 65/100\n",
      "\u001b[1m338/338\u001b[0m \u001b[32m━━━━━━━━━━━━━━━━━━━━\u001b[0m\u001b[37m\u001b[0m \u001b[1m1s\u001b[0m 2ms/step - loss: 0.8324 - mean_absolute_error: 0.6204 - mean_squared_error: 0.8324 - val_loss: 0.9114 - val_mean_absolute_error: 0.6582 - val_mean_squared_error: 0.9114\n",
      "Epoch 66/100\n",
      "\u001b[1m338/338\u001b[0m \u001b[32m━━━━━━━━━━━━━━━━━━━━\u001b[0m\u001b[37m\u001b[0m \u001b[1m1s\u001b[0m 2ms/step - loss: 0.8644 - mean_absolute_error: 0.6427 - mean_squared_error: 0.8644 - val_loss: 0.9076 - val_mean_absolute_error: 0.6800 - val_mean_squared_error: 0.9076\n",
      "Epoch 67/100\n",
      "\u001b[1m338/338\u001b[0m \u001b[32m━━━━━━━━━━━━━━━━━━━━\u001b[0m\u001b[37m\u001b[0m \u001b[1m1s\u001b[0m 2ms/step - loss: 0.8130 - mean_absolute_error: 0.6169 - mean_squared_error: 0.8130 - val_loss: 0.9408 - val_mean_absolute_error: 0.7018 - val_mean_squared_error: 0.9408\n",
      "Epoch 68/100\n",
      "\u001b[1m338/338\u001b[0m \u001b[32m━━━━━━━━━━━━━━━━━━━━\u001b[0m\u001b[37m\u001b[0m \u001b[1m1s\u001b[0m 2ms/step - loss: 0.8474 - mean_absolute_error: 0.6307 - mean_squared_error: 0.8474 - val_loss: 0.8677 - val_mean_absolute_error: 0.6443 - val_mean_squared_error: 0.8677\n",
      "Epoch 69/100\n",
      "\u001b[1m338/338\u001b[0m \u001b[32m━━━━━━━━━━━━━━━━━━━━\u001b[0m\u001b[37m\u001b[0m \u001b[1m1s\u001b[0m 2ms/step - loss: 0.8566 - mean_absolute_error: 0.6364 - mean_squared_error: 0.8566 - val_loss: 0.9086 - val_mean_absolute_error: 0.6617 - val_mean_squared_error: 0.9086\n",
      "Epoch 70/100\n",
      "\u001b[1m338/338\u001b[0m \u001b[32m━━━━━━━━━━━━━━━━━━━━\u001b[0m\u001b[37m\u001b[0m \u001b[1m1s\u001b[0m 2ms/step - loss: 0.8136 - mean_absolute_error: 0.6161 - mean_squared_error: 0.8136 - val_loss: 1.3385 - val_mean_absolute_error: 0.7951 - val_mean_squared_error: 1.3385\n",
      "Epoch 71/100\n",
      "\u001b[1m338/338\u001b[0m \u001b[32m━━━━━━━━━━━━━━━━━━━━\u001b[0m\u001b[37m\u001b[0m \u001b[1m1s\u001b[0m 2ms/step - loss: 0.8618 - mean_absolute_error: 0.6327 - mean_squared_error: 0.8618 - val_loss: 0.8558 - val_mean_absolute_error: 0.6248 - val_mean_squared_error: 0.8558\n",
      "Epoch 72/100\n",
      "\u001b[1m338/338\u001b[0m \u001b[32m━━━━━━━━━━━━━━━━━━━━\u001b[0m\u001b[37m\u001b[0m \u001b[1m1s\u001b[0m 2ms/step - loss: 0.8166 - mean_absolute_error: 0.6103 - mean_squared_error: 0.8166 - val_loss: 0.8923 - val_mean_absolute_error: 0.6410 - val_mean_squared_error: 0.8923\n",
      "Epoch 73/100\n",
      "\u001b[1m338/338\u001b[0m \u001b[32m━━━━━━━━━━━━━━━━━━━━\u001b[0m\u001b[37m\u001b[0m \u001b[1m1s\u001b[0m 2ms/step - loss: 0.8263 - mean_absolute_error: 0.6198 - mean_squared_error: 0.8263 - val_loss: 0.9856 - val_mean_absolute_error: 0.6685 - val_mean_squared_error: 0.9856\n",
      "Epoch 74/100\n",
      "\u001b[1m338/338\u001b[0m \u001b[32m━━━━━━━━━━━━━━━━━━━━\u001b[0m\u001b[37m\u001b[0m \u001b[1m1s\u001b[0m 2ms/step - loss: 0.8085 - mean_absolute_error: 0.6176 - mean_squared_error: 0.8085 - val_loss: 0.8598 - val_mean_absolute_error: 0.6291 - val_mean_squared_error: 0.8598\n",
      "Epoch 75/100\n",
      "\u001b[1m338/338\u001b[0m \u001b[32m━━━━━━━━━━━━━━━━━━━━\u001b[0m\u001b[37m\u001b[0m \u001b[1m1s\u001b[0m 2ms/step - loss: 0.8276 - mean_absolute_error: 0.6179 - mean_squared_error: 0.8276 - val_loss: 0.9134 - val_mean_absolute_error: 0.6580 - val_mean_squared_error: 0.9134\n",
      "Epoch 76/100\n",
      "\u001b[1m338/338\u001b[0m \u001b[32m━━━━━━━━━━━━━━━━━━━━\u001b[0m\u001b[37m\u001b[0m \u001b[1m1s\u001b[0m 2ms/step - loss: 0.7708 - mean_absolute_error: 0.5965 - mean_squared_error: 0.7708 - val_loss: 0.8522 - val_mean_absolute_error: 0.6171 - val_mean_squared_error: 0.8522\n",
      "Epoch 77/100\n",
      "\u001b[1m338/338\u001b[0m \u001b[32m━━━━━━━━━━━━━━━━━━━━\u001b[0m\u001b[37m\u001b[0m \u001b[1m1s\u001b[0m 2ms/step - loss: 0.8156 - mean_absolute_error: 0.6120 - mean_squared_error: 0.8156 - val_loss: 0.9910 - val_mean_absolute_error: 0.6919 - val_mean_squared_error: 0.9910\n",
      "Epoch 78/100\n",
      "\u001b[1m338/338\u001b[0m \u001b[32m━━━━━━━━━━━━━━━━━━━━\u001b[0m\u001b[37m\u001b[0m \u001b[1m1s\u001b[0m 2ms/step - loss: 0.8107 - mean_absolute_error: 0.6224 - mean_squared_error: 0.8107 - val_loss: 0.8649 - val_mean_absolute_error: 0.6256 - val_mean_squared_error: 0.8649\n",
      "Epoch 79/100\n",
      "\u001b[1m338/338\u001b[0m \u001b[32m━━━━━━━━━━━━━━━━━━━━\u001b[0m\u001b[37m\u001b[0m \u001b[1m1s\u001b[0m 2ms/step - loss: 0.7911 - mean_absolute_error: 0.6034 - mean_squared_error: 0.7911 - val_loss: 0.8408 - val_mean_absolute_error: 0.6105 - val_mean_squared_error: 0.8408\n",
      "Epoch 80/100\n",
      "\u001b[1m338/338\u001b[0m \u001b[32m━━━━━━━━━━━━━━━━━━━━\u001b[0m\u001b[37m\u001b[0m \u001b[1m1s\u001b[0m 2ms/step - loss: 0.7939 - mean_absolute_error: 0.6007 - mean_squared_error: 0.7939 - val_loss: 0.8644 - val_mean_absolute_error: 0.6504 - val_mean_squared_error: 0.8644\n",
      "Epoch 81/100\n",
      "\u001b[1m338/338\u001b[0m \u001b[32m━━━━━━━━━━━━━━━━━━━━\u001b[0m\u001b[37m\u001b[0m \u001b[1m1s\u001b[0m 2ms/step - loss: 0.7791 - mean_absolute_error: 0.5929 - mean_squared_error: 0.7791 - val_loss: 0.8567 - val_mean_absolute_error: 0.6400 - val_mean_squared_error: 0.8567\n",
      "Epoch 82/100\n",
      "\u001b[1m338/338\u001b[0m \u001b[32m━━━━━━━━━━━━━━━━━━━━\u001b[0m\u001b[37m\u001b[0m \u001b[1m1s\u001b[0m 2ms/step - loss: 0.7739 - mean_absolute_error: 0.5977 - mean_squared_error: 0.7739 - val_loss: 0.9718 - val_mean_absolute_error: 0.6933 - val_mean_squared_error: 0.9718\n",
      "Epoch 83/100\n",
      "\u001b[1m338/338\u001b[0m \u001b[32m━━━━━━━━━━━━━━━━━━━━\u001b[0m\u001b[37m\u001b[0m \u001b[1m1s\u001b[0m 2ms/step - loss: 0.7582 - mean_absolute_error: 0.5933 - mean_squared_error: 0.7582 - val_loss: 0.8298 - val_mean_absolute_error: 0.6490 - val_mean_squared_error: 0.8298\n",
      "Epoch 84/100\n",
      "\u001b[1m338/338\u001b[0m \u001b[32m━━━━━━━━━━━━━━━━━━━━\u001b[0m\u001b[37m\u001b[0m \u001b[1m1s\u001b[0m 2ms/step - loss: 0.7677 - mean_absolute_error: 0.5873 - mean_squared_error: 0.7677 - val_loss: 0.8468 - val_mean_absolute_error: 0.6460 - val_mean_squared_error: 0.8468\n",
      "Epoch 85/100\n",
      "\u001b[1m338/338\u001b[0m \u001b[32m━━━━━━━━━━━━━━━━━━━━\u001b[0m\u001b[37m\u001b[0m \u001b[1m1s\u001b[0m 2ms/step - loss: 0.7552 - mean_absolute_error: 0.5917 - mean_squared_error: 0.7552 - val_loss: 0.8163 - val_mean_absolute_error: 0.6195 - val_mean_squared_error: 0.8163\n",
      "Epoch 86/100\n",
      "\u001b[1m338/338\u001b[0m \u001b[32m━━━━━━━━━━━━━━━━━━━━\u001b[0m\u001b[37m\u001b[0m \u001b[1m1s\u001b[0m 2ms/step - loss: 0.8060 - mean_absolute_error: 0.6112 - mean_squared_error: 0.8060 - val_loss: 0.8265 - val_mean_absolute_error: 0.6021 - val_mean_squared_error: 0.8265\n",
      "Epoch 87/100\n",
      "\u001b[1m338/338\u001b[0m \u001b[32m━━━━━━━━━━━━━━━━━━━━\u001b[0m\u001b[37m\u001b[0m \u001b[1m1s\u001b[0m 2ms/step - loss: 0.7679 - mean_absolute_error: 0.5929 - mean_squared_error: 0.7679 - val_loss: 0.8619 - val_mean_absolute_error: 0.6230 - val_mean_squared_error: 0.8619\n",
      "Epoch 88/100\n",
      "\u001b[1m338/338\u001b[0m \u001b[32m━━━━━━━━━━━━━━━━━━━━\u001b[0m\u001b[37m\u001b[0m \u001b[1m1s\u001b[0m 2ms/step - loss: 0.7583 - mean_absolute_error: 0.5909 - mean_squared_error: 0.7583 - val_loss: 0.8035 - val_mean_absolute_error: 0.6000 - val_mean_squared_error: 0.8035\n",
      "Epoch 89/100\n",
      "\u001b[1m338/338\u001b[0m \u001b[32m━━━━━━━━━━━━━━━━━━━━\u001b[0m\u001b[37m\u001b[0m \u001b[1m1s\u001b[0m 2ms/step - loss: 0.7584 - mean_absolute_error: 0.5887 - mean_squared_error: 0.7584 - val_loss: 0.8926 - val_mean_absolute_error: 0.6181 - val_mean_squared_error: 0.8926\n",
      "Epoch 90/100\n",
      "\u001b[1m338/338\u001b[0m \u001b[32m━━━━━━━━━━━━━━━━━━━━\u001b[0m\u001b[37m\u001b[0m \u001b[1m1s\u001b[0m 2ms/step - loss: 0.7143 - mean_absolute_error: 0.5701 - mean_squared_error: 0.7143 - val_loss: 0.8632 - val_mean_absolute_error: 0.6223 - val_mean_squared_error: 0.8632\n",
      "Epoch 91/100\n",
      "\u001b[1m338/338\u001b[0m \u001b[32m━━━━━━━━━━━━━━━━━━━━\u001b[0m\u001b[37m\u001b[0m \u001b[1m1s\u001b[0m 2ms/step - loss: 0.7478 - mean_absolute_error: 0.5815 - mean_squared_error: 0.7478 - val_loss: 0.8283 - val_mean_absolute_error: 0.6307 - val_mean_squared_error: 0.8283\n",
      "Epoch 92/100\n",
      "\u001b[1m338/338\u001b[0m \u001b[32m━━━━━━━━━━━━━━━━━━━━\u001b[0m\u001b[37m\u001b[0m \u001b[1m1s\u001b[0m 2ms/step - loss: 0.7407 - mean_absolute_error: 0.5845 - mean_squared_error: 0.7407 - val_loss: 0.8273 - val_mean_absolute_error: 0.6239 - val_mean_squared_error: 0.8273\n",
      "Epoch 93/100\n",
      "\u001b[1m338/338\u001b[0m \u001b[32m━━━━━━━━━━━━━━━━━━━━\u001b[0m\u001b[37m\u001b[0m \u001b[1m1s\u001b[0m 2ms/step - loss: 0.7444 - mean_absolute_error: 0.5795 - mean_squared_error: 0.7444 - val_loss: 0.8122 - val_mean_absolute_error: 0.6079 - val_mean_squared_error: 0.8122\n",
      "Epoch 94/100\n",
      "\u001b[1m338/338\u001b[0m \u001b[32m━━━━━━━━━━━━━━━━━━━━\u001b[0m\u001b[37m\u001b[0m \u001b[1m1s\u001b[0m 2ms/step - loss: 0.7249 - mean_absolute_error: 0.5717 - mean_squared_error: 0.7249 - val_loss: 0.8026 - val_mean_absolute_error: 0.5922 - val_mean_squared_error: 0.8026\n",
      "Epoch 95/100\n",
      "\u001b[1m338/338\u001b[0m \u001b[32m━━━━━━━━━━━━━━━━━━━━\u001b[0m\u001b[37m\u001b[0m \u001b[1m1s\u001b[0m 2ms/step - loss: 0.7281 - mean_absolute_error: 0.5720 - mean_squared_error: 0.7281 - val_loss: 0.8597 - val_mean_absolute_error: 0.6173 - val_mean_squared_error: 0.8597\n",
      "Epoch 96/100\n",
      "\u001b[1m338/338\u001b[0m \u001b[32m━━━━━━━━━━━━━━━━━━━━\u001b[0m\u001b[37m\u001b[0m \u001b[1m1s\u001b[0m 2ms/step - loss: 0.7092 - mean_absolute_error: 0.5633 - mean_squared_error: 0.7092 - val_loss: 0.7872 - val_mean_absolute_error: 0.6167 - val_mean_squared_error: 0.7872\n",
      "Epoch 97/100\n",
      "\u001b[1m338/338\u001b[0m \u001b[32m━━━━━━━━━━━━━━━━━━━━\u001b[0m\u001b[37m\u001b[0m \u001b[1m1s\u001b[0m 2ms/step - loss: 0.7056 - mean_absolute_error: 0.5667 - mean_squared_error: 0.7056 - val_loss: 0.7986 - val_mean_absolute_error: 0.6407 - val_mean_squared_error: 0.7986\n",
      "Epoch 98/100\n",
      "\u001b[1m338/338\u001b[0m \u001b[32m━━━━━━━━━━━━━━━━━━━━\u001b[0m\u001b[37m\u001b[0m \u001b[1m1s\u001b[0m 2ms/step - loss: 0.6988 - mean_absolute_error: 0.5609 - mean_squared_error: 0.6988 - val_loss: 0.8028 - val_mean_absolute_error: 0.6137 - val_mean_squared_error: 0.8028\n",
      "Epoch 99/100\n",
      "\u001b[1m338/338\u001b[0m \u001b[32m━━━━━━━━━━━━━━━━━━━━\u001b[0m\u001b[37m\u001b[0m \u001b[1m1s\u001b[0m 2ms/step - loss: 0.6942 - mean_absolute_error: 0.5581 - mean_squared_error: 0.6942 - val_loss: 0.8951 - val_mean_absolute_error: 0.6242 - val_mean_squared_error: 0.8951\n",
      "Epoch 100/100\n",
      "\u001b[1m338/338\u001b[0m \u001b[32m━━━━━━━━━━━━━━━━━━━━\u001b[0m\u001b[37m\u001b[0m \u001b[1m1s\u001b[0m 2ms/step - loss: 0.7082 - mean_absolute_error: 0.5621 - mean_squared_error: 0.7082 - val_loss: 0.8763 - val_mean_absolute_error: 0.6607 - val_mean_squared_error: 0.8763\n"
     ]
    }
   ],
   "source": [
    "result = model1.fit(x_train, y_train, epochs=100, validation_data=(x_test, y_test))"
   ]
  },
  {
   "cell_type": "code",
   "execution_count": 50,
   "metadata": {},
   "outputs": [
    {
     "data": {
      "text/plain": [
       "dict_keys(['loss', 'mean_absolute_error', 'mean_squared_error', 'val_loss', 'val_mean_absolute_error', 'val_mean_squared_error'])"
      ]
     },
     "execution_count": 50,
     "metadata": {},
     "output_type": "execute_result"
    }
   ],
   "source": [
    "result.history.keys()"
   ]
  },
  {
   "cell_type": "code",
   "execution_count": 51,
   "metadata": {},
   "outputs": [
    {
     "name": "stdout",
     "output_type": "stream",
     "text": [
      "\u001b[1m113/113\u001b[0m \u001b[32m━━━━━━━━━━━━━━━━━━━━\u001b[0m\u001b[37m\u001b[0m \u001b[1m0s\u001b[0m 587us/step - loss: 0.8922 - mean_absolute_error: 0.6727 - mean_squared_error: 0.8922\n",
      "Test Loss (MSE): [0.8763014674186707, 0.8763014674186707, 0.6606839299201965]\n"
     ]
    }
   ],
   "source": [
    "# Evaluate the model\n",
    "test_loss = model1.evaluate(x_test, y_test)\n",
    "print(f'Test Loss (MSE): {test_loss}')"
   ]
  },
  {
   "cell_type": "code",
   "execution_count": 52,
   "metadata": {},
   "outputs": [
    {
     "name": "stdout",
     "output_type": "stream",
     "text": [
      "\u001b[1m113/113\u001b[0m \u001b[32m━━━━━━━━━━━━━━━━━━━━\u001b[0m\u001b[37m\u001b[0m \u001b[1m0s\u001b[0m 792us/step\n",
      "R² score: 0.8491833994746444\n"
     ]
    }
   ],
   "source": [
    "from sklearn.metrics import r2_score\n",
    "y_pred = model1.predict(x_test)\n",
    "r2 = r2_score(y_test, y_pred)\n",
    "print(f'R² score: {r2}')"
   ]
  },
  {
   "cell_type": "code",
   "execution_count": 53,
   "metadata": {},
   "outputs": [
    {
     "data": {
      "text/html": [
       "<div>\n",
       "<style scoped>\n",
       "    .dataframe tbody tr th:only-of-type {\n",
       "        vertical-align: middle;\n",
       "    }\n",
       "\n",
       "    .dataframe tbody tr th {\n",
       "        vertical-align: top;\n",
       "    }\n",
       "\n",
       "    .dataframe thead th {\n",
       "        text-align: right;\n",
       "    }\n",
       "</style>\n",
       "<table border=\"1\" class=\"dataframe\">\n",
       "  <thead>\n",
       "    <tr style=\"text-align: right;\">\n",
       "      <th></th>\n",
       "      <th>loss</th>\n",
       "      <th>mean_absolute_error</th>\n",
       "      <th>mean_squared_error</th>\n",
       "      <th>val_loss</th>\n",
       "      <th>val_mean_absolute_error</th>\n",
       "      <th>val_mean_squared_error</th>\n",
       "    </tr>\n",
       "  </thead>\n",
       "  <tbody>\n",
       "    <tr>\n",
       "      <th>0</th>\n",
       "      <td>2.639710</td>\n",
       "      <td>1.206963</td>\n",
       "      <td>2.639710</td>\n",
       "      <td>1.362004</td>\n",
       "      <td>0.902538</td>\n",
       "      <td>1.362004</td>\n",
       "    </tr>\n",
       "    <tr>\n",
       "      <th>1</th>\n",
       "      <td>1.411582</td>\n",
       "      <td>0.918703</td>\n",
       "      <td>1.411582</td>\n",
       "      <td>1.538704</td>\n",
       "      <td>0.931507</td>\n",
       "      <td>1.538704</td>\n",
       "    </tr>\n",
       "    <tr>\n",
       "      <th>2</th>\n",
       "      <td>1.292825</td>\n",
       "      <td>0.869154</td>\n",
       "      <td>1.292825</td>\n",
       "      <td>1.394609</td>\n",
       "      <td>0.937800</td>\n",
       "      <td>1.394609</td>\n",
       "    </tr>\n",
       "    <tr>\n",
       "      <th>3</th>\n",
       "      <td>1.255622</td>\n",
       "      <td>0.844682</td>\n",
       "      <td>1.255622</td>\n",
       "      <td>1.142935</td>\n",
       "      <td>0.790656</td>\n",
       "      <td>1.142935</td>\n",
       "    </tr>\n",
       "    <tr>\n",
       "      <th>4</th>\n",
       "      <td>1.199919</td>\n",
       "      <td>0.813266</td>\n",
       "      <td>1.199919</td>\n",
       "      <td>2.024004</td>\n",
       "      <td>1.143176</td>\n",
       "      <td>2.024004</td>\n",
       "    </tr>\n",
       "    <tr>\n",
       "      <th>...</th>\n",
       "      <td>...</td>\n",
       "      <td>...</td>\n",
       "      <td>...</td>\n",
       "      <td>...</td>\n",
       "      <td>...</td>\n",
       "      <td>...</td>\n",
       "    </tr>\n",
       "    <tr>\n",
       "      <th>95</th>\n",
       "      <td>0.721396</td>\n",
       "      <td>0.568737</td>\n",
       "      <td>0.721396</td>\n",
       "      <td>0.787220</td>\n",
       "      <td>0.616727</td>\n",
       "      <td>0.787220</td>\n",
       "    </tr>\n",
       "    <tr>\n",
       "      <th>96</th>\n",
       "      <td>0.720318</td>\n",
       "      <td>0.569026</td>\n",
       "      <td>0.720318</td>\n",
       "      <td>0.798601</td>\n",
       "      <td>0.640737</td>\n",
       "      <td>0.798601</td>\n",
       "    </tr>\n",
       "    <tr>\n",
       "      <th>97</th>\n",
       "      <td>0.707334</td>\n",
       "      <td>0.561973</td>\n",
       "      <td>0.707334</td>\n",
       "      <td>0.802844</td>\n",
       "      <td>0.613653</td>\n",
       "      <td>0.802844</td>\n",
       "    </tr>\n",
       "    <tr>\n",
       "      <th>98</th>\n",
       "      <td>0.719495</td>\n",
       "      <td>0.568639</td>\n",
       "      <td>0.719495</td>\n",
       "      <td>0.895074</td>\n",
       "      <td>0.624237</td>\n",
       "      <td>0.895074</td>\n",
       "    </tr>\n",
       "    <tr>\n",
       "      <th>99</th>\n",
       "      <td>0.713966</td>\n",
       "      <td>0.566912</td>\n",
       "      <td>0.713966</td>\n",
       "      <td>0.876301</td>\n",
       "      <td>0.660684</td>\n",
       "      <td>0.876301</td>\n",
       "    </tr>\n",
       "  </tbody>\n",
       "</table>\n",
       "<p>100 rows × 6 columns</p>\n",
       "</div>"
      ],
      "text/plain": [
       "        loss  mean_absolute_error  mean_squared_error  val_loss  \\\n",
       "0   2.639710             1.206963            2.639710  1.362004   \n",
       "1   1.411582             0.918703            1.411582  1.538704   \n",
       "2   1.292825             0.869154            1.292825  1.394609   \n",
       "3   1.255622             0.844682            1.255622  1.142935   \n",
       "4   1.199919             0.813266            1.199919  2.024004   \n",
       "..       ...                  ...                 ...       ...   \n",
       "95  0.721396             0.568737            0.721396  0.787220   \n",
       "96  0.720318             0.569026            0.720318  0.798601   \n",
       "97  0.707334             0.561973            0.707334  0.802844   \n",
       "98  0.719495             0.568639            0.719495  0.895074   \n",
       "99  0.713966             0.566912            0.713966  0.876301   \n",
       "\n",
       "    val_mean_absolute_error  val_mean_squared_error  \n",
       "0                  0.902538                1.362004  \n",
       "1                  0.931507                1.538704  \n",
       "2                  0.937800                1.394609  \n",
       "3                  0.790656                1.142935  \n",
       "4                  1.143176                2.024004  \n",
       "..                      ...                     ...  \n",
       "95                 0.616727                0.787220  \n",
       "96                 0.640737                0.798601  \n",
       "97                 0.613653                0.802844  \n",
       "98                 0.624237                0.895074  \n",
       "99                 0.660684                0.876301  \n",
       "\n",
       "[100 rows x 6 columns]"
      ]
     },
     "execution_count": 53,
     "metadata": {},
     "output_type": "execute_result"
    }
   ],
   "source": [
    "result_df = pd.DataFrame(result.history)\n",
    "result_df"
   ]
  },
  {
   "cell_type": "code",
   "execution_count": 54,
   "metadata": {},
   "outputs": [
    {
     "data": {
      "image/png": "[encoded data removed]",
      "text/plain": [
       "<Figure size 640x480 with 1 Axes>"
      ]
     },
     "metadata": {},
     "output_type": "display_data"
    }
   ],
   "source": [
    "# Plot Mean Absolute Error (MAE) over epochs\n",
    "plt.plot(range(1, 101), result_df['mean_absolute_error'], label='Training MAE')\n",
    "plt.plot(range(1, 101), result_df['val_mean_absolute_error'], label='Validation MAE')\n",
    "\n",
    "plt.title('Mean Absolute Error Over Epochs')\n",
    "plt.xlabel('Epoch')\n",
    "plt.ylabel('MAE')\n",
    "plt.legend()\n",
    "plt.show()"
   ]
  },
  {
   "cell_type": "code",
   "execution_count": 55,
   "metadata": {},
   "outputs": [
    {
     "data": {
      "image/png": "[encoded data removed]",
      "text/plain": [
       "<Figure size 640x480 with 1 Axes>"
      ]
     },
     "metadata": {},
     "output_type": "display_data"
    }
   ],
   "source": [
    "# Plot the training and validation loss\n",
    "\n",
    "plt.plot(result.history['loss'], label='Training Loss (MSE)')\n",
    "plt.plot(result.history['val_loss'], label='Validation Loss (MSE)')\n",
    "plt.title('Training and Validation Loss Over Epochs')\n",
    "plt.xlabel('Epoch')\n",
    "plt.ylabel('Mean Squared Error (MSE)')\n",
    "plt.legend()\n",
    "plt.show()"
   ]
  },
  {
   "cell_type": "code",
   "execution_count": 67,
   "metadata": {},
   "outputs": [
    {
     "name": "stdout",
     "output_type": "stream",
     "text": [
      "\u001b[1m113/113\u001b[0m \u001b[32m━━━━━━━━━━━━━━━━━━━━\u001b[0m\u001b[37m\u001b[0m \u001b[1m0s\u001b[0m 563us/step\n"
     ]
    },
    {
     "data": {
      "image/png": "[encoded data removed]",
      "text/plain": [
       "<Figure size 640x480 with 1 Axes>"
      ]
     },
     "metadata": {},
     "output_type": "display_data"
    }
   ],
   "source": [
    "# Get predictions for the test set\n",
    "y_pred = model1.predict(x_test)\n",
    "\n",
    "# Scatter plot of actual vs predicted values\n",
    "plt.scatter(y_test, y_pred)\n",
    "plt.title('Predicted vs Actual Values')\n",
    "plt.xlabel('Actual Values')\n",
    "plt.ylabel('Predicted Values')\n",
    "plt.show()"
   ]
  },
  {
   "cell_type": "code",
   "execution_count": 57,
   "metadata": {},
   "outputs": [
    {
     "name": "stdout",
     "output_type": "stream",
     "text": [
      "\u001b[1m113/113\u001b[0m \u001b[32m━━━━━━━━━━━━━━━━━━━━\u001b[0m\u001b[37m\u001b[0m \u001b[1m0s\u001b[0m 578us/step\n"
     ]
    }
   ],
   "source": [
    "# Get predictions for the test set\n",
    "y_pred = model1.predict(x_test)\n",
    "\n",
    "# If y_test is a pandas Series, convert it to a NumPy array\n",
    "if isinstance(y_test, pd.Series):\n",
    "    y_test = y_test.values\n",
    "\n",
    "# Flatten y_pred if it's a 2D array\n",
    "y_pred = y_pred.flatten()\n",
    "\n",
    "# Calculate residuals (errors)\n",
    "residuals = y_test - y_pred\n"
   ]
  },
  {
   "cell_type": "code",
   "execution_count": 58,
   "metadata": {},
   "outputs": [
    {
     "data": {
      "image/png": "[encoded data removed]",
      "text/plain": [
       "<Figure size 640x480 with 1 Axes>"
      ]
     },
     "metadata": {},
     "output_type": "display_data"
    }
   ],
   "source": [
    "# Plot residuals\n",
    "plt.scatter(y_pred, residuals)\n",
    "plt.title('Residuals Plot')\n",
    "plt.xlabel('Predicted Values')\n",
    "plt.ylabel('Residuals (Actual - Predicted)')\n",
    "plt.axhline(y=0, color='r', linestyle='--')\n",
    "plt.show()"
   ]
  },
  {
   "cell_type": "code",
   "execution_count": 59,
   "metadata": {},
   "outputs": [
    {
     "name": "stderr",
     "output_type": "stream",
     "text": [
      "WARNING:absl:You are saving your model as an HDF5 file via `model.save()` or `keras.saving.save_model(model)`. This file format is considered legacy. We recommend using instead the native Keras format, e.g. `model.save('my_model.keras')` or `keras.saving.save_model(model, 'my_model.keras')`. \n"
     ]
    }
   ],
   "source": [
    "model1.save(\"DL_Algo.h5\")"
   ]
  },
  {
   "cell_type": "code",
   "execution_count": 60,
   "metadata": {},
   "outputs": [
    {
     "name": "stderr",
     "output_type": "stream",
     "text": [
      "WARNING:absl:Compiled the loaded model, but the compiled metrics have yet to be built. `model.compile_metrics` will be empty until you train or evaluate the model.\n"
     ]
    }
   ],
   "source": [
    "new_model = load_model(\"DL_Algo.h5\")"
   ]
  },
  {
   "cell_type": "code",
   "execution_count": 61,
   "metadata": {},
   "outputs": [],
   "source": [
    "first_row = x_test.iloc[0].to_numpy()"
   ]
  },
  {
   "cell_type": "code",
   "execution_count": 62,
   "metadata": {},
   "outputs": [
    {
     "data": {
      "text/plain": [
       "array([ 4.99, 75.  , 12.99,  2.  ,  9.  ,  1.  ,  1.  ])"
      ]
     },
     "execution_count": 62,
     "metadata": {},
     "output_type": "execute_result"
    }
   ],
   "source": [
    "first_row"
   ]
  },
  {
   "cell_type": "code",
   "execution_count": 63,
   "metadata": {},
   "outputs": [
    {
     "name": "stdout",
     "output_type": "stream",
     "text": [
      "<class 'numpy.float64'>\n",
      "<class 'numpy.float64'>\n",
      "<class 'numpy.float64'>\n",
      "<class 'numpy.float64'>\n",
      "<class 'numpy.float64'>\n",
      "<class 'numpy.float64'>\n",
      "<class 'numpy.float64'>\n"
     ]
    }
   ],
   "source": [
    "for x in first_row:\n",
    "    print(type(x))"
   ]
  },
  {
   "cell_type": "code",
   "execution_count": 64,
   "metadata": {},
   "outputs": [
    {
     "name": "stdout",
     "output_type": "stream",
     "text": [
      "\u001b[1m1/1\u001b[0m \u001b[32m━━━━━━━━━━━━━━━━━━━━\u001b[0m\u001b[37m\u001b[0m \u001b[1m0s\u001b[0m 33ms/step\n"
     ]
    },
    {
     "data": {
      "text/plain": [
       "array([[5.207833]], dtype=float32)"
      ]
     },
     "execution_count": 64,
     "metadata": {},
     "output_type": "execute_result"
    }
   ],
   "source": [
    "new_model.predict(np.array([first_row]))"
   ]
  },
  {
   "cell_type": "code",
   "execution_count": 65,
   "metadata": {},
   "outputs": [
    {
     "data": {
      "text/plain": [
       "Index(['rental_rate', 'length', 'replacement_cost', 'rating', 'category',\n",
       "       'active', 'rental_actual_duration'],\n",
       "      dtype='object')"
      ]
     },
     "execution_count": 65,
     "metadata": {},
     "output_type": "execute_result"
    }
   ],
   "source": [
    "x_test.columns"
   ]
  }
 ],
 "metadata": {
  "kernelspec": {
   "display_name": ".venv",
   "language": "python",
   "name": "python3"
  },
  "language_info": {
   "codemirror_mode": {
    "name": "ipython",
    "version": 3
   },
   "file_extension": ".py",
   "mimetype": "text/x-python",
   "name": "python",
   "nbconvert_exporter": "python",
   "pygments_lexer": "ipython3",
   "version": "3.9.6"
  }
 },
 "nbformat": 4,
 "nbformat_minor": 2
}
