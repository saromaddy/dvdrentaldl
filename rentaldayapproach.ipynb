{
 "cells": [
  {
   "cell_type": "code",
   "execution_count": 41,
   "metadata": {},
   "outputs": [],
   "source": [
    "import pandas as pd\n",
    "from sklearn.model_selection import train_test_split\n",
    "from sklearn.preprocessing import StandardScaler\n",
    "import tensorflow as tf\n",
    "from tensorflow.keras.models import Sequential\n",
    "from tensorflow.keras.layers import Dense\n",
    "from tensorflow.keras.callbacks import Callback\n",
    "import tensorflow.keras.backend as K\n",
    "from sklearn.preprocessing import OneHotEncoder\n",
    "import pickle\n",
    "from sklearn.preprocessing import LabelEncoder\n",
    "from keras.models import Sequential # to see the sequence like ip --> hl1 --> hl2--> hl3 -->o/p #to build layer by layer architecture\n",
    "from keras.layers import Dense # to decide the depth of layers\n",
    "import numpy as np\n",
    "from keras.utils import to_categorical\n",
    "import matplotlib.pyplot as plt\n",
    "from tensorflow.keras.metrics import MeanSquaredError, MeanAbsoluteError\n",
    "from keras.models import load_model"
   ]
  },
  {
   "cell_type": "code",
   "execution_count": 42,
   "metadata": {},
   "outputs": [],
   "source": [
    "df = pd.read_csv('dvd rental final csv.csv')"
   ]
  },
  {
   "cell_type": "code",
   "execution_count": 43,
   "metadata": {},
   "outputs": [],
   "source": [
    "# Ensure the rental_date and return_date are in datetime format\n",
    "df['rental_date'] = pd.to_datetime(df['rental_date'])\n",
    "df['return_date'] = pd.to_datetime(df['return_date'])\n",
    "\n",
    "# Calculate the difference in days between return_date and rental_date\n",
    "df['rental_actual_duration'] = (df['return_date'] - df['rental_date']).dt.days"
   ]
  },
  {
   "cell_type": "code",
   "execution_count": 44,
   "metadata": {},
   "outputs": [
    {
     "data": {
      "text/html": [
       "<div>\n",
       "<style scoped>\n",
       "    .dataframe tbody tr th:only-of-type {\n",
       "        vertical-align: middle;\n",
       "    }\n",
       "\n",
       "    .dataframe tbody tr th {\n",
       "        vertical-align: top;\n",
       "    }\n",
       "\n",
       "    .dataframe thead th {\n",
       "        text-align: right;\n",
       "    }\n",
       "</style>\n",
       "<table border=\"1\" class=\"dataframe\">\n",
       "  <thead>\n",
       "    <tr style=\"text-align: right;\">\n",
       "      <th></th>\n",
       "      <th>inventory_id</th>\n",
       "      <th>film_id</th>\n",
       "      <th>title</th>\n",
       "      <th>rental_duration</th>\n",
       "      <th>rental_rate</th>\n",
       "      <th>length</th>\n",
       "      <th>replacement_cost</th>\n",
       "      <th>rating</th>\n",
       "      <th>category</th>\n",
       "      <th>language</th>\n",
       "      <th>store_id</th>\n",
       "      <th>rental_id</th>\n",
       "      <th>rental_date</th>\n",
       "      <th>customer_id</th>\n",
       "      <th>return_date</th>\n",
       "      <th>amount</th>\n",
       "      <th>active</th>\n",
       "      <th>rental_actual_duration</th>\n",
       "    </tr>\n",
       "  </thead>\n",
       "  <tbody>\n",
       "    <tr>\n",
       "      <th>0</th>\n",
       "      <td>3419</td>\n",
       "      <td>749</td>\n",
       "      <td>Rules Human</td>\n",
       "      <td>6</td>\n",
       "      <td>4.99</td>\n",
       "      <td>153</td>\n",
       "      <td>19.99</td>\n",
       "      <td>R</td>\n",
       "      <td>Horror</td>\n",
       "      <td>English</td>\n",
       "      <td>1</td>\n",
       "      <td>1520</td>\n",
       "      <td>2005-06-15 23:57:20</td>\n",
       "      <td>341</td>\n",
       "      <td>2005-06-24 23:46:20</td>\n",
       "      <td>7.99</td>\n",
       "      <td>1</td>\n",
       "      <td>8.0</td>\n",
       "    </tr>\n",
       "    <tr>\n",
       "      <th>1</th>\n",
       "      <td>2512</td>\n",
       "      <td>552</td>\n",
       "      <td>Majestic Floats</td>\n",
       "      <td>5</td>\n",
       "      <td>0.99</td>\n",
       "      <td>130</td>\n",
       "      <td>15.99</td>\n",
       "      <td>PG</td>\n",
       "      <td>Documentary</td>\n",
       "      <td>English</td>\n",
       "      <td>2</td>\n",
       "      <td>1778</td>\n",
       "      <td>2005-06-16 18:54:48</td>\n",
       "      <td>341</td>\n",
       "      <td>2005-06-22 16:08:48</td>\n",
       "      <td>1.99</td>\n",
       "      <td>1</td>\n",
       "      <td>5.0</td>\n",
       "    </tr>\n",
       "    <tr>\n",
       "      <th>2</th>\n",
       "      <td>2507</td>\n",
       "      <td>551</td>\n",
       "      <td>Maiden Home</td>\n",
       "      <td>3</td>\n",
       "      <td>4.99</td>\n",
       "      <td>138</td>\n",
       "      <td>9.99</td>\n",
       "      <td>PG</td>\n",
       "      <td>New</td>\n",
       "      <td>English</td>\n",
       "      <td>1</td>\n",
       "      <td>1849</td>\n",
       "      <td>2005-06-17 00:13:19</td>\n",
       "      <td>341</td>\n",
       "      <td>2005-06-23 18:37:19</td>\n",
       "      <td>7.99</td>\n",
       "      <td>1</td>\n",
       "      <td>6.0</td>\n",
       "    </tr>\n",
       "    <tr>\n",
       "      <th>3</th>\n",
       "      <td>2047</td>\n",
       "      <td>445</td>\n",
       "      <td>Hyde Doctor</td>\n",
       "      <td>5</td>\n",
       "      <td>2.99</td>\n",
       "      <td>100</td>\n",
       "      <td>11.99</td>\n",
       "      <td>G</td>\n",
       "      <td>Classics</td>\n",
       "      <td>English</td>\n",
       "      <td>1</td>\n",
       "      <td>2829</td>\n",
       "      <td>2005-06-19 21:11:30</td>\n",
       "      <td>341</td>\n",
       "      <td>2005-06-24 18:10:30</td>\n",
       "      <td>2.99</td>\n",
       "      <td>1</td>\n",
       "      <td>4.0</td>\n",
       "    </tr>\n",
       "    <tr>\n",
       "      <th>4</th>\n",
       "      <td>2569</td>\n",
       "      <td>563</td>\n",
       "      <td>Massacre Usual</td>\n",
       "      <td>6</td>\n",
       "      <td>4.99</td>\n",
       "      <td>165</td>\n",
       "      <td>16.99</td>\n",
       "      <td>R</td>\n",
       "      <td>Games</td>\n",
       "      <td>English</td>\n",
       "      <td>1</td>\n",
       "      <td>3130</td>\n",
       "      <td>2005-06-20 19:03:22</td>\n",
       "      <td>341</td>\n",
       "      <td>2005-06-29 18:05:22</td>\n",
       "      <td>7.99</td>\n",
       "      <td>1</td>\n",
       "      <td>8.0</td>\n",
       "    </tr>\n",
       "  </tbody>\n",
       "</table>\n",
       "</div>"
      ],
      "text/plain": [
       "   inventory_id  film_id            title  rental_duration  rental_rate  \\\n",
       "0          3419      749      Rules Human                6         4.99   \n",
       "1          2512      552  Majestic Floats                5         0.99   \n",
       "2          2507      551      Maiden Home                3         4.99   \n",
       "3          2047      445      Hyde Doctor                5         2.99   \n",
       "4          2569      563   Massacre Usual                6         4.99   \n",
       "\n",
       "   length  replacement_cost rating     category              language  \\\n",
       "0     153             19.99      R       Horror  English                \n",
       "1     130             15.99     PG  Documentary  English                \n",
       "2     138              9.99     PG          New  English                \n",
       "3     100             11.99      G     Classics  English                \n",
       "4     165             16.99      R        Games  English                \n",
       "\n",
       "   store_id  rental_id         rental_date  customer_id         return_date  \\\n",
       "0         1       1520 2005-06-15 23:57:20          341 2005-06-24 23:46:20   \n",
       "1         2       1778 2005-06-16 18:54:48          341 2005-06-22 16:08:48   \n",
       "2         1       1849 2005-06-17 00:13:19          341 2005-06-23 18:37:19   \n",
       "3         1       2829 2005-06-19 21:11:30          341 2005-06-24 18:10:30   \n",
       "4         1       3130 2005-06-20 19:03:22          341 2005-06-29 18:05:22   \n",
       "\n",
       "   amount  active  rental_actual_duration  \n",
       "0    7.99       1                     8.0  \n",
       "1    1.99       1                     5.0  \n",
       "2    7.99       1                     6.0  \n",
       "3    2.99       1                     4.0  \n",
       "4    7.99       1                     8.0  "
      ]
     },
     "execution_count": 44,
     "metadata": {},
     "output_type": "execute_result"
    }
   ],
   "source": [
    "df.head()"
   ]
  },
  {
   "cell_type": "code",
   "execution_count": 45,
   "metadata": {},
   "outputs": [],
   "source": [
    "df.drop('rental_date', axis=1, inplace=True)\n",
    "df.drop('return_date', axis=1, inplace=True)\n",
    "df.drop('title',axis=1,inplace=True)\n",
    "df.drop(['inventory_id','film_id','store_id','rental_id','customer_id'], axis=1, inplace=True)\n",
    "df.drop('language',axis=1, inplace=True)"
   ]
  },
  {
   "cell_type": "code",
   "execution_count": 46,
   "metadata": {},
   "outputs": [],
   "source": [
    "df.drop('rental_duration', axis=1, inplace=True)"
   ]
  },
  {
   "cell_type": "code",
   "execution_count": 47,
   "metadata": {},
   "outputs": [
    {
     "data": {
      "text/html": [
       "<div>\n",
       "<style scoped>\n",
       "    .dataframe tbody tr th:only-of-type {\n",
       "        vertical-align: middle;\n",
       "    }\n",
       "\n",
       "    .dataframe tbody tr th {\n",
       "        vertical-align: top;\n",
       "    }\n",
       "\n",
       "    .dataframe thead th {\n",
       "        text-align: right;\n",
       "    }\n",
       "</style>\n",
       "<table border=\"1\" class=\"dataframe\">\n",
       "  <thead>\n",
       "    <tr style=\"text-align: right;\">\n",
       "      <th></th>\n",
       "      <th>rental_rate</th>\n",
       "      <th>length</th>\n",
       "      <th>replacement_cost</th>\n",
       "      <th>rating</th>\n",
       "      <th>category</th>\n",
       "      <th>amount</th>\n",
       "      <th>active</th>\n",
       "      <th>rental_actual_duration</th>\n",
       "    </tr>\n",
       "  </thead>\n",
       "  <tbody>\n",
       "    <tr>\n",
       "      <th>0</th>\n",
       "      <td>4.99</td>\n",
       "      <td>153</td>\n",
       "      <td>19.99</td>\n",
       "      <td>R</td>\n",
       "      <td>Horror</td>\n",
       "      <td>7.99</td>\n",
       "      <td>1</td>\n",
       "      <td>8.0</td>\n",
       "    </tr>\n",
       "    <tr>\n",
       "      <th>1</th>\n",
       "      <td>0.99</td>\n",
       "      <td>130</td>\n",
       "      <td>15.99</td>\n",
       "      <td>PG</td>\n",
       "      <td>Documentary</td>\n",
       "      <td>1.99</td>\n",
       "      <td>1</td>\n",
       "      <td>5.0</td>\n",
       "    </tr>\n",
       "    <tr>\n",
       "      <th>2</th>\n",
       "      <td>4.99</td>\n",
       "      <td>138</td>\n",
       "      <td>9.99</td>\n",
       "      <td>PG</td>\n",
       "      <td>New</td>\n",
       "      <td>7.99</td>\n",
       "      <td>1</td>\n",
       "      <td>6.0</td>\n",
       "    </tr>\n",
       "    <tr>\n",
       "      <th>3</th>\n",
       "      <td>2.99</td>\n",
       "      <td>100</td>\n",
       "      <td>11.99</td>\n",
       "      <td>G</td>\n",
       "      <td>Classics</td>\n",
       "      <td>2.99</td>\n",
       "      <td>1</td>\n",
       "      <td>4.0</td>\n",
       "    </tr>\n",
       "    <tr>\n",
       "      <th>4</th>\n",
       "      <td>4.99</td>\n",
       "      <td>165</td>\n",
       "      <td>16.99</td>\n",
       "      <td>R</td>\n",
       "      <td>Games</td>\n",
       "      <td>7.99</td>\n",
       "      <td>1</td>\n",
       "      <td>8.0</td>\n",
       "    </tr>\n",
       "  </tbody>\n",
       "</table>\n",
       "</div>"
      ],
      "text/plain": [
       "   rental_rate  length  replacement_cost rating     category  amount  active  \\\n",
       "0         4.99     153             19.99      R       Horror    7.99       1   \n",
       "1         0.99     130             15.99     PG  Documentary    1.99       1   \n",
       "2         4.99     138              9.99     PG          New    7.99       1   \n",
       "3         2.99     100             11.99      G     Classics    2.99       1   \n",
       "4         4.99     165             16.99      R        Games    7.99       1   \n",
       "\n",
       "   rental_actual_duration  \n",
       "0                     8.0  \n",
       "1                     5.0  \n",
       "2                     6.0  \n",
       "3                     4.0  \n",
       "4                     8.0  "
      ]
     },
     "execution_count": 47,
     "metadata": {},
     "output_type": "execute_result"
    }
   ],
   "source": [
    "df.head()"
   ]
  },
  {
   "cell_type": "code",
   "execution_count": 48,
   "metadata": {},
   "outputs": [],
   "source": [
    "df.dropna(inplace=True)"
   ]
  },
  {
   "cell_type": "code",
   "execution_count": 49,
   "metadata": {},
   "outputs": [],
   "source": [
    "df['rating'] = df['rating'].map({\"PG-13\":0,'NC-17':1,'PG':2,'R':3,\"G\":4}) #mapping\n",
    "df['category'] = df['category'].map({'Horror':0, 'Documentary':1, 'New':2, 'Classics':3, 'Games':4, 'Sci-Fi':5,\n",
    "       'Foreign':6, 'Family':7, 'Travel':8, 'Music':9, 'Sports':10, 'Comedy':11,\n",
    "       'Drama':12, 'Action':13, 'Children':14, 'Animation':15}) #mapping"
   ]
  },
  {
   "cell_type": "code",
   "execution_count": 50,
   "metadata": {},
   "outputs": [
    {
     "data": {
      "text/html": [
       "<div>\n",
       "<style scoped>\n",
       "    .dataframe tbody tr th:only-of-type {\n",
       "        vertical-align: middle;\n",
       "    }\n",
       "\n",
       "    .dataframe tbody tr th {\n",
       "        vertical-align: top;\n",
       "    }\n",
       "\n",
       "    .dataframe thead th {\n",
       "        text-align: right;\n",
       "    }\n",
       "</style>\n",
       "<table border=\"1\" class=\"dataframe\">\n",
       "  <thead>\n",
       "    <tr style=\"text-align: right;\">\n",
       "      <th></th>\n",
       "      <th>rental_rate</th>\n",
       "      <th>length</th>\n",
       "      <th>replacement_cost</th>\n",
       "      <th>rating</th>\n",
       "      <th>category</th>\n",
       "      <th>amount</th>\n",
       "      <th>active</th>\n",
       "      <th>rental_actual_duration</th>\n",
       "    </tr>\n",
       "  </thead>\n",
       "  <tbody>\n",
       "    <tr>\n",
       "      <th>0</th>\n",
       "      <td>4.99</td>\n",
       "      <td>153</td>\n",
       "      <td>19.99</td>\n",
       "      <td>3</td>\n",
       "      <td>0</td>\n",
       "      <td>7.99</td>\n",
       "      <td>1</td>\n",
       "      <td>8.0</td>\n",
       "    </tr>\n",
       "    <tr>\n",
       "      <th>1</th>\n",
       "      <td>0.99</td>\n",
       "      <td>130</td>\n",
       "      <td>15.99</td>\n",
       "      <td>2</td>\n",
       "      <td>1</td>\n",
       "      <td>1.99</td>\n",
       "      <td>1</td>\n",
       "      <td>5.0</td>\n",
       "    </tr>\n",
       "    <tr>\n",
       "      <th>2</th>\n",
       "      <td>4.99</td>\n",
       "      <td>138</td>\n",
       "      <td>9.99</td>\n",
       "      <td>2</td>\n",
       "      <td>2</td>\n",
       "      <td>7.99</td>\n",
       "      <td>1</td>\n",
       "      <td>6.0</td>\n",
       "    </tr>\n",
       "    <tr>\n",
       "      <th>3</th>\n",
       "      <td>2.99</td>\n",
       "      <td>100</td>\n",
       "      <td>11.99</td>\n",
       "      <td>4</td>\n",
       "      <td>3</td>\n",
       "      <td>2.99</td>\n",
       "      <td>1</td>\n",
       "      <td>4.0</td>\n",
       "    </tr>\n",
       "    <tr>\n",
       "      <th>4</th>\n",
       "      <td>4.99</td>\n",
       "      <td>165</td>\n",
       "      <td>16.99</td>\n",
       "      <td>3</td>\n",
       "      <td>4</td>\n",
       "      <td>7.99</td>\n",
       "      <td>1</td>\n",
       "      <td>8.0</td>\n",
       "    </tr>\n",
       "  </tbody>\n",
       "</table>\n",
       "</div>"
      ],
      "text/plain": [
       "   rental_rate  length  replacement_cost  rating  category  amount  active  \\\n",
       "0         4.99     153             19.99       3         0    7.99       1   \n",
       "1         0.99     130             15.99       2         1    1.99       1   \n",
       "2         4.99     138              9.99       2         2    7.99       1   \n",
       "3         2.99     100             11.99       4         3    2.99       1   \n",
       "4         4.99     165             16.99       3         4    7.99       1   \n",
       "\n",
       "   rental_actual_duration  \n",
       "0                     8.0  \n",
       "1                     5.0  \n",
       "2                     6.0  \n",
       "3                     4.0  \n",
       "4                     8.0  "
      ]
     },
     "execution_count": 50,
     "metadata": {},
     "output_type": "execute_result"
    }
   ],
   "source": [
    "df.head()"
   ]
  },
  {
   "cell_type": "code",
   "execution_count": 51,
   "metadata": {},
   "outputs": [],
   "source": [
    "# Separate features and target\n",
    "x = df.drop('amount', axis=1)  # Replace 'revenue_column' with the actual column name for revenue\n",
    "y = df['amount']"
   ]
  },
  {
   "cell_type": "code",
   "execution_count": 52,
   "metadata": {},
   "outputs": [],
   "source": [
    "x_train,x_test,y_train,y_test = train_test_split(x,y,test_size=0.25)"
   ]
  },
  {
   "cell_type": "code",
   "execution_count": 53,
   "metadata": {},
   "outputs": [
    {
     "data": {
      "text/html": [
       "<div>\n",
       "<style scoped>\n",
       "    .dataframe tbody tr th:only-of-type {\n",
       "        vertical-align: middle;\n",
       "    }\n",
       "\n",
       "    .dataframe tbody tr th {\n",
       "        vertical-align: top;\n",
       "    }\n",
       "\n",
       "    .dataframe thead th {\n",
       "        text-align: right;\n",
       "    }\n",
       "</style>\n",
       "<table border=\"1\" class=\"dataframe\">\n",
       "  <thead>\n",
       "    <tr style=\"text-align: right;\">\n",
       "      <th></th>\n",
       "      <th>rental_rate</th>\n",
       "      <th>length</th>\n",
       "      <th>replacement_cost</th>\n",
       "      <th>rating</th>\n",
       "      <th>category</th>\n",
       "      <th>active</th>\n",
       "      <th>rental_actual_duration</th>\n",
       "    </tr>\n",
       "  </thead>\n",
       "  <tbody>\n",
       "    <tr>\n",
       "      <th>868</th>\n",
       "      <td>2.99</td>\n",
       "      <td>91</td>\n",
       "      <td>24.99</td>\n",
       "      <td>2</td>\n",
       "      <td>2</td>\n",
       "      <td>1</td>\n",
       "      <td>9.0</td>\n",
       "    </tr>\n",
       "    <tr>\n",
       "      <th>9828</th>\n",
       "      <td>4.99</td>\n",
       "      <td>148</td>\n",
       "      <td>11.99</td>\n",
       "      <td>0</td>\n",
       "      <td>11</td>\n",
       "      <td>1</td>\n",
       "      <td>9.0</td>\n",
       "    </tr>\n",
       "    <tr>\n",
       "      <th>6052</th>\n",
       "      <td>0.99</td>\n",
       "      <td>55</td>\n",
       "      <td>13.99</td>\n",
       "      <td>1</td>\n",
       "      <td>8</td>\n",
       "      <td>1</td>\n",
       "      <td>3.0</td>\n",
       "    </tr>\n",
       "    <tr>\n",
       "      <th>12744</th>\n",
       "      <td>0.99</td>\n",
       "      <td>143</td>\n",
       "      <td>9.99</td>\n",
       "      <td>4</td>\n",
       "      <td>4</td>\n",
       "      <td>1</td>\n",
       "      <td>8.0</td>\n",
       "    </tr>\n",
       "    <tr>\n",
       "      <th>4754</th>\n",
       "      <td>0.99</td>\n",
       "      <td>51</td>\n",
       "      <td>18.99</td>\n",
       "      <td>0</td>\n",
       "      <td>5</td>\n",
       "      <td>0</td>\n",
       "      <td>9.0</td>\n",
       "    </tr>\n",
       "    <tr>\n",
       "      <th>...</th>\n",
       "      <td>...</td>\n",
       "      <td>...</td>\n",
       "      <td>...</td>\n",
       "      <td>...</td>\n",
       "      <td>...</td>\n",
       "      <td>...</td>\n",
       "      <td>...</td>\n",
       "    </tr>\n",
       "    <tr>\n",
       "      <th>8263</th>\n",
       "      <td>2.99</td>\n",
       "      <td>61</td>\n",
       "      <td>13.99</td>\n",
       "      <td>2</td>\n",
       "      <td>8</td>\n",
       "      <td>1</td>\n",
       "      <td>7.0</td>\n",
       "    </tr>\n",
       "    <tr>\n",
       "      <th>11802</th>\n",
       "      <td>2.99</td>\n",
       "      <td>97</td>\n",
       "      <td>12.99</td>\n",
       "      <td>2</td>\n",
       "      <td>14</td>\n",
       "      <td>1</td>\n",
       "      <td>5.0</td>\n",
       "    </tr>\n",
       "    <tr>\n",
       "      <th>1605</th>\n",
       "      <td>0.99</td>\n",
       "      <td>135</td>\n",
       "      <td>12.99</td>\n",
       "      <td>1</td>\n",
       "      <td>10</td>\n",
       "      <td>1</td>\n",
       "      <td>2.0</td>\n",
       "    </tr>\n",
       "    <tr>\n",
       "      <th>2141</th>\n",
       "      <td>2.99</td>\n",
       "      <td>63</td>\n",
       "      <td>27.99</td>\n",
       "      <td>3</td>\n",
       "      <td>7</td>\n",
       "      <td>1</td>\n",
       "      <td>4.0</td>\n",
       "    </tr>\n",
       "    <tr>\n",
       "      <th>6569</th>\n",
       "      <td>4.99</td>\n",
       "      <td>161</td>\n",
       "      <td>22.99</td>\n",
       "      <td>3</td>\n",
       "      <td>6</td>\n",
       "      <td>1</td>\n",
       "      <td>5.0</td>\n",
       "    </tr>\n",
       "  </tbody>\n",
       "</table>\n",
       "<p>10809 rows × 7 columns</p>\n",
       "</div>"
      ],
      "text/plain": [
       "       rental_rate  length  replacement_cost  rating  category  active  \\\n",
       "868           2.99      91             24.99       2         2       1   \n",
       "9828          4.99     148             11.99       0        11       1   \n",
       "6052          0.99      55             13.99       1         8       1   \n",
       "12744         0.99     143              9.99       4         4       1   \n",
       "4754          0.99      51             18.99       0         5       0   \n",
       "...            ...     ...               ...     ...       ...     ...   \n",
       "8263          2.99      61             13.99       2         8       1   \n",
       "11802         2.99      97             12.99       2        14       1   \n",
       "1605          0.99     135             12.99       1        10       1   \n",
       "2141          2.99      63             27.99       3         7       1   \n",
       "6569          4.99     161             22.99       3         6       1   \n",
       "\n",
       "       rental_actual_duration  \n",
       "868                       9.0  \n",
       "9828                      9.0  \n",
       "6052                      3.0  \n",
       "12744                     8.0  \n",
       "4754                      9.0  \n",
       "...                       ...  \n",
       "8263                      7.0  \n",
       "11802                     5.0  \n",
       "1605                      2.0  \n",
       "2141                      4.0  \n",
       "6569                      5.0  \n",
       "\n",
       "[10809 rows x 7 columns]"
      ]
     },
     "execution_count": 53,
     "metadata": {},
     "output_type": "execute_result"
    }
   ],
   "source": [
    "x_train"
   ]
  },
  {
   "cell_type": "markdown",
   "metadata": {},
   "source": [
    "# Deep Learning"
   ]
  },
  {
   "cell_type": "code",
   "execution_count": 54,
   "metadata": {},
   "outputs": [
    {
     "name": "stderr",
     "output_type": "stream",
     "text": [
      "/Users/saro/Desktop/dvdrentaldl/.venv/lib/python3.9/site-packages/keras/src/layers/core/dense.py:87: UserWarning: Do not pass an `input_shape`/`input_dim` argument to a layer. When using Sequential models, prefer using an `Input(shape)` object as the first layer in the model instead.\n",
      "  super().__init__(activity_regularizer=activity_regularizer, **kwargs)\n"
     ]
    }
   ],
   "source": [
    "model1 = Sequential()\n",
    "# Input layer (match input shape to your data)\n",
    "model1.add(Dense(512, input_dim=x_train.shape[1], activation='relu'))\n",
    "\n",
    "# Hidden layers\n",
    "model1.add(Dense(256, activation='relu'))\n",
    "model1.add(Dense(256, activation='relu'))\n",
    "model1.add(Dense(128, activation='relu'))\n",
    "model1.add(Dense(128, activation='relu'))\n",
    "model1.add(Dense(64, activation='relu'))\n",
    "model1.add(Dense(16, activation='relu'))\n",
    "\n",
    "\n",
    "model1.add(Dense(1))\n",
    "\n",
    "# Compile the model for regression with 'mse' loss function\n",
    "model1.compile(optimizer='adam', loss='mean_squared_error', metrics=[MeanSquaredError(), MeanAbsoluteError()])"
   ]
  },
  {
   "cell_type": "code",
   "execution_count": 55,
   "metadata": {},
   "outputs": [
    {
     "data": {
      "text/html": [
       "<pre style=\"white-space:pre;overflow-x:auto;line-height:normal;font-family:Menlo,'DejaVu Sans Mono',consolas,'Courier New',monospace\"><span style=\"font-weight: bold\">Model: \"sequential_3\"</span>\n",
       "</pre>\n"
      ],
      "text/plain": [
       "\u001b[1mModel: \"sequential_3\"\u001b[0m\n"
      ]
     },
     "metadata": {},
     "output_type": "display_data"
    },
    {
     "data": {
      "text/html": [
       "<pre style=\"white-space:pre;overflow-x:auto;line-height:normal;font-family:Menlo,'DejaVu Sans Mono',consolas,'Courier New',monospace\">┏━━━━━━━━━━━━━━━━━━━━━━━━━━━━━━━━━┳━━━━━━━━━━━━━━━━━━━━━━━━┳━━━━━━━━━━━━━━━┓\n",
       "┃<span style=\"font-weight: bold\"> Layer (type)                    </span>┃<span style=\"font-weight: bold\"> Output Shape           </span>┃<span style=\"font-weight: bold\">       Param # </span>┃\n",
       "┡━━━━━━━━━━━━━━━━━━━━━━━━━━━━━━━━━╇━━━━━━━━━━━━━━━━━━━━━━━━╇━━━━━━━━━━━━━━━┩\n",
       "│ dense_24 (<span style=\"color: #0087ff; text-decoration-color: #0087ff\">Dense</span>)                │ (<span style=\"color: #00d7ff; text-decoration-color: #00d7ff\">None</span>, <span style=\"color: #00af00; text-decoration-color: #00af00\">512</span>)            │         <span style=\"color: #00af00; text-decoration-color: #00af00\">4,096</span> │\n",
       "├─────────────────────────────────┼────────────────────────┼───────────────┤\n",
       "│ dense_25 (<span style=\"color: #0087ff; text-decoration-color: #0087ff\">Dense</span>)                │ (<span style=\"color: #00d7ff; text-decoration-color: #00d7ff\">None</span>, <span style=\"color: #00af00; text-decoration-color: #00af00\">256</span>)            │       <span style=\"color: #00af00; text-decoration-color: #00af00\">131,328</span> │\n",
       "├─────────────────────────────────┼────────────────────────┼───────────────┤\n",
       "│ dense_26 (<span style=\"color: #0087ff; text-decoration-color: #0087ff\">Dense</span>)                │ (<span style=\"color: #00d7ff; text-decoration-color: #00d7ff\">None</span>, <span style=\"color: #00af00; text-decoration-color: #00af00\">256</span>)            │        <span style=\"color: #00af00; text-decoration-color: #00af00\">65,792</span> │\n",
       "├─────────────────────────────────┼────────────────────────┼───────────────┤\n",
       "│ dense_27 (<span style=\"color: #0087ff; text-decoration-color: #0087ff\">Dense</span>)                │ (<span style=\"color: #00d7ff; text-decoration-color: #00d7ff\">None</span>, <span style=\"color: #00af00; text-decoration-color: #00af00\">128</span>)            │        <span style=\"color: #00af00; text-decoration-color: #00af00\">32,896</span> │\n",
       "├─────────────────────────────────┼────────────────────────┼───────────────┤\n",
       "│ dense_28 (<span style=\"color: #0087ff; text-decoration-color: #0087ff\">Dense</span>)                │ (<span style=\"color: #00d7ff; text-decoration-color: #00d7ff\">None</span>, <span style=\"color: #00af00; text-decoration-color: #00af00\">128</span>)            │        <span style=\"color: #00af00; text-decoration-color: #00af00\">16,512</span> │\n",
       "├─────────────────────────────────┼────────────────────────┼───────────────┤\n",
       "│ dense_29 (<span style=\"color: #0087ff; text-decoration-color: #0087ff\">Dense</span>)                │ (<span style=\"color: #00d7ff; text-decoration-color: #00d7ff\">None</span>, <span style=\"color: #00af00; text-decoration-color: #00af00\">64</span>)             │         <span style=\"color: #00af00; text-decoration-color: #00af00\">8,256</span> │\n",
       "├─────────────────────────────────┼────────────────────────┼───────────────┤\n",
       "│ dense_30 (<span style=\"color: #0087ff; text-decoration-color: #0087ff\">Dense</span>)                │ (<span style=\"color: #00d7ff; text-decoration-color: #00d7ff\">None</span>, <span style=\"color: #00af00; text-decoration-color: #00af00\">16</span>)             │         <span style=\"color: #00af00; text-decoration-color: #00af00\">1,040</span> │\n",
       "├─────────────────────────────────┼────────────────────────┼───────────────┤\n",
       "│ dense_31 (<span style=\"color: #0087ff; text-decoration-color: #0087ff\">Dense</span>)                │ (<span style=\"color: #00d7ff; text-decoration-color: #00d7ff\">None</span>, <span style=\"color: #00af00; text-decoration-color: #00af00\">1</span>)              │            <span style=\"color: #00af00; text-decoration-color: #00af00\">17</span> │\n",
       "└─────────────────────────────────┴────────────────────────┴───────────────┘\n",
       "</pre>\n"
      ],
      "text/plain": [
       "┏━━━━━━━━━━━━━━━━━━━━━━━━━━━━━━━━━┳━━━━━━━━━━━━━━━━━━━━━━━━┳━━━━━━━━━━━━━━━┓\n",
       "┃\u001b[1m \u001b[0m\u001b[1mLayer (type)                   \u001b[0m\u001b[1m \u001b[0m┃\u001b[1m \u001b[0m\u001b[1mOutput Shape          \u001b[0m\u001b[1m \u001b[0m┃\u001b[1m \u001b[0m\u001b[1m      Param #\u001b[0m\u001b[1m \u001b[0m┃\n",
       "┡━━━━━━━━━━━━━━━━━━━━━━━━━━━━━━━━━╇━━━━━━━━━━━━━━━━━━━━━━━━╇━━━━━━━━━━━━━━━┩\n",
       "│ dense_24 (\u001b[38;5;33mDense\u001b[0m)                │ (\u001b[38;5;45mNone\u001b[0m, \u001b[38;5;34m512\u001b[0m)            │         \u001b[38;5;34m4,096\u001b[0m │\n",
       "├─────────────────────────────────┼────────────────────────┼───────────────┤\n",
       "│ dense_25 (\u001b[38;5;33mDense\u001b[0m)                │ (\u001b[38;5;45mNone\u001b[0m, \u001b[38;5;34m256\u001b[0m)            │       \u001b[38;5;34m131,328\u001b[0m │\n",
       "├─────────────────────────────────┼────────────────────────┼───────────────┤\n",
       "│ dense_26 (\u001b[38;5;33mDense\u001b[0m)                │ (\u001b[38;5;45mNone\u001b[0m, \u001b[38;5;34m256\u001b[0m)            │        \u001b[38;5;34m65,792\u001b[0m │\n",
       "├─────────────────────────────────┼────────────────────────┼───────────────┤\n",
       "│ dense_27 (\u001b[38;5;33mDense\u001b[0m)                │ (\u001b[38;5;45mNone\u001b[0m, \u001b[38;5;34m128\u001b[0m)            │        \u001b[38;5;34m32,896\u001b[0m │\n",
       "├─────────────────────────────────┼────────────────────────┼───────────────┤\n",
       "│ dense_28 (\u001b[38;5;33mDense\u001b[0m)                │ (\u001b[38;5;45mNone\u001b[0m, \u001b[38;5;34m128\u001b[0m)            │        \u001b[38;5;34m16,512\u001b[0m │\n",
       "├─────────────────────────────────┼────────────────────────┼───────────────┤\n",
       "│ dense_29 (\u001b[38;5;33mDense\u001b[0m)                │ (\u001b[38;5;45mNone\u001b[0m, \u001b[38;5;34m64\u001b[0m)             │         \u001b[38;5;34m8,256\u001b[0m │\n",
       "├─────────────────────────────────┼────────────────────────┼───────────────┤\n",
       "│ dense_30 (\u001b[38;5;33mDense\u001b[0m)                │ (\u001b[38;5;45mNone\u001b[0m, \u001b[38;5;34m16\u001b[0m)             │         \u001b[38;5;34m1,040\u001b[0m │\n",
       "├─────────────────────────────────┼────────────────────────┼───────────────┤\n",
       "│ dense_31 (\u001b[38;5;33mDense\u001b[0m)                │ (\u001b[38;5;45mNone\u001b[0m, \u001b[38;5;34m1\u001b[0m)              │            \u001b[38;5;34m17\u001b[0m │\n",
       "└─────────────────────────────────┴────────────────────────┴───────────────┘\n"
      ]
     },
     "metadata": {},
     "output_type": "display_data"
    },
    {
     "data": {
      "text/html": [
       "<pre style=\"white-space:pre;overflow-x:auto;line-height:normal;font-family:Menlo,'DejaVu Sans Mono',consolas,'Courier New',monospace\"><span style=\"font-weight: bold\"> Total params: </span><span style=\"color: #00af00; text-decoration-color: #00af00\">259,937</span> (1015.38 KB)\n",
       "</pre>\n"
      ],
      "text/plain": [
       "\u001b[1m Total params: \u001b[0m\u001b[38;5;34m259,937\u001b[0m (1015.38 KB)\n"
      ]
     },
     "metadata": {},
     "output_type": "display_data"
    },
    {
     "data": {
      "text/html": [
       "<pre style=\"white-space:pre;overflow-x:auto;line-height:normal;font-family:Menlo,'DejaVu Sans Mono',consolas,'Courier New',monospace\"><span style=\"font-weight: bold\"> Trainable params: </span><span style=\"color: #00af00; text-decoration-color: #00af00\">259,937</span> (1015.38 KB)\n",
       "</pre>\n"
      ],
      "text/plain": [
       "\u001b[1m Trainable params: \u001b[0m\u001b[38;5;34m259,937\u001b[0m (1015.38 KB)\n"
      ]
     },
     "metadata": {},
     "output_type": "display_data"
    },
    {
     "data": {
      "text/html": [
       "<pre style=\"white-space:pre;overflow-x:auto;line-height:normal;font-family:Menlo,'DejaVu Sans Mono',consolas,'Courier New',monospace\"><span style=\"font-weight: bold\"> Non-trainable params: </span><span style=\"color: #00af00; text-decoration-color: #00af00\">0</span> (0.00 B)\n",
       "</pre>\n"
      ],
      "text/plain": [
       "\u001b[1m Non-trainable params: \u001b[0m\u001b[38;5;34m0\u001b[0m (0.00 B)\n"
      ]
     },
     "metadata": {},
     "output_type": "display_data"
    }
   ],
   "source": [
    "model1.summary()"
   ]
  },
  {
   "cell_type": "code",
   "execution_count": 56,
   "metadata": {},
   "outputs": [
    {
     "name": "stdout",
     "output_type": "stream",
     "text": [
      "Epoch 1/80\n",
      "\u001b[1m338/338\u001b[0m \u001b[32m━━━━━━━━━━━━━━━━━━━━\u001b[0m\u001b[37m\u001b[0m \u001b[1m1s\u001b[0m 2ms/step - loss: 3.8539 - mean_absolute_error: 1.5043 - mean_squared_error: 3.8539 - val_loss: 1.2542 - val_mean_absolute_error: 0.8792 - val_mean_squared_error: 1.2542\n",
      "Epoch 2/80\n",
      "\u001b[1m338/338\u001b[0m \u001b[32m━━━━━━━━━━━━━━━━━━━━\u001b[0m\u001b[37m\u001b[0m \u001b[1m1s\u001b[0m 2ms/step - loss: 1.4810 - mean_absolute_error: 0.9384 - mean_squared_error: 1.4810 - val_loss: 1.4433 - val_mean_absolute_error: 0.9385 - val_mean_squared_error: 1.4433\n",
      "Epoch 3/80\n",
      "\u001b[1m338/338\u001b[0m \u001b[32m━━━━━━━━━━━━━━━━━━━━\u001b[0m\u001b[37m\u001b[0m \u001b[1m1s\u001b[0m 2ms/step - loss: 1.3246 - mean_absolute_error: 0.8893 - mean_squared_error: 1.3246 - val_loss: 1.1956 - val_mean_absolute_error: 0.8466 - val_mean_squared_error: 1.1956\n",
      "Epoch 4/80\n",
      "\u001b[1m338/338\u001b[0m \u001b[32m━━━━━━━━━━━━━━━━━━━━\u001b[0m\u001b[37m\u001b[0m \u001b[1m1s\u001b[0m 2ms/step - loss: 1.2484 - mean_absolute_error: 0.8447 - mean_squared_error: 1.2484 - val_loss: 1.1193 - val_mean_absolute_error: 0.7894 - val_mean_squared_error: 1.1193\n",
      "Epoch 5/80\n",
      "\u001b[1m338/338\u001b[0m \u001b[32m━━━━━━━━━━━━━━━━━━━━\u001b[0m\u001b[37m\u001b[0m \u001b[1m1s\u001b[0m 3ms/step - loss: 1.2184 - mean_absolute_error: 0.8290 - mean_squared_error: 1.2184 - val_loss: 1.1018 - val_mean_absolute_error: 0.7834 - val_mean_squared_error: 1.1018\n",
      "Epoch 6/80\n",
      "\u001b[1m338/338\u001b[0m \u001b[32m━━━━━━━━━━━━━━━━━━━━\u001b[0m\u001b[37m\u001b[0m \u001b[1m1s\u001b[0m 2ms/step - loss: 1.2305 - mean_absolute_error: 0.8269 - mean_squared_error: 1.2305 - val_loss: 1.0857 - val_mean_absolute_error: 0.7720 - val_mean_squared_error: 1.0857\n",
      "Epoch 7/80\n",
      "\u001b[1m338/338\u001b[0m \u001b[32m━━━━━━━━━━━━━━━━━━━━\u001b[0m\u001b[37m\u001b[0m \u001b[1m1s\u001b[0m 3ms/step - loss: 1.1507 - mean_absolute_error: 0.7867 - mean_squared_error: 1.1507 - val_loss: 1.3227 - val_mean_absolute_error: 0.8851 - val_mean_squared_error: 1.3227\n",
      "Epoch 8/80\n",
      "\u001b[1m338/338\u001b[0m \u001b[32m━━━━━━━━━━━━━━━━━━━━\u001b[0m\u001b[37m\u001b[0m \u001b[1m1s\u001b[0m 3ms/step - loss: 1.1443 - mean_absolute_error: 0.7805 - mean_squared_error: 1.1443 - val_loss: 1.0421 - val_mean_absolute_error: 0.7243 - val_mean_squared_error: 1.0421\n",
      "Epoch 9/80\n",
      "\u001b[1m338/338\u001b[0m \u001b[32m━━━━━━━━━━━━━━━━━━━━\u001b[0m\u001b[37m\u001b[0m \u001b[1m1s\u001b[0m 3ms/step - loss: 1.1225 - mean_absolute_error: 0.7661 - mean_squared_error: 1.1225 - val_loss: 1.0279 - val_mean_absolute_error: 0.7137 - val_mean_squared_error: 1.0279\n",
      "Epoch 10/80\n",
      "\u001b[1m338/338\u001b[0m \u001b[32m━━━━━━━━━━━━━━━━━━━━\u001b[0m\u001b[37m\u001b[0m \u001b[1m1s\u001b[0m 2ms/step - loss: 1.1513 - mean_absolute_error: 0.7827 - mean_squared_error: 1.1513 - val_loss: 1.0176 - val_mean_absolute_error: 0.7101 - val_mean_squared_error: 1.0176\n",
      "Epoch 11/80\n",
      "\u001b[1m338/338\u001b[0m \u001b[32m━━━━━━━━━━━━━━━━━━━━\u001b[0m\u001b[37m\u001b[0m \u001b[1m1s\u001b[0m 3ms/step - loss: 1.0748 - mean_absolute_error: 0.7450 - mean_squared_error: 1.0748 - val_loss: 1.0919 - val_mean_absolute_error: 0.7360 - val_mean_squared_error: 1.0919\n",
      "Epoch 12/80\n",
      "\u001b[1m338/338\u001b[0m \u001b[32m━━━━━━━━━━━━━━━━━━━━\u001b[0m\u001b[37m\u001b[0m \u001b[1m1s\u001b[0m 3ms/step - loss: 1.1510 - mean_absolute_error: 0.7794 - mean_squared_error: 1.1510 - val_loss: 1.1307 - val_mean_absolute_error: 0.7496 - val_mean_squared_error: 1.1307\n",
      "Epoch 13/80\n",
      "\u001b[1m338/338\u001b[0m \u001b[32m━━━━━━━━━━━━━━━━━━━━\u001b[0m\u001b[37m\u001b[0m \u001b[1m1s\u001b[0m 3ms/step - loss: 1.1295 - mean_absolute_error: 0.7712 - mean_squared_error: 1.1295 - val_loss: 1.0555 - val_mean_absolute_error: 0.7561 - val_mean_squared_error: 1.0555\n",
      "Epoch 14/80\n",
      "\u001b[1m338/338\u001b[0m \u001b[32m━━━━━━━━━━━━━━━━━━━━\u001b[0m\u001b[37m\u001b[0m \u001b[1m1s\u001b[0m 3ms/step - loss: 1.1217 - mean_absolute_error: 0.7702 - mean_squared_error: 1.1217 - val_loss: 1.0097 - val_mean_absolute_error: 0.7082 - val_mean_squared_error: 1.0097\n",
      "Epoch 15/80\n",
      "\u001b[1m338/338\u001b[0m \u001b[32m━━━━━━━━━━━━━━━━━━━━\u001b[0m\u001b[37m\u001b[0m \u001b[1m1s\u001b[0m 3ms/step - loss: 1.0922 - mean_absolute_error: 0.7512 - mean_squared_error: 1.0922 - val_loss: 1.0353 - val_mean_absolute_error: 0.7232 - val_mean_squared_error: 1.0353\n",
      "Epoch 16/80\n",
      "\u001b[1m338/338\u001b[0m \u001b[32m━━━━━━━━━━━━━━━━━━━━\u001b[0m\u001b[37m\u001b[0m \u001b[1m1s\u001b[0m 3ms/step - loss: 1.1008 - mean_absolute_error: 0.7533 - mean_squared_error: 1.1008 - val_loss: 1.0548 - val_mean_absolute_error: 0.7386 - val_mean_squared_error: 1.0548\n",
      "Epoch 17/80\n",
      "\u001b[1m338/338\u001b[0m \u001b[32m━━━━━━━━━━━━━━━━━━━━\u001b[0m\u001b[37m\u001b[0m \u001b[1m1s\u001b[0m 2ms/step - loss: 1.0808 - mean_absolute_error: 0.7427 - mean_squared_error: 1.0808 - val_loss: 1.0344 - val_mean_absolute_error: 0.7047 - val_mean_squared_error: 1.0344\n",
      "Epoch 18/80\n",
      "\u001b[1m338/338\u001b[0m \u001b[32m━━━━━━━━━━━━━━━━━━━━\u001b[0m\u001b[37m\u001b[0m \u001b[1m1s\u001b[0m 3ms/step - loss: 1.0422 - mean_absolute_error: 0.7261 - mean_squared_error: 1.0422 - val_loss: 1.0552 - val_mean_absolute_error: 0.7119 - val_mean_squared_error: 1.0552\n",
      "Epoch 19/80\n",
      "\u001b[1m338/338\u001b[0m \u001b[32m━━━━━━━━━━━━━━━━━━━━\u001b[0m\u001b[37m\u001b[0m \u001b[1m1s\u001b[0m 3ms/step - loss: 1.0725 - mean_absolute_error: 0.7453 - mean_squared_error: 1.0725 - val_loss: 1.0940 - val_mean_absolute_error: 0.7598 - val_mean_squared_error: 1.0940\n",
      "Epoch 20/80\n",
      "\u001b[1m338/338\u001b[0m \u001b[32m━━━━━━━━━━━━━━━━━━━━\u001b[0m\u001b[37m\u001b[0m \u001b[1m1s\u001b[0m 2ms/step - loss: 1.0689 - mean_absolute_error: 0.7353 - mean_squared_error: 1.0689 - val_loss: 1.0299 - val_mean_absolute_error: 0.7026 - val_mean_squared_error: 1.0299\n",
      "Epoch 21/80\n",
      "\u001b[1m338/338\u001b[0m \u001b[32m━━━━━━━━━━━━━━━━━━━━\u001b[0m\u001b[37m\u001b[0m \u001b[1m1s\u001b[0m 2ms/step - loss: 1.0867 - mean_absolute_error: 0.7438 - mean_squared_error: 1.0867 - val_loss: 1.0004 - val_mean_absolute_error: 0.6971 - val_mean_squared_error: 1.0004\n",
      "Epoch 22/80\n",
      "\u001b[1m338/338\u001b[0m \u001b[32m━━━━━━━━━━━━━━━━━━━━\u001b[0m\u001b[37m\u001b[0m \u001b[1m1s\u001b[0m 2ms/step - loss: 1.0965 - mean_absolute_error: 0.7449 - mean_squared_error: 1.0965 - val_loss: 1.0067 - val_mean_absolute_error: 0.6933 - val_mean_squared_error: 1.0067\n",
      "Epoch 23/80\n",
      "\u001b[1m338/338\u001b[0m \u001b[32m━━━━━━━━━━━━━━━━━━━━\u001b[0m\u001b[37m\u001b[0m \u001b[1m1s\u001b[0m 2ms/step - loss: 1.0615 - mean_absolute_error: 0.7329 - mean_squared_error: 1.0615 - val_loss: 1.0137 - val_mean_absolute_error: 0.7283 - val_mean_squared_error: 1.0137\n",
      "Epoch 24/80\n",
      "\u001b[1m338/338\u001b[0m \u001b[32m━━━━━━━━━━━━━━━━━━━━\u001b[0m\u001b[37m\u001b[0m \u001b[1m1s\u001b[0m 2ms/step - loss: 1.0278 - mean_absolute_error: 0.7205 - mean_squared_error: 1.0278 - val_loss: 1.0062 - val_mean_absolute_error: 0.7174 - val_mean_squared_error: 1.0062\n",
      "Epoch 25/80\n",
      "\u001b[1m338/338\u001b[0m \u001b[32m━━━━━━━━━━━━━━━━━━━━\u001b[0m\u001b[37m\u001b[0m \u001b[1m1s\u001b[0m 2ms/step - loss: 1.0610 - mean_absolute_error: 0.7379 - mean_squared_error: 1.0610 - val_loss: 1.0132 - val_mean_absolute_error: 0.7164 - val_mean_squared_error: 1.0132\n",
      "Epoch 26/80\n",
      "\u001b[1m338/338\u001b[0m \u001b[32m━━━━━━━━━━━━━━━━━━━━\u001b[0m\u001b[37m\u001b[0m \u001b[1m1s\u001b[0m 3ms/step - loss: 1.0512 - mean_absolute_error: 0.7307 - mean_squared_error: 1.0512 - val_loss: 1.2041 - val_mean_absolute_error: 0.8256 - val_mean_squared_error: 1.2041\n",
      "Epoch 27/80\n",
      "\u001b[1m338/338\u001b[0m \u001b[32m━━━━━━━━━━━━━━━━━━━━\u001b[0m\u001b[37m\u001b[0m \u001b[1m1s\u001b[0m 2ms/step - loss: 1.0764 - mean_absolute_error: 0.7429 - mean_squared_error: 1.0764 - val_loss: 1.0191 - val_mean_absolute_error: 0.7324 - val_mean_squared_error: 1.0191\n",
      "Epoch 28/80\n",
      "\u001b[1m338/338\u001b[0m \u001b[32m━━━━━━━━━━━━━━━━━━━━\u001b[0m\u001b[37m\u001b[0m \u001b[1m1s\u001b[0m 3ms/step - loss: 1.0474 - mean_absolute_error: 0.7250 - mean_squared_error: 1.0474 - val_loss: 1.0843 - val_mean_absolute_error: 0.7344 - val_mean_squared_error: 1.0843\n",
      "Epoch 29/80\n",
      "\u001b[1m338/338\u001b[0m \u001b[32m━━━━━━━━━━━━━━━━━━━━\u001b[0m\u001b[37m\u001b[0m \u001b[1m1s\u001b[0m 2ms/step - loss: 1.0451 - mean_absolute_error: 0.7283 - mean_squared_error: 1.0451 - val_loss: 1.0067 - val_mean_absolute_error: 0.6981 - val_mean_squared_error: 1.0067\n",
      "Epoch 30/80\n",
      "\u001b[1m338/338\u001b[0m \u001b[32m━━━━━━━━━━━━━━━━━━━━\u001b[0m\u001b[37m\u001b[0m \u001b[1m1s\u001b[0m 2ms/step - loss: 1.0243 - mean_absolute_error: 0.7114 - mean_squared_error: 1.0243 - val_loss: 1.0127 - val_mean_absolute_error: 0.7004 - val_mean_squared_error: 1.0127\n",
      "Epoch 31/80\n",
      "\u001b[1m338/338\u001b[0m \u001b[32m━━━━━━━━━━━━━━━━━━━━\u001b[0m\u001b[37m\u001b[0m \u001b[1m1s\u001b[0m 2ms/step - loss: 1.0517 - mean_absolute_error: 0.7306 - mean_squared_error: 1.0517 - val_loss: 1.0208 - val_mean_absolute_error: 0.6889 - val_mean_squared_error: 1.0208\n",
      "Epoch 32/80\n",
      "\u001b[1m338/338\u001b[0m \u001b[32m━━━━━━━━━━━━━━━━━━━━\u001b[0m\u001b[37m\u001b[0m \u001b[1m1s\u001b[0m 3ms/step - loss: 0.9921 - mean_absolute_error: 0.6927 - mean_squared_error: 0.9921 - val_loss: 1.0075 - val_mean_absolute_error: 0.7172 - val_mean_squared_error: 1.0075\n",
      "Epoch 33/80\n",
      "\u001b[1m338/338\u001b[0m \u001b[32m━━━━━━━━━━━━━━━━━━━━\u001b[0m\u001b[37m\u001b[0m \u001b[1m1s\u001b[0m 2ms/step - loss: 1.0018 - mean_absolute_error: 0.7073 - mean_squared_error: 1.0018 - val_loss: 0.9693 - val_mean_absolute_error: 0.6811 - val_mean_squared_error: 0.9693\n",
      "Epoch 34/80\n",
      "\u001b[1m338/338\u001b[0m \u001b[32m━━━━━━━━━━━━━━━━━━━━\u001b[0m\u001b[37m\u001b[0m \u001b[1m1s\u001b[0m 2ms/step - loss: 1.0252 - mean_absolute_error: 0.7082 - mean_squared_error: 1.0252 - val_loss: 1.0682 - val_mean_absolute_error: 0.7492 - val_mean_squared_error: 1.0682\n",
      "Epoch 35/80\n",
      "\u001b[1m338/338\u001b[0m \u001b[32m━━━━━━━━━━━━━━━━━━━━\u001b[0m\u001b[37m\u001b[0m \u001b[1m1s\u001b[0m 2ms/step - loss: 0.9920 - mean_absolute_error: 0.7008 - mean_squared_error: 0.9920 - val_loss: 0.9757 - val_mean_absolute_error: 0.6862 - val_mean_squared_error: 0.9757\n",
      "Epoch 36/80\n",
      "\u001b[1m338/338\u001b[0m \u001b[32m━━━━━━━━━━━━━━━━━━━━\u001b[0m\u001b[37m\u001b[0m \u001b[1m1s\u001b[0m 2ms/step - loss: 0.9522 - mean_absolute_error: 0.6772 - mean_squared_error: 0.9522 - val_loss: 0.9762 - val_mean_absolute_error: 0.6883 - val_mean_squared_error: 0.9762\n",
      "Epoch 37/80\n",
      "\u001b[1m338/338\u001b[0m \u001b[32m━━━━━━━━━━━━━━━━━━━━\u001b[0m\u001b[37m\u001b[0m \u001b[1m1s\u001b[0m 3ms/step - loss: 0.9930 - mean_absolute_error: 0.6987 - mean_squared_error: 0.9930 - val_loss: 0.9383 - val_mean_absolute_error: 0.6582 - val_mean_squared_error: 0.9383\n",
      "Epoch 38/80\n",
      "\u001b[1m338/338\u001b[0m \u001b[32m━━━━━━━━━━━━━━━━━━━━\u001b[0m\u001b[37m\u001b[0m \u001b[1m1s\u001b[0m 2ms/step - loss: 0.9985 - mean_absolute_error: 0.7006 - mean_squared_error: 0.9985 - val_loss: 1.1928 - val_mean_absolute_error: 0.7726 - val_mean_squared_error: 1.1928\n",
      "Epoch 39/80\n",
      "\u001b[1m338/338\u001b[0m \u001b[32m━━━━━━━━━━━━━━━━━━━━\u001b[0m\u001b[37m\u001b[0m \u001b[1m1s\u001b[0m 2ms/step - loss: 1.0091 - mean_absolute_error: 0.7062 - mean_squared_error: 1.0091 - val_loss: 1.1192 - val_mean_absolute_error: 0.7068 - val_mean_squared_error: 1.1192\n",
      "Epoch 40/80\n",
      "\u001b[1m338/338\u001b[0m \u001b[32m━━━━━━━━━━━━━━━━━━━━\u001b[0m\u001b[37m\u001b[0m \u001b[1m1s\u001b[0m 2ms/step - loss: 0.9887 - mean_absolute_error: 0.6910 - mean_squared_error: 0.9887 - val_loss: 1.0218 - val_mean_absolute_error: 0.7383 - val_mean_squared_error: 1.0218\n",
      "Epoch 41/80\n",
      "\u001b[1m338/338\u001b[0m \u001b[32m━━━━━━━━━━━━━━━━━━━━\u001b[0m\u001b[37m\u001b[0m \u001b[1m1s\u001b[0m 2ms/step - loss: 0.9773 - mean_absolute_error: 0.6915 - mean_squared_error: 0.9773 - val_loss: 0.9468 - val_mean_absolute_error: 0.6941 - val_mean_squared_error: 0.9468\n",
      "Epoch 42/80\n",
      "\u001b[1m338/338\u001b[0m \u001b[32m━━━━━━━━━━━━━━━━━━━━\u001b[0m\u001b[37m\u001b[0m \u001b[1m1s\u001b[0m 3ms/step - loss: 0.9276 - mean_absolute_error: 0.6716 - mean_squared_error: 0.9276 - val_loss: 1.0023 - val_mean_absolute_error: 0.7169 - val_mean_squared_error: 1.0023\n",
      "Epoch 43/80\n",
      "\u001b[1m338/338\u001b[0m \u001b[32m━━━━━━━━━━━━━━━━━━━━\u001b[0m\u001b[37m\u001b[0m \u001b[1m1s\u001b[0m 2ms/step - loss: 0.9793 - mean_absolute_error: 0.6938 - mean_squared_error: 0.9793 - val_loss: 0.9567 - val_mean_absolute_error: 0.6500 - val_mean_squared_error: 0.9567\n",
      "Epoch 44/80\n",
      "\u001b[1m338/338\u001b[0m \u001b[32m━━━━━━━━━━━━━━━━━━━━\u001b[0m\u001b[37m\u001b[0m \u001b[1m1s\u001b[0m 2ms/step - loss: 1.0007 - mean_absolute_error: 0.7002 - mean_squared_error: 1.0007 - val_loss: 1.2400 - val_mean_absolute_error: 0.8044 - val_mean_squared_error: 1.2400\n",
      "Epoch 45/80\n",
      "\u001b[1m338/338\u001b[0m \u001b[32m━━━━━━━━━━━━━━━━━━━━\u001b[0m\u001b[37m\u001b[0m \u001b[1m1s\u001b[0m 2ms/step - loss: 0.9832 - mean_absolute_error: 0.6827 - mean_squared_error: 0.9832 - val_loss: 0.9329 - val_mean_absolute_error: 0.6774 - val_mean_squared_error: 0.9329\n",
      "Epoch 46/80\n",
      "\u001b[1m338/338\u001b[0m \u001b[32m━━━━━━━━━━━━━━━━━━━━\u001b[0m\u001b[37m\u001b[0m \u001b[1m1s\u001b[0m 2ms/step - loss: 0.8967 - mean_absolute_error: 0.6548 - mean_squared_error: 0.8967 - val_loss: 1.0077 - val_mean_absolute_error: 0.7190 - val_mean_squared_error: 1.0077\n",
      "Epoch 47/80\n",
      "\u001b[1m338/338\u001b[0m \u001b[32m━━━━━━━━━━━━━━━━━━━━\u001b[0m\u001b[37m\u001b[0m \u001b[1m1s\u001b[0m 3ms/step - loss: 0.9480 - mean_absolute_error: 0.6798 - mean_squared_error: 0.9480 - val_loss: 0.9525 - val_mean_absolute_error: 0.6904 - val_mean_squared_error: 0.9525\n",
      "Epoch 48/80\n",
      "\u001b[1m338/338\u001b[0m \u001b[32m━━━━━━━━━━━━━━━━━━━━\u001b[0m\u001b[37m\u001b[0m \u001b[1m1s\u001b[0m 2ms/step - loss: 0.9060 - mean_absolute_error: 0.6560 - mean_squared_error: 0.9060 - val_loss: 0.9530 - val_mean_absolute_error: 0.6733 - val_mean_squared_error: 0.9530\n",
      "Epoch 49/80\n",
      "\u001b[1m338/338\u001b[0m \u001b[32m━━━━━━━━━━━━━━━━━━━━\u001b[0m\u001b[37m\u001b[0m \u001b[1m1s\u001b[0m 2ms/step - loss: 0.9046 - mean_absolute_error: 0.6560 - mean_squared_error: 0.9046 - val_loss: 0.9416 - val_mean_absolute_error: 0.6711 - val_mean_squared_error: 0.9416\n",
      "Epoch 50/80\n",
      "\u001b[1m338/338\u001b[0m \u001b[32m━━━━━━━━━━━━━━━━━━━━\u001b[0m\u001b[37m\u001b[0m \u001b[1m1s\u001b[0m 2ms/step - loss: 0.9428 - mean_absolute_error: 0.6764 - mean_squared_error: 0.9428 - val_loss: 0.8911 - val_mean_absolute_error: 0.6358 - val_mean_squared_error: 0.8911\n",
      "Epoch 51/80\n",
      "\u001b[1m338/338\u001b[0m \u001b[32m━━━━━━━━━━━━━━━━━━━━\u001b[0m\u001b[37m\u001b[0m \u001b[1m1s\u001b[0m 2ms/step - loss: 0.9272 - mean_absolute_error: 0.6602 - mean_squared_error: 0.9272 - val_loss: 1.2044 - val_mean_absolute_error: 0.7314 - val_mean_squared_error: 1.2044\n",
      "Epoch 52/80\n",
      "\u001b[1m338/338\u001b[0m \u001b[32m━━━━━━━━━━━━━━━━━━━━\u001b[0m\u001b[37m\u001b[0m \u001b[1m1s\u001b[0m 3ms/step - loss: 0.9269 - mean_absolute_error: 0.6679 - mean_squared_error: 0.9269 - val_loss: 0.9002 - val_mean_absolute_error: 0.6281 - val_mean_squared_error: 0.9002\n",
      "Epoch 53/80\n",
      "\u001b[1m338/338\u001b[0m \u001b[32m━━━━━━━━━━━━━━━━━━━━\u001b[0m\u001b[37m\u001b[0m \u001b[1m1s\u001b[0m 2ms/step - loss: 0.9244 - mean_absolute_error: 0.6608 - mean_squared_error: 0.9244 - val_loss: 0.9520 - val_mean_absolute_error: 0.7146 - val_mean_squared_error: 0.9520\n",
      "Epoch 54/80\n",
      "\u001b[1m338/338\u001b[0m \u001b[32m━━━━━━━━━━━━━━━━━━━━\u001b[0m\u001b[37m\u001b[0m \u001b[1m1s\u001b[0m 2ms/step - loss: 0.9279 - mean_absolute_error: 0.6672 - mean_squared_error: 0.9279 - val_loss: 0.8712 - val_mean_absolute_error: 0.6308 - val_mean_squared_error: 0.8712\n",
      "Epoch 55/80\n",
      "\u001b[1m338/338\u001b[0m \u001b[32m━━━━━━━━━━━━━━━━━━━━\u001b[0m\u001b[37m\u001b[0m \u001b[1m1s\u001b[0m 2ms/step - loss: 0.8832 - mean_absolute_error: 0.6435 - mean_squared_error: 0.8832 - val_loss: 1.1638 - val_mean_absolute_error: 0.7554 - val_mean_squared_error: 1.1638\n",
      "Epoch 56/80\n",
      "\u001b[1m338/338\u001b[0m \u001b[32m━━━━━━━━━━━━━━━━━━━━\u001b[0m\u001b[37m\u001b[0m \u001b[1m1s\u001b[0m 2ms/step - loss: 0.8991 - mean_absolute_error: 0.6537 - mean_squared_error: 0.8991 - val_loss: 0.9962 - val_mean_absolute_error: 0.7017 - val_mean_squared_error: 0.9962\n",
      "Epoch 57/80\n",
      "\u001b[1m338/338\u001b[0m \u001b[32m━━━━━━━━━━━━━━━━━━━━\u001b[0m\u001b[37m\u001b[0m \u001b[1m1s\u001b[0m 2ms/step - loss: 0.8928 - mean_absolute_error: 0.6403 - mean_squared_error: 0.8928 - val_loss: 0.8549 - val_mean_absolute_error: 0.6201 - val_mean_squared_error: 0.8549\n",
      "Epoch 58/80\n",
      "\u001b[1m338/338\u001b[0m \u001b[32m━━━━━━━━━━━━━━━━━━━━\u001b[0m\u001b[37m\u001b[0m \u001b[1m1s\u001b[0m 2ms/step - loss: 0.8402 - mean_absolute_error: 0.6298 - mean_squared_error: 0.8402 - val_loss: 0.8542 - val_mean_absolute_error: 0.6214 - val_mean_squared_error: 0.8542\n",
      "Epoch 59/80\n",
      "\u001b[1m338/338\u001b[0m \u001b[32m━━━━━━━━━━━━━━━━━━━━\u001b[0m\u001b[37m\u001b[0m \u001b[1m1s\u001b[0m 2ms/step - loss: 0.8748 - mean_absolute_error: 0.6422 - mean_squared_error: 0.8748 - val_loss: 0.8652 - val_mean_absolute_error: 0.6340 - val_mean_squared_error: 0.8652\n",
      "Epoch 60/80\n",
      "\u001b[1m338/338\u001b[0m \u001b[32m━━━━━━━━━━━━━━━━━━━━\u001b[0m\u001b[37m\u001b[0m \u001b[1m1s\u001b[0m 2ms/step - loss: 0.8461 - mean_absolute_error: 0.6234 - mean_squared_error: 0.8461 - val_loss: 0.8376 - val_mean_absolute_error: 0.6188 - val_mean_squared_error: 0.8376\n",
      "Epoch 61/80\n",
      "\u001b[1m338/338\u001b[0m \u001b[32m━━━━━━━━━━━━━━━━━━━━\u001b[0m\u001b[37m\u001b[0m \u001b[1m1s\u001b[0m 3ms/step - loss: 0.8378 - mean_absolute_error: 0.6222 - mean_squared_error: 0.8378 - val_loss: 0.8410 - val_mean_absolute_error: 0.6169 - val_mean_squared_error: 0.8410\n",
      "Epoch 62/80\n",
      "\u001b[1m338/338\u001b[0m \u001b[32m━━━━━━━━━━━━━━━━━━━━\u001b[0m\u001b[37m\u001b[0m \u001b[1m1s\u001b[0m 2ms/step - loss: 0.8266 - mean_absolute_error: 0.6106 - mean_squared_error: 0.8266 - val_loss: 1.0067 - val_mean_absolute_error: 0.7322 - val_mean_squared_error: 1.0067\n",
      "Epoch 63/80\n",
      "\u001b[1m338/338\u001b[0m \u001b[32m━━━━━━━━━━━━━━━━━━━━\u001b[0m\u001b[37m\u001b[0m \u001b[1m1s\u001b[0m 2ms/step - loss: 0.8707 - mean_absolute_error: 0.6445 - mean_squared_error: 0.8707 - val_loss: 0.9047 - val_mean_absolute_error: 0.6019 - val_mean_squared_error: 0.9047\n",
      "Epoch 64/80\n",
      "\u001b[1m338/338\u001b[0m \u001b[32m━━━━━━━━━━━━━━━━━━━━\u001b[0m\u001b[37m\u001b[0m \u001b[1m1s\u001b[0m 2ms/step - loss: 0.8466 - mean_absolute_error: 0.6249 - mean_squared_error: 0.8466 - val_loss: 0.8330 - val_mean_absolute_error: 0.6017 - val_mean_squared_error: 0.8330\n",
      "Epoch 65/80\n",
      "\u001b[1m338/338\u001b[0m \u001b[32m━━━━━━━━━━━━━━━━━━━━\u001b[0m\u001b[37m\u001b[0m \u001b[1m1s\u001b[0m 2ms/step - loss: 0.8280 - mean_absolute_error: 0.6180 - mean_squared_error: 0.8280 - val_loss: 1.0243 - val_mean_absolute_error: 0.6993 - val_mean_squared_error: 1.0243\n",
      "Epoch 66/80\n",
      "\u001b[1m338/338\u001b[0m \u001b[32m━━━━━━━━━━━━━━━━━━━━\u001b[0m\u001b[37m\u001b[0m \u001b[1m1s\u001b[0m 2ms/step - loss: 0.8302 - mean_absolute_error: 0.6181 - mean_squared_error: 0.8302 - val_loss: 1.0030 - val_mean_absolute_error: 0.6686 - val_mean_squared_error: 1.0030\n",
      "Epoch 67/80\n",
      "\u001b[1m338/338\u001b[0m \u001b[32m━━━━━━━━━━━━━━━━━━━━\u001b[0m\u001b[37m\u001b[0m \u001b[1m1s\u001b[0m 2ms/step - loss: 0.8263 - mean_absolute_error: 0.6199 - mean_squared_error: 0.8263 - val_loss: 0.9995 - val_mean_absolute_error: 0.7083 - val_mean_squared_error: 0.9995\n",
      "Epoch 68/80\n",
      "\u001b[1m338/338\u001b[0m \u001b[32m━━━━━━━━━━━━━━━━━━━━\u001b[0m\u001b[37m\u001b[0m \u001b[1m1s\u001b[0m 2ms/step - loss: 0.8231 - mean_absolute_error: 0.6150 - mean_squared_error: 0.8231 - val_loss: 0.8851 - val_mean_absolute_error: 0.5935 - val_mean_squared_error: 0.8851\n",
      "Epoch 69/80\n",
      "\u001b[1m338/338\u001b[0m \u001b[32m━━━━━━━━━━━━━━━━━━━━\u001b[0m\u001b[37m\u001b[0m \u001b[1m1s\u001b[0m 2ms/step - loss: 0.8154 - mean_absolute_error: 0.6068 - mean_squared_error: 0.8154 - val_loss: 1.0066 - val_mean_absolute_error: 0.7248 - val_mean_squared_error: 1.0066\n",
      "Epoch 70/80\n",
      "\u001b[1m338/338\u001b[0m \u001b[32m━━━━━━━━━━━━━━━━━━━━\u001b[0m\u001b[37m\u001b[0m \u001b[1m1s\u001b[0m 2ms/step - loss: 0.8261 - mean_absolute_error: 0.6140 - mean_squared_error: 0.8261 - val_loss: 0.8217 - val_mean_absolute_error: 0.5994 - val_mean_squared_error: 0.8217\n",
      "Epoch 71/80\n",
      "\u001b[1m338/338\u001b[0m \u001b[32m━━━━━━━━━━━━━━━━━━━━\u001b[0m\u001b[37m\u001b[0m \u001b[1m1s\u001b[0m 2ms/step - loss: 0.8685 - mean_absolute_error: 0.6358 - mean_squared_error: 0.8685 - val_loss: 0.8092 - val_mean_absolute_error: 0.5983 - val_mean_squared_error: 0.8092\n",
      "Epoch 72/80\n",
      "\u001b[1m338/338\u001b[0m \u001b[32m━━━━━━━━━━━━━━━━━━━━\u001b[0m\u001b[37m\u001b[0m \u001b[1m1s\u001b[0m 2ms/step - loss: 0.7289 - mean_absolute_error: 0.5709 - mean_squared_error: 0.7289 - val_loss: 0.9315 - val_mean_absolute_error: 0.7315 - val_mean_squared_error: 0.9315\n",
      "Epoch 73/80\n",
      "\u001b[1m338/338\u001b[0m \u001b[32m━━━━━━━━━━━━━━━━━━━━\u001b[0m\u001b[37m\u001b[0m \u001b[1m1s\u001b[0m 2ms/step - loss: 0.7960 - mean_absolute_error: 0.6017 - mean_squared_error: 0.7960 - val_loss: 0.8352 - val_mean_absolute_error: 0.6204 - val_mean_squared_error: 0.8352\n",
      "Epoch 74/80\n",
      "\u001b[1m338/338\u001b[0m \u001b[32m━━━━━━━━━━━━━━━━━━━━\u001b[0m\u001b[37m\u001b[0m \u001b[1m1s\u001b[0m 2ms/step - loss: 0.7870 - mean_absolute_error: 0.5948 - mean_squared_error: 0.7870 - val_loss: 0.8626 - val_mean_absolute_error: 0.6175 - val_mean_squared_error: 0.8626\n",
      "Epoch 75/80\n",
      "\u001b[1m338/338\u001b[0m \u001b[32m━━━━━━━━━━━━━━━━━━━━\u001b[0m\u001b[37m\u001b[0m \u001b[1m1s\u001b[0m 2ms/step - loss: 0.7703 - mean_absolute_error: 0.5831 - mean_squared_error: 0.7703 - val_loss: 0.8197 - val_mean_absolute_error: 0.6116 - val_mean_squared_error: 0.8197\n",
      "Epoch 76/80\n",
      "\u001b[1m338/338\u001b[0m \u001b[32m━━━━━━━━━━━━━━━━━━━━\u001b[0m\u001b[37m\u001b[0m \u001b[1m1s\u001b[0m 2ms/step - loss: 0.7442 - mean_absolute_error: 0.5728 - mean_squared_error: 0.7442 - val_loss: 0.7833 - val_mean_absolute_error: 0.5912 - val_mean_squared_error: 0.7833\n",
      "Epoch 77/80\n",
      "\u001b[1m338/338\u001b[0m \u001b[32m━━━━━━━━━━━━━━━━━━━━\u001b[0m\u001b[37m\u001b[0m \u001b[1m1s\u001b[0m 2ms/step - loss: 0.7829 - mean_absolute_error: 0.5932 - mean_squared_error: 0.7829 - val_loss: 0.8117 - val_mean_absolute_error: 0.5915 - val_mean_squared_error: 0.8117\n",
      "Epoch 78/80\n",
      "\u001b[1m338/338\u001b[0m \u001b[32m━━━━━━━━━━━━━━━━━━━━\u001b[0m\u001b[37m\u001b[0m \u001b[1m1s\u001b[0m 2ms/step - loss: 0.7745 - mean_absolute_error: 0.5937 - mean_squared_error: 0.7745 - val_loss: 0.7823 - val_mean_absolute_error: 0.5808 - val_mean_squared_error: 0.7823\n",
      "Epoch 79/80\n",
      "\u001b[1m338/338\u001b[0m \u001b[32m━━━━━━━━━━━━━━━━━━━━\u001b[0m\u001b[37m\u001b[0m \u001b[1m1s\u001b[0m 2ms/step - loss: 0.7627 - mean_absolute_error: 0.5883 - mean_squared_error: 0.7627 - val_loss: 0.7915 - val_mean_absolute_error: 0.6063 - val_mean_squared_error: 0.7915\n",
      "Epoch 80/80\n",
      "\u001b[1m338/338\u001b[0m \u001b[32m━━━━━━━━━━━━━━━━━━━━\u001b[0m\u001b[37m\u001b[0m \u001b[1m1s\u001b[0m 2ms/step - loss: 0.7479 - mean_absolute_error: 0.5837 - mean_squared_error: 0.7479 - val_loss: 0.7880 - val_mean_absolute_error: 0.5934 - val_mean_squared_error: 0.7880\n"
     ]
    }
   ],
   "source": [
    "result = model1.fit(x_train, y_train, epochs=80, validation_data=(x_test, y_test))"
   ]
  },
  {
   "cell_type": "code",
   "execution_count": 57,
   "metadata": {},
   "outputs": [
    {
     "data": {
      "text/plain": [
       "dict_keys(['loss', 'mean_absolute_error', 'mean_squared_error', 'val_loss', 'val_mean_absolute_error', 'val_mean_squared_error'])"
      ]
     },
     "execution_count": 57,
     "metadata": {},
     "output_type": "execute_result"
    }
   ],
   "source": [
    "result.history.keys()"
   ]
  },
  {
   "cell_type": "code",
   "execution_count": 58,
   "metadata": {},
   "outputs": [
    {
     "name": "stdout",
     "output_type": "stream",
     "text": [
      "\u001b[1m113/113\u001b[0m \u001b[32m━━━━━━━━━━━━━━━━━━━━\u001b[0m\u001b[37m\u001b[0m \u001b[1m0s\u001b[0m 620us/step - loss: 0.8482 - mean_absolute_error: 0.6223 - mean_squared_error: 0.8482\n",
      "Test Loss (MSE): [0.7879525423049927, 0.7879525423049927, 0.5933648943901062]\n"
     ]
    }
   ],
   "source": [
    "# Evaluate the model\n",
    "test_loss = model1.evaluate(x_test, y_test)\n",
    "print(f'Test Loss (MSE): {test_loss}')"
   ]
  },
  {
   "cell_type": "code",
   "execution_count": 59,
   "metadata": {},
   "outputs": [
    {
     "name": "stdout",
     "output_type": "stream",
     "text": [
      "\u001b[1m113/113\u001b[0m \u001b[32m━━━━━━━━━━━━━━━━━━━━\u001b[0m\u001b[37m\u001b[0m \u001b[1m0s\u001b[0m 821us/step\n",
      "R² score: 0.859402411622231\n"
     ]
    }
   ],
   "source": [
    "from sklearn.metrics import r2_score\n",
    "y_pred = model1.predict(x_test)\n",
    "r2 = r2_score(y_test, y_pred)\n",
    "print(f'R² score: {r2}')"
   ]
  },
  {
   "cell_type": "code",
   "execution_count": 60,
   "metadata": {},
   "outputs": [
    {
     "data": {
      "text/html": [
       "<div>\n",
       "<style scoped>\n",
       "    .dataframe tbody tr th:only-of-type {\n",
       "        vertical-align: middle;\n",
       "    }\n",
       "\n",
       "    .dataframe tbody tr th {\n",
       "        vertical-align: top;\n",
       "    }\n",
       "\n",
       "    .dataframe thead th {\n",
       "        text-align: right;\n",
       "    }\n",
       "</style>\n",
       "<table border=\"1\" class=\"dataframe\">\n",
       "  <thead>\n",
       "    <tr style=\"text-align: right;\">\n",
       "      <th></th>\n",
       "      <th>loss</th>\n",
       "      <th>mean_absolute_error</th>\n",
       "      <th>mean_squared_error</th>\n",
       "      <th>val_loss</th>\n",
       "      <th>val_mean_absolute_error</th>\n",
       "      <th>val_mean_squared_error</th>\n",
       "    </tr>\n",
       "  </thead>\n",
       "  <tbody>\n",
       "    <tr>\n",
       "      <th>0</th>\n",
       "      <td>2.429161</td>\n",
       "      <td>1.196428</td>\n",
       "      <td>2.429161</td>\n",
       "      <td>1.254177</td>\n",
       "      <td>0.879210</td>\n",
       "      <td>1.254177</td>\n",
       "    </tr>\n",
       "    <tr>\n",
       "      <th>1</th>\n",
       "      <td>1.414694</td>\n",
       "      <td>0.919750</td>\n",
       "      <td>1.414694</td>\n",
       "      <td>1.443325</td>\n",
       "      <td>0.938490</td>\n",
       "      <td>1.443325</td>\n",
       "    </tr>\n",
       "    <tr>\n",
       "      <th>2</th>\n",
       "      <td>1.336582</td>\n",
       "      <td>0.889571</td>\n",
       "      <td>1.336582</td>\n",
       "      <td>1.195633</td>\n",
       "      <td>0.846575</td>\n",
       "      <td>1.195633</td>\n",
       "    </tr>\n",
       "    <tr>\n",
       "      <th>3</th>\n",
       "      <td>1.255838</td>\n",
       "      <td>0.846723</td>\n",
       "      <td>1.255838</td>\n",
       "      <td>1.119265</td>\n",
       "      <td>0.789373</td>\n",
       "      <td>1.119265</td>\n",
       "    </tr>\n",
       "    <tr>\n",
       "      <th>4</th>\n",
       "      <td>1.235639</td>\n",
       "      <td>0.831599</td>\n",
       "      <td>1.235639</td>\n",
       "      <td>1.101822</td>\n",
       "      <td>0.783436</td>\n",
       "      <td>1.101822</td>\n",
       "    </tr>\n",
       "    <tr>\n",
       "      <th>...</th>\n",
       "      <td>...</td>\n",
       "      <td>...</td>\n",
       "      <td>...</td>\n",
       "      <td>...</td>\n",
       "      <td>...</td>\n",
       "      <td>...</td>\n",
       "    </tr>\n",
       "    <tr>\n",
       "      <th>75</th>\n",
       "      <td>0.774314</td>\n",
       "      <td>0.587876</td>\n",
       "      <td>0.774314</td>\n",
       "      <td>0.783253</td>\n",
       "      <td>0.591186</td>\n",
       "      <td>0.783253</td>\n",
       "    </tr>\n",
       "    <tr>\n",
       "      <th>76</th>\n",
       "      <td>0.771344</td>\n",
       "      <td>0.590196</td>\n",
       "      <td>0.771344</td>\n",
       "      <td>0.811665</td>\n",
       "      <td>0.591467</td>\n",
       "      <td>0.811665</td>\n",
       "    </tr>\n",
       "    <tr>\n",
       "      <th>77</th>\n",
       "      <td>0.762955</td>\n",
       "      <td>0.586595</td>\n",
       "      <td>0.762955</td>\n",
       "      <td>0.782299</td>\n",
       "      <td>0.580762</td>\n",
       "      <td>0.782299</td>\n",
       "    </tr>\n",
       "    <tr>\n",
       "      <th>78</th>\n",
       "      <td>0.769944</td>\n",
       "      <td>0.591813</td>\n",
       "      <td>0.769944</td>\n",
       "      <td>0.791471</td>\n",
       "      <td>0.606348</td>\n",
       "      <td>0.791471</td>\n",
       "    </tr>\n",
       "    <tr>\n",
       "      <th>79</th>\n",
       "      <td>0.763362</td>\n",
       "      <td>0.589723</td>\n",
       "      <td>0.763362</td>\n",
       "      <td>0.787953</td>\n",
       "      <td>0.593365</td>\n",
       "      <td>0.787953</td>\n",
       "    </tr>\n",
       "  </tbody>\n",
       "</table>\n",
       "<p>80 rows × 6 columns</p>\n",
       "</div>"
      ],
      "text/plain": [
       "        loss  mean_absolute_error  mean_squared_error  val_loss  \\\n",
       "0   2.429161             1.196428            2.429161  1.254177   \n",
       "1   1.414694             0.919750            1.414694  1.443325   \n",
       "2   1.336582             0.889571            1.336582  1.195633   \n",
       "3   1.255838             0.846723            1.255838  1.119265   \n",
       "4   1.235639             0.831599            1.235639  1.101822   \n",
       "..       ...                  ...                 ...       ...   \n",
       "75  0.774314             0.587876            0.774314  0.783253   \n",
       "76  0.771344             0.590196            0.771344  0.811665   \n",
       "77  0.762955             0.586595            0.762955  0.782299   \n",
       "78  0.769944             0.591813            0.769944  0.791471   \n",
       "79  0.763362             0.589723            0.763362  0.787953   \n",
       "\n",
       "    val_mean_absolute_error  val_mean_squared_error  \n",
       "0                  0.879210                1.254177  \n",
       "1                  0.938490                1.443325  \n",
       "2                  0.846575                1.195633  \n",
       "3                  0.789373                1.119265  \n",
       "4                  0.783436                1.101822  \n",
       "..                      ...                     ...  \n",
       "75                 0.591186                0.783253  \n",
       "76                 0.591467                0.811665  \n",
       "77                 0.580762                0.782299  \n",
       "78                 0.606348                0.791471  \n",
       "79                 0.593365                0.787953  \n",
       "\n",
       "[80 rows x 6 columns]"
      ]
     },
     "execution_count": 60,
     "metadata": {},
     "output_type": "execute_result"
    }
   ],
   "source": [
    "result_df = pd.DataFrame(result.history)\n",
    "result_df"
   ]
  },
  {
   "cell_type": "code",
   "execution_count": 61,
   "metadata": {},
   "outputs": [
    {
     "data": {
      "image/png": "[encoded data removed]",
      "text/plain": [
       "<Figure size 640x480 with 1 Axes>"
      ]
     },
     "metadata": {},
     "output_type": "display_data"
    }
   ],
   "source": [
    "# Plot Mean Absolute Error (MAE) over epochs\n",
    "plt.plot(range(1, 81), result_df['mean_absolute_error'], label='Training MAE')\n",
    "plt.plot(range(1, 81), result_df['val_mean_absolute_error'], label='Validation MAE')\n",
    "\n",
    "plt.title('Mean Absolute Error Over Epochs')\n",
    "plt.xlabel('Epoch')\n",
    "plt.ylabel('MAE')\n",
    "plt.legend()\n",
    "plt.show()"
   ]
  },
  {
   "cell_type": "code",
   "execution_count": 62,
   "metadata": {},
   "outputs": [
    {
     "data": {
      "image/png": "[encoded data removed]",
      "text/plain": [
       "<Figure size 640x480 with 1 Axes>"
      ]
     },
     "metadata": {},
     "output_type": "display_data"
    }
   ],
   "source": [
    "# Plot the training and validation loss\n",
    "plt.plot(result.history['loss'], label='Training Loss (MSE)')\n",
    "plt.plot(result.history['val_loss'], label='Validation Loss (MSE)')\n",
    "plt.title('Training and Validation Loss Over Epochs')\n",
    "plt.xlabel('Epoch')\n",
    "plt.ylabel('Mean Squared Error (MSE)')\n",
    "plt.legend()\n",
    "plt.show()"
   ]
  },
  {
   "cell_type": "code",
   "execution_count": 63,
   "metadata": {},
   "outputs": [
    {
     "name": "stdout",
     "output_type": "stream",
     "text": [
      "\u001b[1m113/113\u001b[0m \u001b[32m━━━━━━━━━━━━━━━━━━━━\u001b[0m\u001b[37m\u001b[0m \u001b[1m0s\u001b[0m 588us/step\n"
     ]
    },
    {
     "data": {
      "image/png": "[encoded data removed]",
      "text/plain": [
       "<Figure size 640x480 with 1 Axes>"
      ]
     },
     "metadata": {},
     "output_type": "display_data"
    }
   ],
   "source": [
    "# Get predictions for the test set\n",
    "y_pred = model1.predict(x_test)\n",
    "\n",
    "# Scatter plot of actual vs predicted values\n",
    "plt.scatter(y_test, y_pred)\n",
    "plt.title('Predicted vs Actual Values')\n",
    "plt.xlabel('Actual Values')\n",
    "plt.ylabel('Predicted Values')\n",
    "plt.show()"
   ]
  },
  {
   "cell_type": "code",
   "execution_count": 64,
   "metadata": {},
   "outputs": [
    {
     "name": "stdout",
     "output_type": "stream",
     "text": [
      "\u001b[1m113/113\u001b[0m \u001b[32m━━━━━━━━━━━━━━━━━━━━\u001b[0m\u001b[37m\u001b[0m \u001b[1m0s\u001b[0m 590us/step\n"
     ]
    }
   ],
   "source": [
    "# Get predictions for the test set\n",
    "y_pred = model1.predict(x_test)\n",
    "\n",
    "# If y_test is a pandas Series, convert it to a NumPy array\n",
    "if isinstance(y_test, pd.Series):\n",
    "    y_test = y_test.values\n",
    "\n",
    "# Flatten y_pred if it's a 2D array\n",
    "y_pred = y_pred.flatten()\n",
    "\n",
    "# Calculate residuals (errors)\n",
    "residuals = y_test - y_pred\n"
   ]
  },
  {
   "cell_type": "code",
   "execution_count": 65,
   "metadata": {},
   "outputs": [
    {
     "data": {
      "image/png": "[encoded data removed]",
      "text/plain": [
       "<Figure size 640x480 with 1 Axes>"
      ]
     },
     "metadata": {},
     "output_type": "display_data"
    }
   ],
   "source": [
    "# Plot residuals\n",
    "plt.scatter(y_pred, residuals)\n",
    "plt.title('Residuals Plot')\n",
    "plt.xlabel('Predicted Values')\n",
    "plt.ylabel('Residuals (Actual - Predicted)')\n",
    "plt.axhline(y=0, color='r', linestyle='--')\n",
    "plt.show()"
   ]
  },
  {
   "cell_type": "code",
   "execution_count": 66,
   "metadata": {},
   "outputs": [
    {
     "name": "stderr",
     "output_type": "stream",
     "text": [
      "WARNING:absl:You are saving your model as an HDF5 file via `model.save()` or `keras.saving.save_model(model)`. This file format is considered legacy. We recommend using instead the native Keras format, e.g. `model.save('my_model.keras')` or `keras.saving.save_model(model, 'my_model.keras')`. \n"
     ]
    }
   ],
   "source": [
    "model1.save(\"DL_Algo.h5\")"
   ]
  },
  {
   "cell_type": "code",
   "execution_count": 67,
   "metadata": {},
   "outputs": [
    {
     "name": "stderr",
     "output_type": "stream",
     "text": [
      "WARNING:absl:Compiled the loaded model, but the compiled metrics have yet to be built. `model.compile_metrics` will be empty until you train or evaluate the model.\n"
     ]
    }
   ],
   "source": [
    "new_model = load_model(\"DL_Algo.h5\")"
   ]
  },
  {
   "cell_type": "code",
   "execution_count": 68,
   "metadata": {},
   "outputs": [],
   "source": [
    "first_row = x_test.iloc[0].to_numpy()"
   ]
  },
  {
   "cell_type": "code",
   "execution_count": 69,
   "metadata": {},
   "outputs": [
    {
     "data": {
      "text/plain": [
       "array([  2.99, 119.  ,  17.99,   4.  ,   6.  ,   1.  ,   6.  ])"
      ]
     },
     "execution_count": 69,
     "metadata": {},
     "output_type": "execute_result"
    }
   ],
   "source": [
    "first_row"
   ]
  },
  {
   "cell_type": "code",
   "execution_count": 70,
   "metadata": {},
   "outputs": [
    {
     "name": "stdout",
     "output_type": "stream",
     "text": [
      "<class 'numpy.float64'>\n",
      "<class 'numpy.float64'>\n",
      "<class 'numpy.float64'>\n",
      "<class 'numpy.float64'>\n",
      "<class 'numpy.float64'>\n",
      "<class 'numpy.float64'>\n",
      "<class 'numpy.float64'>\n"
     ]
    }
   ],
   "source": [
    "for x in first_row:\n",
    "    print(type(x))"
   ]
  },
  {
   "cell_type": "code",
   "execution_count": 71,
   "metadata": {},
   "outputs": [
    {
     "name": "stdout",
     "output_type": "stream",
     "text": [
      "\u001b[1m1/1\u001b[0m \u001b[32m━━━━━━━━━━━━━━━━━━━━\u001b[0m\u001b[37m\u001b[0m \u001b[1m0s\u001b[0m 34ms/step\n"
     ]
    },
    {
     "data": {
      "text/plain": [
       "array([[4.0609756]], dtype=float32)"
      ]
     },
     "execution_count": 71,
     "metadata": {},
     "output_type": "execute_result"
    }
   ],
   "source": [
    "new_model.predict(np.array([first_row]))"
   ]
  },
  {
   "cell_type": "code",
   "execution_count": 72,
   "metadata": {},
   "outputs": [
    {
     "data": {
      "text/plain": [
       "Index(['rental_rate', 'length', 'replacement_cost', 'rating', 'category',\n",
       "       'active', 'rental_actual_duration'],\n",
       "      dtype='object')"
      ]
     },
     "execution_count": 72,
     "metadata": {},
     "output_type": "execute_result"
    }
   ],
   "source": [
    "x_test.columns"
   ]
  }
 ],
 "metadata": {
  "kernelspec": {
   "display_name": ".venv",
   "language": "python",
   "name": "python3"
  },
  "language_info": {
   "codemirror_mode": {
    "name": "ipython",
    "version": 3
   },
   "file_extension": ".py",
   "mimetype": "text/x-python",
   "name": "python",
   "nbconvert_exporter": "python",
   "pygments_lexer": "ipython3",
   "version": "3.9.6"
  }
 },
 "nbformat": 4,
 "nbformat_minor": 2
}
