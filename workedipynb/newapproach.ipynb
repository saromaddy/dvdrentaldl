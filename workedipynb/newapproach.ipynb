{
 "cells": [
  {
   "cell_type": "code",
   "execution_count": 1,
   "metadata": {},
   "outputs": [
    {
     "name": "stderr",
     "output_type": "stream",
     "text": [
      "/Users/saro/Desktop/dvdrentaldl/.venv/lib/python3.9/site-packages/urllib3/__init__.py:35: NotOpenSSLWarning: urllib3 v2 only supports OpenSSL 1.1.1+, currently the 'ssl' module is compiled with 'LibreSSL 2.8.3'. See: https://github.com/urllib3/urllib3/issues/3020\n",
      "  warnings.warn(\n"
     ]
    }
   ],
   "source": [
    "import pandas as pd\n",
    "from sklearn.model_selection import train_test_split\n",
    "from sklearn.preprocessing import StandardScaler\n",
    "import tensorflow as tf\n",
    "from tensorflow.keras.models import Sequential\n",
    "from tensorflow.keras.layers import Dense\n",
    "from tensorflow.keras.callbacks import Callback\n",
    "import tensorflow.keras.backend as K\n",
    "from sklearn.preprocessing import OneHotEncoder\n",
    "import pickle\n",
    "from sklearn.preprocessing import LabelEncoder\n",
    "from keras.models import Sequential # to see the sequence like ip --> hl1 --> hl2--> hl3 -->o/p #to build layer by layer architecture\n",
    "from keras.layers import Dense # to decide the depth of layers\n",
    "import numpy as np\n",
    "from keras.utils import to_categorical\n",
    "import matplotlib.pyplot as plt\n",
    "from tensorflow.keras.metrics import MeanSquaredError, MeanAbsoluteError\n",
    "from keras.models import load_model"
   ]
  },
  {
   "cell_type": "code",
   "execution_count": 2,
   "metadata": {},
   "outputs": [],
   "source": [
    "df = pd.read_csv('dvd rental final csv.csv')"
   ]
  },
  {
   "cell_type": "code",
   "execution_count": 3,
   "metadata": {},
   "outputs": [
    {
     "data": {
      "text/html": [
       "<div>\n",
       "<style scoped>\n",
       "    .dataframe tbody tr th:only-of-type {\n",
       "        vertical-align: middle;\n",
       "    }\n",
       "\n",
       "    .dataframe tbody tr th {\n",
       "        vertical-align: top;\n",
       "    }\n",
       "\n",
       "    .dataframe thead th {\n",
       "        text-align: right;\n",
       "    }\n",
       "</style>\n",
       "<table border=\"1\" class=\"dataframe\">\n",
       "  <thead>\n",
       "    <tr style=\"text-align: right;\">\n",
       "      <th></th>\n",
       "      <th>inventory_id</th>\n",
       "      <th>film_id</th>\n",
       "      <th>title</th>\n",
       "      <th>rental_duration</th>\n",
       "      <th>rental_rate</th>\n",
       "      <th>length</th>\n",
       "      <th>replacement_cost</th>\n",
       "      <th>rating</th>\n",
       "      <th>category</th>\n",
       "      <th>language</th>\n",
       "      <th>store_id</th>\n",
       "      <th>rental_id</th>\n",
       "      <th>rental_date</th>\n",
       "      <th>customer_id</th>\n",
       "      <th>return_date</th>\n",
       "      <th>amount</th>\n",
       "      <th>active</th>\n",
       "    </tr>\n",
       "  </thead>\n",
       "  <tbody>\n",
       "    <tr>\n",
       "      <th>0</th>\n",
       "      <td>3419</td>\n",
       "      <td>749</td>\n",
       "      <td>Rules Human</td>\n",
       "      <td>6</td>\n",
       "      <td>4.99</td>\n",
       "      <td>153</td>\n",
       "      <td>19.99</td>\n",
       "      <td>R</td>\n",
       "      <td>Horror</td>\n",
       "      <td>English</td>\n",
       "      <td>1</td>\n",
       "      <td>1520</td>\n",
       "      <td>2005-06-15 23:57:20</td>\n",
       "      <td>341</td>\n",
       "      <td>2005-06-24 23:46:20</td>\n",
       "      <td>7.99</td>\n",
       "      <td>1</td>\n",
       "    </tr>\n",
       "    <tr>\n",
       "      <th>1</th>\n",
       "      <td>2512</td>\n",
       "      <td>552</td>\n",
       "      <td>Majestic Floats</td>\n",
       "      <td>5</td>\n",
       "      <td>0.99</td>\n",
       "      <td>130</td>\n",
       "      <td>15.99</td>\n",
       "      <td>PG</td>\n",
       "      <td>Documentary</td>\n",
       "      <td>English</td>\n",
       "      <td>2</td>\n",
       "      <td>1778</td>\n",
       "      <td>2005-06-16 18:54:48</td>\n",
       "      <td>341</td>\n",
       "      <td>2005-06-22 16:08:48</td>\n",
       "      <td>1.99</td>\n",
       "      <td>1</td>\n",
       "    </tr>\n",
       "    <tr>\n",
       "      <th>2</th>\n",
       "      <td>2507</td>\n",
       "      <td>551</td>\n",
       "      <td>Maiden Home</td>\n",
       "      <td>3</td>\n",
       "      <td>4.99</td>\n",
       "      <td>138</td>\n",
       "      <td>9.99</td>\n",
       "      <td>PG</td>\n",
       "      <td>New</td>\n",
       "      <td>English</td>\n",
       "      <td>1</td>\n",
       "      <td>1849</td>\n",
       "      <td>2005-06-17 00:13:19</td>\n",
       "      <td>341</td>\n",
       "      <td>2005-06-23 18:37:19</td>\n",
       "      <td>7.99</td>\n",
       "      <td>1</td>\n",
       "    </tr>\n",
       "    <tr>\n",
       "      <th>3</th>\n",
       "      <td>2047</td>\n",
       "      <td>445</td>\n",
       "      <td>Hyde Doctor</td>\n",
       "      <td>5</td>\n",
       "      <td>2.99</td>\n",
       "      <td>100</td>\n",
       "      <td>11.99</td>\n",
       "      <td>G</td>\n",
       "      <td>Classics</td>\n",
       "      <td>English</td>\n",
       "      <td>1</td>\n",
       "      <td>2829</td>\n",
       "      <td>2005-06-19 21:11:30</td>\n",
       "      <td>341</td>\n",
       "      <td>2005-06-24 18:10:30</td>\n",
       "      <td>2.99</td>\n",
       "      <td>1</td>\n",
       "    </tr>\n",
       "    <tr>\n",
       "      <th>4</th>\n",
       "      <td>2569</td>\n",
       "      <td>563</td>\n",
       "      <td>Massacre Usual</td>\n",
       "      <td>6</td>\n",
       "      <td>4.99</td>\n",
       "      <td>165</td>\n",
       "      <td>16.99</td>\n",
       "      <td>R</td>\n",
       "      <td>Games</td>\n",
       "      <td>English</td>\n",
       "      <td>1</td>\n",
       "      <td>3130</td>\n",
       "      <td>2005-06-20 19:03:22</td>\n",
       "      <td>341</td>\n",
       "      <td>2005-06-29 18:05:22</td>\n",
       "      <td>7.99</td>\n",
       "      <td>1</td>\n",
       "    </tr>\n",
       "    <tr>\n",
       "      <th>...</th>\n",
       "      <td>...</td>\n",
       "      <td>...</td>\n",
       "      <td>...</td>\n",
       "      <td>...</td>\n",
       "      <td>...</td>\n",
       "      <td>...</td>\n",
       "      <td>...</td>\n",
       "      <td>...</td>\n",
       "      <td>...</td>\n",
       "      <td>...</td>\n",
       "      <td>...</td>\n",
       "      <td>...</td>\n",
       "      <td>...</td>\n",
       "      <td>...</td>\n",
       "      <td>...</td>\n",
       "      <td>...</td>\n",
       "      <td>...</td>\n",
       "    </tr>\n",
       "    <tr>\n",
       "      <th>14591</th>\n",
       "      <td>1148</td>\n",
       "      <td>254</td>\n",
       "      <td>Driver Annie</td>\n",
       "      <td>4</td>\n",
       "      <td>2.99</td>\n",
       "      <td>159</td>\n",
       "      <td>11.99</td>\n",
       "      <td>PG-13</td>\n",
       "      <td>Sports</td>\n",
       "      <td>English</td>\n",
       "      <td>1</td>\n",
       "      <td>12682</td>\n",
       "      <td>2006-02-14 15:16:03</td>\n",
       "      <td>245</td>\n",
       "      <td>NaN</td>\n",
       "      <td>2.99</td>\n",
       "      <td>1</td>\n",
       "    </tr>\n",
       "    <tr>\n",
       "      <th>14592</th>\n",
       "      <td>3998</td>\n",
       "      <td>870</td>\n",
       "      <td>Swarm Gold</td>\n",
       "      <td>4</td>\n",
       "      <td>0.99</td>\n",
       "      <td>123</td>\n",
       "      <td>12.99</td>\n",
       "      <td>PG-13</td>\n",
       "      <td>Horror</td>\n",
       "      <td>English</td>\n",
       "      <td>2</td>\n",
       "      <td>14107</td>\n",
       "      <td>2006-02-14 15:16:03</td>\n",
       "      <td>251</td>\n",
       "      <td>NaN</td>\n",
       "      <td>0.99</td>\n",
       "      <td>1</td>\n",
       "    </tr>\n",
       "    <tr>\n",
       "      <th>14593</th>\n",
       "      <td>1146</td>\n",
       "      <td>253</td>\n",
       "      <td>Drifter Commandments</td>\n",
       "      <td>5</td>\n",
       "      <td>4.99</td>\n",
       "      <td>61</td>\n",
       "      <td>18.99</td>\n",
       "      <td>PG-13</td>\n",
       "      <td>Action</td>\n",
       "      <td>English</td>\n",
       "      <td>2</td>\n",
       "      <td>13756</td>\n",
       "      <td>2006-02-14 15:16:03</td>\n",
       "      <td>252</td>\n",
       "      <td>NaN</td>\n",
       "      <td>4.99</td>\n",
       "      <td>1</td>\n",
       "    </tr>\n",
       "    <tr>\n",
       "      <th>14594</th>\n",
       "      <td>1219</td>\n",
       "      <td>270</td>\n",
       "      <td>Earth Vision</td>\n",
       "      <td>7</td>\n",
       "      <td>0.99</td>\n",
       "      <td>85</td>\n",
       "      <td>29.99</td>\n",
       "      <td>NC-17</td>\n",
       "      <td>New</td>\n",
       "      <td>English</td>\n",
       "      <td>2</td>\n",
       "      <td>15293</td>\n",
       "      <td>2006-02-14 15:16:03</td>\n",
       "      <td>263</td>\n",
       "      <td>NaN</td>\n",
       "      <td>0.99</td>\n",
       "      <td>1</td>\n",
       "    </tr>\n",
       "    <tr>\n",
       "      <th>14595</th>\n",
       "      <td>1489</td>\n",
       "      <td>326</td>\n",
       "      <td>Flying Hook</td>\n",
       "      <td>6</td>\n",
       "      <td>2.99</td>\n",
       "      <td>69</td>\n",
       "      <td>18.99</td>\n",
       "      <td>NC-17</td>\n",
       "      <td>Animation</td>\n",
       "      <td>English</td>\n",
       "      <td>2</td>\n",
       "      <td>14243</td>\n",
       "      <td>2006-02-14 15:16:03</td>\n",
       "      <td>264</td>\n",
       "      <td>NaN</td>\n",
       "      <td>2.99</td>\n",
       "      <td>1</td>\n",
       "    </tr>\n",
       "  </tbody>\n",
       "</table>\n",
       "<p>14596 rows × 17 columns</p>\n",
       "</div>"
      ],
      "text/plain": [
       "       inventory_id  film_id                 title  rental_duration  \\\n",
       "0              3419      749           Rules Human                6   \n",
       "1              2512      552       Majestic Floats                5   \n",
       "2              2507      551           Maiden Home                3   \n",
       "3              2047      445           Hyde Doctor                5   \n",
       "4              2569      563        Massacre Usual                6   \n",
       "...             ...      ...                   ...              ...   \n",
       "14591          1148      254          Driver Annie                4   \n",
       "14592          3998      870            Swarm Gold                4   \n",
       "14593          1146      253  Drifter Commandments                5   \n",
       "14594          1219      270          Earth Vision                7   \n",
       "14595          1489      326           Flying Hook                6   \n",
       "\n",
       "       rental_rate  length  replacement_cost rating     category  \\\n",
       "0             4.99     153             19.99      R       Horror   \n",
       "1             0.99     130             15.99     PG  Documentary   \n",
       "2             4.99     138              9.99     PG          New   \n",
       "3             2.99     100             11.99      G     Classics   \n",
       "4             4.99     165             16.99      R        Games   \n",
       "...            ...     ...               ...    ...          ...   \n",
       "14591         2.99     159             11.99  PG-13       Sports   \n",
       "14592         0.99     123             12.99  PG-13       Horror   \n",
       "14593         4.99      61             18.99  PG-13       Action   \n",
       "14594         0.99      85             29.99  NC-17          New   \n",
       "14595         2.99      69             18.99  NC-17    Animation   \n",
       "\n",
       "                   language  store_id  rental_id          rental_date  \\\n",
       "0      English                      1       1520  2005-06-15 23:57:20   \n",
       "1      English                      2       1778  2005-06-16 18:54:48   \n",
       "2      English                      1       1849  2005-06-17 00:13:19   \n",
       "3      English                      1       2829  2005-06-19 21:11:30   \n",
       "4      English                      1       3130  2005-06-20 19:03:22   \n",
       "...                     ...       ...        ...                  ...   \n",
       "14591  English                      1      12682  2006-02-14 15:16:03   \n",
       "14592  English                      2      14107  2006-02-14 15:16:03   \n",
       "14593  English                      2      13756  2006-02-14 15:16:03   \n",
       "14594  English                      2      15293  2006-02-14 15:16:03   \n",
       "14595  English                      2      14243  2006-02-14 15:16:03   \n",
       "\n",
       "       customer_id          return_date  amount  active  \n",
       "0              341  2005-06-24 23:46:20    7.99       1  \n",
       "1              341  2005-06-22 16:08:48    1.99       1  \n",
       "2              341  2005-06-23 18:37:19    7.99       1  \n",
       "3              341  2005-06-24 18:10:30    2.99       1  \n",
       "4              341  2005-06-29 18:05:22    7.99       1  \n",
       "...            ...                  ...     ...     ...  \n",
       "14591          245                  NaN    2.99       1  \n",
       "14592          251                  NaN    0.99       1  \n",
       "14593          252                  NaN    4.99       1  \n",
       "14594          263                  NaN    0.99       1  \n",
       "14595          264                  NaN    2.99       1  \n",
       "\n",
       "[14596 rows x 17 columns]"
      ]
     },
     "execution_count": 3,
     "metadata": {},
     "output_type": "execute_result"
    }
   ],
   "source": [
    "df"
   ]
  },
  {
   "cell_type": "code",
   "execution_count": 4,
   "metadata": {},
   "outputs": [
    {
     "data": {
      "text/plain": [
       "inventory_id          0\n",
       "film_id               0\n",
       "title                 0\n",
       "rental_duration       0\n",
       "rental_rate           0\n",
       "length                0\n",
       "replacement_cost      0\n",
       "rating                0\n",
       "category              0\n",
       "language              0\n",
       "store_id              0\n",
       "rental_id             0\n",
       "rental_date           0\n",
       "customer_id           0\n",
       "return_date         183\n",
       "amount                0\n",
       "active                0\n",
       "dtype: int64"
      ]
     },
     "execution_count": 4,
     "metadata": {},
     "output_type": "execute_result"
    }
   ],
   "source": [
    "df.isnull().sum()"
   ]
  },
  {
   "cell_type": "code",
   "execution_count": 5,
   "metadata": {},
   "outputs": [],
   "source": [
    "df.dropna(inplace=True)"
   ]
  },
  {
   "cell_type": "code",
   "execution_count": 6,
   "metadata": {},
   "outputs": [
    {
     "data": {
      "text/html": [
       "<div>\n",
       "<style scoped>\n",
       "    .dataframe tbody tr th:only-of-type {\n",
       "        vertical-align: middle;\n",
       "    }\n",
       "\n",
       "    .dataframe tbody tr th {\n",
       "        vertical-align: top;\n",
       "    }\n",
       "\n",
       "    .dataframe thead th {\n",
       "        text-align: right;\n",
       "    }\n",
       "</style>\n",
       "<table border=\"1\" class=\"dataframe\">\n",
       "  <thead>\n",
       "    <tr style=\"text-align: right;\">\n",
       "      <th></th>\n",
       "      <th>inventory_id</th>\n",
       "      <th>film_id</th>\n",
       "      <th>title</th>\n",
       "      <th>rental_duration</th>\n",
       "      <th>rental_rate</th>\n",
       "      <th>length</th>\n",
       "      <th>replacement_cost</th>\n",
       "      <th>rating</th>\n",
       "      <th>category</th>\n",
       "      <th>language</th>\n",
       "      <th>...</th>\n",
       "      <th>rental_id</th>\n",
       "      <th>customer_id</th>\n",
       "      <th>return_date</th>\n",
       "      <th>amount</th>\n",
       "      <th>active</th>\n",
       "      <th>rental_year</th>\n",
       "      <th>rental_month</th>\n",
       "      <th>rental_day</th>\n",
       "      <th>rental_hour</th>\n",
       "      <th>rental_minute</th>\n",
       "    </tr>\n",
       "  </thead>\n",
       "  <tbody>\n",
       "    <tr>\n",
       "      <th>0</th>\n",
       "      <td>3419</td>\n",
       "      <td>749</td>\n",
       "      <td>Rules Human</td>\n",
       "      <td>6</td>\n",
       "      <td>4.99</td>\n",
       "      <td>153</td>\n",
       "      <td>19.99</td>\n",
       "      <td>R</td>\n",
       "      <td>Horror</td>\n",
       "      <td>English</td>\n",
       "      <td>...</td>\n",
       "      <td>1520</td>\n",
       "      <td>341</td>\n",
       "      <td>2005-06-24 23:46:20</td>\n",
       "      <td>7.99</td>\n",
       "      <td>1</td>\n",
       "      <td>2005</td>\n",
       "      <td>6</td>\n",
       "      <td>15</td>\n",
       "      <td>23</td>\n",
       "      <td>57</td>\n",
       "    </tr>\n",
       "    <tr>\n",
       "      <th>1</th>\n",
       "      <td>2512</td>\n",
       "      <td>552</td>\n",
       "      <td>Majestic Floats</td>\n",
       "      <td>5</td>\n",
       "      <td>0.99</td>\n",
       "      <td>130</td>\n",
       "      <td>15.99</td>\n",
       "      <td>PG</td>\n",
       "      <td>Documentary</td>\n",
       "      <td>English</td>\n",
       "      <td>...</td>\n",
       "      <td>1778</td>\n",
       "      <td>341</td>\n",
       "      <td>2005-06-22 16:08:48</td>\n",
       "      <td>1.99</td>\n",
       "      <td>1</td>\n",
       "      <td>2005</td>\n",
       "      <td>6</td>\n",
       "      <td>16</td>\n",
       "      <td>18</td>\n",
       "      <td>54</td>\n",
       "    </tr>\n",
       "    <tr>\n",
       "      <th>2</th>\n",
       "      <td>2507</td>\n",
       "      <td>551</td>\n",
       "      <td>Maiden Home</td>\n",
       "      <td>3</td>\n",
       "      <td>4.99</td>\n",
       "      <td>138</td>\n",
       "      <td>9.99</td>\n",
       "      <td>PG</td>\n",
       "      <td>New</td>\n",
       "      <td>English</td>\n",
       "      <td>...</td>\n",
       "      <td>1849</td>\n",
       "      <td>341</td>\n",
       "      <td>2005-06-23 18:37:19</td>\n",
       "      <td>7.99</td>\n",
       "      <td>1</td>\n",
       "      <td>2005</td>\n",
       "      <td>6</td>\n",
       "      <td>17</td>\n",
       "      <td>0</td>\n",
       "      <td>13</td>\n",
       "    </tr>\n",
       "    <tr>\n",
       "      <th>3</th>\n",
       "      <td>2047</td>\n",
       "      <td>445</td>\n",
       "      <td>Hyde Doctor</td>\n",
       "      <td>5</td>\n",
       "      <td>2.99</td>\n",
       "      <td>100</td>\n",
       "      <td>11.99</td>\n",
       "      <td>G</td>\n",
       "      <td>Classics</td>\n",
       "      <td>English</td>\n",
       "      <td>...</td>\n",
       "      <td>2829</td>\n",
       "      <td>341</td>\n",
       "      <td>2005-06-24 18:10:30</td>\n",
       "      <td>2.99</td>\n",
       "      <td>1</td>\n",
       "      <td>2005</td>\n",
       "      <td>6</td>\n",
       "      <td>19</td>\n",
       "      <td>21</td>\n",
       "      <td>11</td>\n",
       "    </tr>\n",
       "    <tr>\n",
       "      <th>4</th>\n",
       "      <td>2569</td>\n",
       "      <td>563</td>\n",
       "      <td>Massacre Usual</td>\n",
       "      <td>6</td>\n",
       "      <td>4.99</td>\n",
       "      <td>165</td>\n",
       "      <td>16.99</td>\n",
       "      <td>R</td>\n",
       "      <td>Games</td>\n",
       "      <td>English</td>\n",
       "      <td>...</td>\n",
       "      <td>3130</td>\n",
       "      <td>341</td>\n",
       "      <td>2005-06-29 18:05:22</td>\n",
       "      <td>7.99</td>\n",
       "      <td>1</td>\n",
       "      <td>2005</td>\n",
       "      <td>6</td>\n",
       "      <td>20</td>\n",
       "      <td>19</td>\n",
       "      <td>3</td>\n",
       "    </tr>\n",
       "  </tbody>\n",
       "</table>\n",
       "<p>5 rows × 21 columns</p>\n",
       "</div>"
      ],
      "text/plain": [
       "   inventory_id  film_id            title  rental_duration  rental_rate  \\\n",
       "0          3419      749      Rules Human                6         4.99   \n",
       "1          2512      552  Majestic Floats                5         0.99   \n",
       "2          2507      551      Maiden Home                3         4.99   \n",
       "3          2047      445      Hyde Doctor                5         2.99   \n",
       "4          2569      563   Massacre Usual                6         4.99   \n",
       "\n",
       "   length  replacement_cost rating     category              language  ...  \\\n",
       "0     153             19.99      R       Horror  English               ...   \n",
       "1     130             15.99     PG  Documentary  English               ...   \n",
       "2     138              9.99     PG          New  English               ...   \n",
       "3     100             11.99      G     Classics  English               ...   \n",
       "4     165             16.99      R        Games  English               ...   \n",
       "\n",
       "   rental_id  customer_id          return_date amount  active  rental_year  \\\n",
       "0       1520          341  2005-06-24 23:46:20   7.99       1         2005   \n",
       "1       1778          341  2005-06-22 16:08:48   1.99       1         2005   \n",
       "2       1849          341  2005-06-23 18:37:19   7.99       1         2005   \n",
       "3       2829          341  2005-06-24 18:10:30   2.99       1         2005   \n",
       "4       3130          341  2005-06-29 18:05:22   7.99       1         2005   \n",
       "\n",
       "   rental_month  rental_day  rental_hour  rental_minute  \n",
       "0             6          15           23             57  \n",
       "1             6          16           18             54  \n",
       "2             6          17            0             13  \n",
       "3             6          19           21             11  \n",
       "4             6          20           19              3  \n",
       "\n",
       "[5 rows x 21 columns]"
      ]
     },
     "execution_count": 6,
     "metadata": {},
     "output_type": "execute_result"
    }
   ],
   "source": [
    "# Convert the 'date' column to datetime\n",
    "df['rental_date'] = pd.to_datetime(df['rental_date'])\n",
    "\n",
    "# Extract year, month, day, hour, minute, and second\n",
    "df['rental_year'] = df['rental_date'].dt.year\n",
    "df['rental_month'] = df['rental_date'].dt.month\n",
    "df['rental_day'] = df['rental_date'].dt.day\n",
    "df['rental_hour'] = df['rental_date'].dt.hour\n",
    "df['rental_minute'] = df['rental_date'].dt.minute\n",
    "\n",
    "df.drop('rental_date', axis=1, inplace=True)\n",
    "\n",
    "df.head()"
   ]
  },
  {
   "cell_type": "code",
   "execution_count": 7,
   "metadata": {},
   "outputs": [],
   "source": [
    "df['return_date'] = pd.to_datetime(df['return_date'])\n",
    "\n",
    "# Extract year, month, day, hour, minute, and second\n",
    "df['return_year'] = df['return_date'].dt.year\n",
    "df['return_month'] = df['return_date'].dt.month\n",
    "df['return_day'] = df['return_date'].dt.day\n",
    "df['return_hour'] = df['return_date'].dt.hour\n",
    "df['return_minute'] = df['return_date'].dt.minute\n",
    "\n",
    "df.drop('return_date', axis=1, inplace=True)"
   ]
  },
  {
   "cell_type": "code",
   "execution_count": 8,
   "metadata": {},
   "outputs": [
    {
     "data": {
      "text/plain": [
       "inventory_id        0\n",
       "film_id             0\n",
       "title               0\n",
       "rental_duration     0\n",
       "rental_rate         0\n",
       "length              0\n",
       "replacement_cost    0\n",
       "rating              0\n",
       "category            0\n",
       "language            0\n",
       "store_id            0\n",
       "rental_id           0\n",
       "customer_id         0\n",
       "amount              0\n",
       "active              0\n",
       "rental_year         0\n",
       "rental_month        0\n",
       "rental_day          0\n",
       "rental_hour         0\n",
       "rental_minute       0\n",
       "return_year         0\n",
       "return_month        0\n",
       "return_day          0\n",
       "return_hour         0\n",
       "return_minute       0\n",
       "dtype: int64"
      ]
     },
     "execution_count": 8,
     "metadata": {},
     "output_type": "execute_result"
    }
   ],
   "source": [
    "df.isnull().sum()"
   ]
  },
  {
   "cell_type": "code",
   "execution_count": 9,
   "metadata": {},
   "outputs": [],
   "source": [
    "df.drop('language',axis=1, inplace=True)\n",
    "df.drop('rental_year',axis=1, inplace=True)\n",
    "df.drop('return_year',axis=1, inplace=True)\n",
    "df.drop('rental_hour',axis=1, inplace=True)\n",
    "df.drop('rental_minute',axis=1, inplace=True)\n",
    "df.drop('return_hour',axis=1, inplace=True)\n",
    "df.drop('return_minute',axis=1, inplace=True)\n",
    "df.drop('title',axis=1,inplace=True)\n",
    "df.drop(['inventory_id','film_id','store_id','rental_id','customer_id'], axis=1, inplace=True)"
   ]
  },
  {
   "cell_type": "code",
   "execution_count": 10,
   "metadata": {},
   "outputs": [],
   "source": [
    "categorical_column_to_iterate = ['rating', 'category']\n",
    "continuous_column_to_iterate = ['rental_rate', 'replacement_cost']"
   ]
  },
  {
   "cell_type": "code",
   "execution_count": 11,
   "metadata": {},
   "outputs": [
    {
     "data": {
      "text/plain": [
       "rating\n",
       "PG-13    3203\n",
       "NC-17    2964\n",
       "PG       2903\n",
       "R        2868\n",
       "G        2475\n",
       "Name: count, dtype: int64"
      ]
     },
     "execution_count": 11,
     "metadata": {},
     "output_type": "execute_result"
    }
   ],
   "source": [
    "df['rating'].value_counts()"
   ]
  },
  {
   "cell_type": "code",
   "execution_count": 12,
   "metadata": {},
   "outputs": [],
   "source": [
    "df['rating'] = df['rating'].map({\"PG-13\":0,'NC-17':1,'PG':2,'R':3,\"G\":4})"
   ]
  },
  {
   "cell_type": "code",
   "execution_count": 13,
   "metadata": {},
   "outputs": [
    {
     "data": {
      "text/plain": [
       "rating\n",
       "0    3203\n",
       "1    2964\n",
       "2    2903\n",
       "3    2868\n",
       "4    2475\n",
       "Name: count, dtype: int64"
      ]
     },
     "execution_count": 13,
     "metadata": {},
     "output_type": "execute_result"
    }
   ],
   "source": [
    "df['rating'].value_counts()"
   ]
  },
  {
   "cell_type": "code",
   "execution_count": 14,
   "metadata": {},
   "outputs": [
    {
     "data": {
      "text/plain": [
       "category\n",
       "Sports         1066\n",
       "Animation      1044\n",
       "Action          996\n",
       "Sci-Fi          990\n",
       "Family          975\n",
       "Drama           946\n",
       "Foreign         942\n",
       "Documentary     930\n",
       "Games           870\n",
       "Children        855\n",
       "New             851\n",
       "Classics        851\n",
       "Comedy          842\n",
       "Horror          761\n",
       "Travel          755\n",
       "Music           739\n",
       "Name: count, dtype: int64"
      ]
     },
     "execution_count": 14,
     "metadata": {},
     "output_type": "execute_result"
    }
   ],
   "source": [
    "df['category'].value_counts()"
   ]
  },
  {
   "cell_type": "code",
   "execution_count": 15,
   "metadata": {},
   "outputs": [
    {
     "data": {
      "text/plain": [
       "array(['Horror', 'Documentary', 'New', 'Classics', 'Games', 'Sci-Fi',\n",
       "       'Foreign', 'Family', 'Travel', 'Music', 'Sports', 'Comedy',\n",
       "       'Drama', 'Action', 'Children', 'Animation'], dtype=object)"
      ]
     },
     "execution_count": 15,
     "metadata": {},
     "output_type": "execute_result"
    }
   ],
   "source": [
    "df['category'].unique()"
   ]
  },
  {
   "cell_type": "code",
   "execution_count": 16,
   "metadata": {},
   "outputs": [],
   "source": [
    "df['category'] = df['category'].map({'Horror':0, 'Documentary':1, 'New':2, 'Classics':3, 'Games':4, 'Sci-Fi':5,\n",
    "       'Foreign':6, 'Family':7, 'Travel':8, 'Music':9, 'Sports':10, 'Comedy':11,\n",
    "       'Drama':12, 'Action':13, 'Children':14, 'Animation':15})"
   ]
  },
  {
   "cell_type": "code",
   "execution_count": 17,
   "metadata": {},
   "outputs": [
    {
     "data": {
      "text/plain": [
       "category\n",
       "10    1066\n",
       "15    1044\n",
       "13     996\n",
       "5      990\n",
       "7      975\n",
       "12     946\n",
       "6      942\n",
       "1      930\n",
       "4      870\n",
       "14     855\n",
       "2      851\n",
       "3      851\n",
       "11     842\n",
       "0      761\n",
       "8      755\n",
       "9      739\n",
       "Name: count, dtype: int64"
      ]
     },
     "execution_count": 17,
     "metadata": {},
     "output_type": "execute_result"
    }
   ],
   "source": [
    "df['category'].value_counts()"
   ]
  },
  {
   "cell_type": "code",
   "execution_count": 18,
   "metadata": {},
   "outputs": [],
   "source": [
    "#encoding\n",
    "encoders_cont = {}\n",
    "for col in continuous_column_to_iterate:\n",
    "    encoder = LabelEncoder()\n",
    "    df[col] = encoder.fit_transform(df[col])\n",
    "    encoders_cont[col] = encoder\n",
    "\n",
    "with open('label_encoders.pkl', 'wb') as f:\n",
    "    pickle.dump(encoders_cont, f)"
   ]
  },
  {
   "cell_type": "code",
   "execution_count": 19,
   "metadata": {},
   "outputs": [
    {
     "data": {
      "text/plain": [
       "{'rental_rate': LabelEncoder(), 'replacement_cost': LabelEncoder()}"
      ]
     },
     "execution_count": 19,
     "metadata": {},
     "output_type": "execute_result"
    }
   ],
   "source": [
    "encoders_cont"
   ]
  },
  {
   "cell_type": "code",
   "execution_count": 20,
   "metadata": {},
   "outputs": [
    {
     "data": {
      "text/html": [
       "<div>\n",
       "<style scoped>\n",
       "    .dataframe tbody tr th:only-of-type {\n",
       "        vertical-align: middle;\n",
       "    }\n",
       "\n",
       "    .dataframe tbody tr th {\n",
       "        vertical-align: top;\n",
       "    }\n",
       "\n",
       "    .dataframe thead th {\n",
       "        text-align: right;\n",
       "    }\n",
       "</style>\n",
       "<table border=\"1\" class=\"dataframe\">\n",
       "  <thead>\n",
       "    <tr style=\"text-align: right;\">\n",
       "      <th></th>\n",
       "      <th>rental_duration</th>\n",
       "      <th>rental_rate</th>\n",
       "      <th>length</th>\n",
       "      <th>replacement_cost</th>\n",
       "      <th>rating</th>\n",
       "      <th>category</th>\n",
       "      <th>amount</th>\n",
       "      <th>active</th>\n",
       "      <th>rental_month</th>\n",
       "      <th>rental_day</th>\n",
       "      <th>return_month</th>\n",
       "      <th>return_day</th>\n",
       "    </tr>\n",
       "  </thead>\n",
       "  <tbody>\n",
       "    <tr>\n",
       "      <th>0</th>\n",
       "      <td>6</td>\n",
       "      <td>2</td>\n",
       "      <td>153</td>\n",
       "      <td>10</td>\n",
       "      <td>3</td>\n",
       "      <td>0</td>\n",
       "      <td>7.99</td>\n",
       "      <td>1</td>\n",
       "      <td>6</td>\n",
       "      <td>15</td>\n",
       "      <td>6</td>\n",
       "      <td>24</td>\n",
       "    </tr>\n",
       "    <tr>\n",
       "      <th>1</th>\n",
       "      <td>5</td>\n",
       "      <td>0</td>\n",
       "      <td>130</td>\n",
       "      <td>6</td>\n",
       "      <td>2</td>\n",
       "      <td>1</td>\n",
       "      <td>1.99</td>\n",
       "      <td>1</td>\n",
       "      <td>6</td>\n",
       "      <td>16</td>\n",
       "      <td>6</td>\n",
       "      <td>22</td>\n",
       "    </tr>\n",
       "    <tr>\n",
       "      <th>2</th>\n",
       "      <td>3</td>\n",
       "      <td>2</td>\n",
       "      <td>138</td>\n",
       "      <td>0</td>\n",
       "      <td>2</td>\n",
       "      <td>2</td>\n",
       "      <td>7.99</td>\n",
       "      <td>1</td>\n",
       "      <td>6</td>\n",
       "      <td>17</td>\n",
       "      <td>6</td>\n",
       "      <td>23</td>\n",
       "    </tr>\n",
       "    <tr>\n",
       "      <th>3</th>\n",
       "      <td>5</td>\n",
       "      <td>1</td>\n",
       "      <td>100</td>\n",
       "      <td>2</td>\n",
       "      <td>4</td>\n",
       "      <td>3</td>\n",
       "      <td>2.99</td>\n",
       "      <td>1</td>\n",
       "      <td>6</td>\n",
       "      <td>19</td>\n",
       "      <td>6</td>\n",
       "      <td>24</td>\n",
       "    </tr>\n",
       "    <tr>\n",
       "      <th>4</th>\n",
       "      <td>6</td>\n",
       "      <td>2</td>\n",
       "      <td>165</td>\n",
       "      <td>7</td>\n",
       "      <td>3</td>\n",
       "      <td>4</td>\n",
       "      <td>7.99</td>\n",
       "      <td>1</td>\n",
       "      <td>6</td>\n",
       "      <td>20</td>\n",
       "      <td>6</td>\n",
       "      <td>29</td>\n",
       "    </tr>\n",
       "  </tbody>\n",
       "</table>\n",
       "</div>"
      ],
      "text/plain": [
       "   rental_duration  rental_rate  length  replacement_cost  rating  category  \\\n",
       "0                6            2     153                10       3         0   \n",
       "1                5            0     130                 6       2         1   \n",
       "2                3            2     138                 0       2         2   \n",
       "3                5            1     100                 2       4         3   \n",
       "4                6            2     165                 7       3         4   \n",
       "\n",
       "   amount  active  rental_month  rental_day  return_month  return_day  \n",
       "0    7.99       1             6          15             6          24  \n",
       "1    1.99       1             6          16             6          22  \n",
       "2    7.99       1             6          17             6          23  \n",
       "3    2.99       1             6          19             6          24  \n",
       "4    7.99       1             6          20             6          29  "
      ]
     },
     "execution_count": 20,
     "metadata": {},
     "output_type": "execute_result"
    }
   ],
   "source": [
    "df.head()"
   ]
  },
  {
   "cell_type": "code",
   "execution_count": 21,
   "metadata": {},
   "outputs": [],
   "source": [
    "# Separate features and target\n",
    "x = df.drop('amount', axis=1)  # Replace 'revenue_column' with the actual column name for revenue\n",
    "y = df['amount']"
   ]
  },
  {
   "cell_type": "code",
   "execution_count": 22,
   "metadata": {},
   "outputs": [],
   "source": [
    "x_train,x_test,y_train,y_test = train_test_split(x,y,test_size=0.25)"
   ]
  },
  {
   "cell_type": "code",
   "execution_count": 23,
   "metadata": {},
   "outputs": [
    {
     "data": {
      "text/html": [
       "<div>\n",
       "<style scoped>\n",
       "    .dataframe tbody tr th:only-of-type {\n",
       "        vertical-align: middle;\n",
       "    }\n",
       "\n",
       "    .dataframe tbody tr th {\n",
       "        vertical-align: top;\n",
       "    }\n",
       "\n",
       "    .dataframe thead th {\n",
       "        text-align: right;\n",
       "    }\n",
       "</style>\n",
       "<table border=\"1\" class=\"dataframe\">\n",
       "  <thead>\n",
       "    <tr style=\"text-align: right;\">\n",
       "      <th></th>\n",
       "      <th>rental_duration</th>\n",
       "      <th>rental_rate</th>\n",
       "      <th>length</th>\n",
       "      <th>replacement_cost</th>\n",
       "      <th>rating</th>\n",
       "      <th>category</th>\n",
       "      <th>active</th>\n",
       "      <th>rental_month</th>\n",
       "      <th>rental_day</th>\n",
       "      <th>return_month</th>\n",
       "      <th>return_day</th>\n",
       "    </tr>\n",
       "  </thead>\n",
       "  <tbody>\n",
       "    <tr>\n",
       "      <th>8673</th>\n",
       "      <td>6</td>\n",
       "      <td>0</td>\n",
       "      <td>136</td>\n",
       "      <td>16</td>\n",
       "      <td>1</td>\n",
       "      <td>2</td>\n",
       "      <td>1</td>\n",
       "      <td>7</td>\n",
       "      <td>29</td>\n",
       "      <td>8</td>\n",
       "      <td>5</td>\n",
       "    </tr>\n",
       "    <tr>\n",
       "      <th>14344</th>\n",
       "      <td>4</td>\n",
       "      <td>0</td>\n",
       "      <td>72</td>\n",
       "      <td>5</td>\n",
       "      <td>2</td>\n",
       "      <td>6</td>\n",
       "      <td>1</td>\n",
       "      <td>7</td>\n",
       "      <td>9</td>\n",
       "      <td>7</td>\n",
       "      <td>16</td>\n",
       "    </tr>\n",
       "    <tr>\n",
       "      <th>7555</th>\n",
       "      <td>6</td>\n",
       "      <td>1</td>\n",
       "      <td>93</td>\n",
       "      <td>3</td>\n",
       "      <td>2</td>\n",
       "      <td>1</td>\n",
       "      <td>1</td>\n",
       "      <td>8</td>\n",
       "      <td>23</td>\n",
       "      <td>8</td>\n",
       "      <td>29</td>\n",
       "    </tr>\n",
       "    <tr>\n",
       "      <th>463</th>\n",
       "      <td>7</td>\n",
       "      <td>0</td>\n",
       "      <td>53</td>\n",
       "      <td>7</td>\n",
       "      <td>4</td>\n",
       "      <td>13</td>\n",
       "      <td>1</td>\n",
       "      <td>6</td>\n",
       "      <td>20</td>\n",
       "      <td>6</td>\n",
       "      <td>29</td>\n",
       "    </tr>\n",
       "    <tr>\n",
       "      <th>1890</th>\n",
       "      <td>3</td>\n",
       "      <td>1</td>\n",
       "      <td>70</td>\n",
       "      <td>13</td>\n",
       "      <td>3</td>\n",
       "      <td>10</td>\n",
       "      <td>1</td>\n",
       "      <td>6</td>\n",
       "      <td>17</td>\n",
       "      <td>6</td>\n",
       "      <td>22</td>\n",
       "    </tr>\n",
       "    <tr>\n",
       "      <th>...</th>\n",
       "      <td>...</td>\n",
       "      <td>...</td>\n",
       "      <td>...</td>\n",
       "      <td>...</td>\n",
       "      <td>...</td>\n",
       "      <td>...</td>\n",
       "      <td>...</td>\n",
       "      <td>...</td>\n",
       "      <td>...</td>\n",
       "      <td>...</td>\n",
       "      <td>...</td>\n",
       "    </tr>\n",
       "    <tr>\n",
       "      <th>2969</th>\n",
       "      <td>4</td>\n",
       "      <td>0</td>\n",
       "      <td>156</td>\n",
       "      <td>1</td>\n",
       "      <td>3</td>\n",
       "      <td>7</td>\n",
       "      <td>1</td>\n",
       "      <td>8</td>\n",
       "      <td>17</td>\n",
       "      <td>8</td>\n",
       "      <td>21</td>\n",
       "    </tr>\n",
       "    <tr>\n",
       "      <th>10400</th>\n",
       "      <td>4</td>\n",
       "      <td>2</td>\n",
       "      <td>51</td>\n",
       "      <td>12</td>\n",
       "      <td>2</td>\n",
       "      <td>15</td>\n",
       "      <td>1</td>\n",
       "      <td>8</td>\n",
       "      <td>1</td>\n",
       "      <td>8</td>\n",
       "      <td>3</td>\n",
       "    </tr>\n",
       "    <tr>\n",
       "      <th>4476</th>\n",
       "      <td>3</td>\n",
       "      <td>2</td>\n",
       "      <td>114</td>\n",
       "      <td>11</td>\n",
       "      <td>2</td>\n",
       "      <td>15</td>\n",
       "      <td>1</td>\n",
       "      <td>8</td>\n",
       "      <td>17</td>\n",
       "      <td>8</td>\n",
       "      <td>23</td>\n",
       "    </tr>\n",
       "    <tr>\n",
       "      <th>10809</th>\n",
       "      <td>6</td>\n",
       "      <td>2</td>\n",
       "      <td>183</td>\n",
       "      <td>4</td>\n",
       "      <td>1</td>\n",
       "      <td>9</td>\n",
       "      <td>1</td>\n",
       "      <td>7</td>\n",
       "      <td>27</td>\n",
       "      <td>7</td>\n",
       "      <td>30</td>\n",
       "    </tr>\n",
       "    <tr>\n",
       "      <th>1853</th>\n",
       "      <td>4</td>\n",
       "      <td>0</td>\n",
       "      <td>68</td>\n",
       "      <td>4</td>\n",
       "      <td>3</td>\n",
       "      <td>11</td>\n",
       "      <td>1</td>\n",
       "      <td>6</td>\n",
       "      <td>18</td>\n",
       "      <td>6</td>\n",
       "      <td>26</td>\n",
       "    </tr>\n",
       "  </tbody>\n",
       "</table>\n",
       "<p>10809 rows × 11 columns</p>\n",
       "</div>"
      ],
      "text/plain": [
       "       rental_duration  rental_rate  length  replacement_cost  rating  \\\n",
       "8673                 6            0     136                16       1   \n",
       "14344                4            0      72                 5       2   \n",
       "7555                 6            1      93                 3       2   \n",
       "463                  7            0      53                 7       4   \n",
       "1890                 3            1      70                13       3   \n",
       "...                ...          ...     ...               ...     ...   \n",
       "2969                 4            0     156                 1       3   \n",
       "10400                4            2      51                12       2   \n",
       "4476                 3            2     114                11       2   \n",
       "10809                6            2     183                 4       1   \n",
       "1853                 4            0      68                 4       3   \n",
       "\n",
       "       category  active  rental_month  rental_day  return_month  return_day  \n",
       "8673          2       1             7          29             8           5  \n",
       "14344         6       1             7           9             7          16  \n",
       "7555          1       1             8          23             8          29  \n",
       "463          13       1             6          20             6          29  \n",
       "1890         10       1             6          17             6          22  \n",
       "...         ...     ...           ...         ...           ...         ...  \n",
       "2969          7       1             8          17             8          21  \n",
       "10400        15       1             8           1             8           3  \n",
       "4476         15       1             8          17             8          23  \n",
       "10809         9       1             7          27             7          30  \n",
       "1853         11       1             6          18             6          26  \n",
       "\n",
       "[10809 rows x 11 columns]"
      ]
     },
     "execution_count": 23,
     "metadata": {},
     "output_type": "execute_result"
    }
   ],
   "source": [
    "x_train"
   ]
  },
  {
   "cell_type": "code",
   "execution_count": 24,
   "metadata": {},
   "outputs": [
    {
     "data": {
      "text/html": [
       "<style>#sk-container-id-1 {\n",
       "  /* Definition of color scheme common for light and dark mode */\n",
       "  --sklearn-color-text: black;\n",
       "  --sklearn-color-line: gray;\n",
       "  /* Definition of color scheme for unfitted estimators */\n",
       "  --sklearn-color-unfitted-level-0: #fff5e6;\n",
       "  --sklearn-color-unfitted-level-1: #f6e4d2;\n",
       "  --sklearn-color-unfitted-level-2: #ffe0b3;\n",
       "  --sklearn-color-unfitted-level-3: chocolate;\n",
       "  /* Definition of color scheme for fitted estimators */\n",
       "  --sklearn-color-fitted-level-0: #f0f8ff;\n",
       "  --sklearn-color-fitted-level-1: #d4ebff;\n",
       "  --sklearn-color-fitted-level-2: #b3dbfd;\n",
       "  --sklearn-color-fitted-level-3: cornflowerblue;\n",
       "\n",
       "  /* Specific color for light theme */\n",
       "  --sklearn-color-text-on-default-background: var(--sg-text-color, var(--theme-code-foreground, var(--jp-content-font-color1, black)));\n",
       "  --sklearn-color-background: var(--sg-background-color, var(--theme-background, var(--jp-layout-color0, white)));\n",
       "  --sklearn-color-border-box: var(--sg-text-color, var(--theme-code-foreground, var(--jp-content-font-color1, black)));\n",
       "  --sklearn-color-icon: #696969;\n",
       "\n",
       "  @media (prefers-color-scheme: dark) {\n",
       "    /* Redefinition of color scheme for dark theme */\n",
       "    --sklearn-color-text-on-default-background: var(--sg-text-color, var(--theme-code-foreground, var(--jp-content-font-color1, white)));\n",
       "    --sklearn-color-background: var(--sg-background-color, var(--theme-background, var(--jp-layout-color0, #111)));\n",
       "    --sklearn-color-border-box: var(--sg-text-color, var(--theme-code-foreground, var(--jp-content-font-color1, white)));\n",
       "    --sklearn-color-icon: #878787;\n",
       "  }\n",
       "}\n",
       "\n",
       "#sk-container-id-1 {\n",
       "  color: var(--sklearn-color-text);\n",
       "}\n",
       "\n",
       "#sk-container-id-1 pre {\n",
       "  padding: 0;\n",
       "}\n",
       "\n",
       "#sk-container-id-1 input.sk-hidden--visually {\n",
       "  border: 0;\n",
       "  clip: rect(1px 1px 1px 1px);\n",
       "  clip: rect(1px, 1px, 1px, 1px);\n",
       "  height: 1px;\n",
       "  margin: -1px;\n",
       "  overflow: hidden;\n",
       "  padding: 0;\n",
       "  position: absolute;\n",
       "  width: 1px;\n",
       "}\n",
       "\n",
       "#sk-container-id-1 div.sk-dashed-wrapped {\n",
       "  border: 1px dashed var(--sklearn-color-line);\n",
       "  margin: 0 0.4em 0.5em 0.4em;\n",
       "  box-sizing: border-box;\n",
       "  padding-bottom: 0.4em;\n",
       "  background-color: var(--sklearn-color-background);\n",
       "}\n",
       "\n",
       "#sk-container-id-1 div.sk-container {\n",
       "  /* jupyter's `normalize.less` sets `[hidden] { display: none; }`\n",
       "     but bootstrap.min.css set `[hidden] { display: none !important; }`\n",
       "     so we also need the `!important` here to be able to override the\n",
       "     default hidden behavior on the sphinx rendered scikit-learn.org.\n",
       "     See: https://github.com/scikit-learn/scikit-learn/issues/21755 */\n",
       "  display: inline-block !important;\n",
       "  position: relative;\n",
       "}\n",
       "\n",
       "#sk-container-id-1 div.sk-text-repr-fallback {\n",
       "  display: none;\n",
       "}\n",
       "\n",
       "div.sk-parallel-item,\n",
       "div.sk-serial,\n",
       "div.sk-item {\n",
       "  /* draw centered vertical line to link estimators */\n",
       "  background-image: linear-gradient(var(--sklearn-color-text-on-default-background), var(--sklearn-color-text-on-default-background));\n",
       "  background-size: 2px 100%;\n",
       "  background-repeat: no-repeat;\n",
       "  background-position: center center;\n",
       "}\n",
       "\n",
       "/* Parallel-specific style estimator block */\n",
       "\n",
       "#sk-container-id-1 div.sk-parallel-item::after {\n",
       "  content: \"\";\n",
       "  width: 100%;\n",
       "  border-bottom: 2px solid var(--sklearn-color-text-on-default-background);\n",
       "  flex-grow: 1;\n",
       "}\n",
       "\n",
       "#sk-container-id-1 div.sk-parallel {\n",
       "  display: flex;\n",
       "  align-items: stretch;\n",
       "  justify-content: center;\n",
       "  background-color: var(--sklearn-color-background);\n",
       "  position: relative;\n",
       "}\n",
       "\n",
       "#sk-container-id-1 div.sk-parallel-item {\n",
       "  display: flex;\n",
       "  flex-direction: column;\n",
       "}\n",
       "\n",
       "#sk-container-id-1 div.sk-parallel-item:first-child::after {\n",
       "  align-self: flex-end;\n",
       "  width: 50%;\n",
       "}\n",
       "\n",
       "#sk-container-id-1 div.sk-parallel-item:last-child::after {\n",
       "  align-self: flex-start;\n",
       "  width: 50%;\n",
       "}\n",
       "\n",
       "#sk-container-id-1 div.sk-parallel-item:only-child::after {\n",
       "  width: 0;\n",
       "}\n",
       "\n",
       "/* Serial-specific style estimator block */\n",
       "\n",
       "#sk-container-id-1 div.sk-serial {\n",
       "  display: flex;\n",
       "  flex-direction: column;\n",
       "  align-items: center;\n",
       "  background-color: var(--sklearn-color-background);\n",
       "  padding-right: 1em;\n",
       "  padding-left: 1em;\n",
       "}\n",
       "\n",
       "\n",
       "/* Toggleable style: style used for estimator/Pipeline/ColumnTransformer box that is\n",
       "clickable and can be expanded/collapsed.\n",
       "- Pipeline and ColumnTransformer use this feature and define the default style\n",
       "- Estimators will overwrite some part of the style using the `sk-estimator` class\n",
       "*/\n",
       "\n",
       "/* Pipeline and ColumnTransformer style (default) */\n",
       "\n",
       "#sk-container-id-1 div.sk-toggleable {\n",
       "  /* Default theme specific background. It is overwritten whether we have a\n",
       "  specific estimator or a Pipeline/ColumnTransformer */\n",
       "  background-color: var(--sklearn-color-background);\n",
       "}\n",
       "\n",
       "/* Toggleable label */\n",
       "#sk-container-id-1 label.sk-toggleable__label {\n",
       "  cursor: pointer;\n",
       "  display: block;\n",
       "  width: 100%;\n",
       "  margin-bottom: 0;\n",
       "  padding: 0.5em;\n",
       "  box-sizing: border-box;\n",
       "  text-align: center;\n",
       "}\n",
       "\n",
       "#sk-container-id-1 label.sk-toggleable__label-arrow:before {\n",
       "  /* Arrow on the left of the label */\n",
       "  content: \"▸\";\n",
       "  float: left;\n",
       "  margin-right: 0.25em;\n",
       "  color: var(--sklearn-color-icon);\n",
       "}\n",
       "\n",
       "#sk-container-id-1 label.sk-toggleable__label-arrow:hover:before {\n",
       "  color: var(--sklearn-color-text);\n",
       "}\n",
       "\n",
       "/* Toggleable content - dropdown */\n",
       "\n",
       "#sk-container-id-1 div.sk-toggleable__content {\n",
       "  max-height: 0;\n",
       "  max-width: 0;\n",
       "  overflow: hidden;\n",
       "  text-align: left;\n",
       "  /* unfitted */\n",
       "  background-color: var(--sklearn-color-unfitted-level-0);\n",
       "}\n",
       "\n",
       "#sk-container-id-1 div.sk-toggleable__content.fitted {\n",
       "  /* fitted */\n",
       "  background-color: var(--sklearn-color-fitted-level-0);\n",
       "}\n",
       "\n",
       "#sk-container-id-1 div.sk-toggleable__content pre {\n",
       "  margin: 0.2em;\n",
       "  border-radius: 0.25em;\n",
       "  color: var(--sklearn-color-text);\n",
       "  /* unfitted */\n",
       "  background-color: var(--sklearn-color-unfitted-level-0);\n",
       "}\n",
       "\n",
       "#sk-container-id-1 div.sk-toggleable__content.fitted pre {\n",
       "  /* unfitted */\n",
       "  background-color: var(--sklearn-color-fitted-level-0);\n",
       "}\n",
       "\n",
       "#sk-container-id-1 input.sk-toggleable__control:checked~div.sk-toggleable__content {\n",
       "  /* Expand drop-down */\n",
       "  max-height: 200px;\n",
       "  max-width: 100%;\n",
       "  overflow: auto;\n",
       "}\n",
       "\n",
       "#sk-container-id-1 input.sk-toggleable__control:checked~label.sk-toggleable__label-arrow:before {\n",
       "  content: \"▾\";\n",
       "}\n",
       "\n",
       "/* Pipeline/ColumnTransformer-specific style */\n",
       "\n",
       "#sk-container-id-1 div.sk-label input.sk-toggleable__control:checked~label.sk-toggleable__label {\n",
       "  color: var(--sklearn-color-text);\n",
       "  background-color: var(--sklearn-color-unfitted-level-2);\n",
       "}\n",
       "\n",
       "#sk-container-id-1 div.sk-label.fitted input.sk-toggleable__control:checked~label.sk-toggleable__label {\n",
       "  background-color: var(--sklearn-color-fitted-level-2);\n",
       "}\n",
       "\n",
       "/* Estimator-specific style */\n",
       "\n",
       "/* Colorize estimator box */\n",
       "#sk-container-id-1 div.sk-estimator input.sk-toggleable__control:checked~label.sk-toggleable__label {\n",
       "  /* unfitted */\n",
       "  background-color: var(--sklearn-color-unfitted-level-2);\n",
       "}\n",
       "\n",
       "#sk-container-id-1 div.sk-estimator.fitted input.sk-toggleable__control:checked~label.sk-toggleable__label {\n",
       "  /* fitted */\n",
       "  background-color: var(--sklearn-color-fitted-level-2);\n",
       "}\n",
       "\n",
       "#sk-container-id-1 div.sk-label label.sk-toggleable__label,\n",
       "#sk-container-id-1 div.sk-label label {\n",
       "  /* The background is the default theme color */\n",
       "  color: var(--sklearn-color-text-on-default-background);\n",
       "}\n",
       "\n",
       "/* On hover, darken the color of the background */\n",
       "#sk-container-id-1 div.sk-label:hover label.sk-toggleable__label {\n",
       "  color: var(--sklearn-color-text);\n",
       "  background-color: var(--sklearn-color-unfitted-level-2);\n",
       "}\n",
       "\n",
       "/* Label box, darken color on hover, fitted */\n",
       "#sk-container-id-1 div.sk-label.fitted:hover label.sk-toggleable__label.fitted {\n",
       "  color: var(--sklearn-color-text);\n",
       "  background-color: var(--sklearn-color-fitted-level-2);\n",
       "}\n",
       "\n",
       "/* Estimator label */\n",
       "\n",
       "#sk-container-id-1 div.sk-label label {\n",
       "  font-family: monospace;\n",
       "  font-weight: bold;\n",
       "  display: inline-block;\n",
       "  line-height: 1.2em;\n",
       "}\n",
       "\n",
       "#sk-container-id-1 div.sk-label-container {\n",
       "  text-align: center;\n",
       "}\n",
       "\n",
       "/* Estimator-specific */\n",
       "#sk-container-id-1 div.sk-estimator {\n",
       "  font-family: monospace;\n",
       "  border: 1px dotted var(--sklearn-color-border-box);\n",
       "  border-radius: 0.25em;\n",
       "  box-sizing: border-box;\n",
       "  margin-bottom: 0.5em;\n",
       "  /* unfitted */\n",
       "  background-color: var(--sklearn-color-unfitted-level-0);\n",
       "}\n",
       "\n",
       "#sk-container-id-1 div.sk-estimator.fitted {\n",
       "  /* fitted */\n",
       "  background-color: var(--sklearn-color-fitted-level-0);\n",
       "}\n",
       "\n",
       "/* on hover */\n",
       "#sk-container-id-1 div.sk-estimator:hover {\n",
       "  /* unfitted */\n",
       "  background-color: var(--sklearn-color-unfitted-level-2);\n",
       "}\n",
       "\n",
       "#sk-container-id-1 div.sk-estimator.fitted:hover {\n",
       "  /* fitted */\n",
       "  background-color: var(--sklearn-color-fitted-level-2);\n",
       "}\n",
       "\n",
       "/* Specification for estimator info (e.g. \"i\" and \"?\") */\n",
       "\n",
       "/* Common style for \"i\" and \"?\" */\n",
       "\n",
       ".sk-estimator-doc-link,\n",
       "a:link.sk-estimator-doc-link,\n",
       "a:visited.sk-estimator-doc-link {\n",
       "  float: right;\n",
       "  font-size: smaller;\n",
       "  line-height: 1em;\n",
       "  font-family: monospace;\n",
       "  background-color: var(--sklearn-color-background);\n",
       "  border-radius: 1em;\n",
       "  height: 1em;\n",
       "  width: 1em;\n",
       "  text-decoration: none !important;\n",
       "  margin-left: 1ex;\n",
       "  /* unfitted */\n",
       "  border: var(--sklearn-color-unfitted-level-1) 1pt solid;\n",
       "  color: var(--sklearn-color-unfitted-level-1);\n",
       "}\n",
       "\n",
       ".sk-estimator-doc-link.fitted,\n",
       "a:link.sk-estimator-doc-link.fitted,\n",
       "a:visited.sk-estimator-doc-link.fitted {\n",
       "  /* fitted */\n",
       "  border: var(--sklearn-color-fitted-level-1) 1pt solid;\n",
       "  color: var(--sklearn-color-fitted-level-1);\n",
       "}\n",
       "\n",
       "/* On hover */\n",
       "div.sk-estimator:hover .sk-estimator-doc-link:hover,\n",
       ".sk-estimator-doc-link:hover,\n",
       "div.sk-label-container:hover .sk-estimator-doc-link:hover,\n",
       ".sk-estimator-doc-link:hover {\n",
       "  /* unfitted */\n",
       "  background-color: var(--sklearn-color-unfitted-level-3);\n",
       "  color: var(--sklearn-color-background);\n",
       "  text-decoration: none;\n",
       "}\n",
       "\n",
       "div.sk-estimator.fitted:hover .sk-estimator-doc-link.fitted:hover,\n",
       ".sk-estimator-doc-link.fitted:hover,\n",
       "div.sk-label-container:hover .sk-estimator-doc-link.fitted:hover,\n",
       ".sk-estimator-doc-link.fitted:hover {\n",
       "  /* fitted */\n",
       "  background-color: var(--sklearn-color-fitted-level-3);\n",
       "  color: var(--sklearn-color-background);\n",
       "  text-decoration: none;\n",
       "}\n",
       "\n",
       "/* Span, style for the box shown on hovering the info icon */\n",
       ".sk-estimator-doc-link span {\n",
       "  display: none;\n",
       "  z-index: 9999;\n",
       "  position: relative;\n",
       "  font-weight: normal;\n",
       "  right: .2ex;\n",
       "  padding: .5ex;\n",
       "  margin: .5ex;\n",
       "  width: min-content;\n",
       "  min-width: 20ex;\n",
       "  max-width: 50ex;\n",
       "  color: var(--sklearn-color-text);\n",
       "  box-shadow: 2pt 2pt 4pt #999;\n",
       "  /* unfitted */\n",
       "  background: var(--sklearn-color-unfitted-level-0);\n",
       "  border: .5pt solid var(--sklearn-color-unfitted-level-3);\n",
       "}\n",
       "\n",
       ".sk-estimator-doc-link.fitted span {\n",
       "  /* fitted */\n",
       "  background: var(--sklearn-color-fitted-level-0);\n",
       "  border: var(--sklearn-color-fitted-level-3);\n",
       "}\n",
       "\n",
       ".sk-estimator-doc-link:hover span {\n",
       "  display: block;\n",
       "}\n",
       "\n",
       "/* \"?\"-specific style due to the `<a>` HTML tag */\n",
       "\n",
       "#sk-container-id-1 a.estimator_doc_link {\n",
       "  float: right;\n",
       "  font-size: 1rem;\n",
       "  line-height: 1em;\n",
       "  font-family: monospace;\n",
       "  background-color: var(--sklearn-color-background);\n",
       "  border-radius: 1rem;\n",
       "  height: 1rem;\n",
       "  width: 1rem;\n",
       "  text-decoration: none;\n",
       "  /* unfitted */\n",
       "  color: var(--sklearn-color-unfitted-level-1);\n",
       "  border: var(--sklearn-color-unfitted-level-1) 1pt solid;\n",
       "}\n",
       "\n",
       "#sk-container-id-1 a.estimator_doc_link.fitted {\n",
       "  /* fitted */\n",
       "  border: var(--sklearn-color-fitted-level-1) 1pt solid;\n",
       "  color: var(--sklearn-color-fitted-level-1);\n",
       "}\n",
       "\n",
       "/* On hover */\n",
       "#sk-container-id-1 a.estimator_doc_link:hover {\n",
       "  /* unfitted */\n",
       "  background-color: var(--sklearn-color-unfitted-level-3);\n",
       "  color: var(--sklearn-color-background);\n",
       "  text-decoration: none;\n",
       "}\n",
       "\n",
       "#sk-container-id-1 a.estimator_doc_link.fitted:hover {\n",
       "  /* fitted */\n",
       "  background-color: var(--sklearn-color-fitted-level-3);\n",
       "}\n",
       "</style><div id=\"sk-container-id-1\" class=\"sk-top-container\"><div class=\"sk-text-repr-fallback\"><pre>StandardScaler()</pre><b>In a Jupyter environment, please rerun this cell to show the HTML representation or trust the notebook. <br />On GitHub, the HTML representation is unable to render, please try loading this page with nbviewer.org.</b></div><div class=\"sk-container\" hidden><div class=\"sk-item\"><div class=\"sk-estimator fitted sk-toggleable\"><input class=\"sk-toggleable__control sk-hidden--visually\" id=\"sk-estimator-id-1\" type=\"checkbox\" checked><label for=\"sk-estimator-id-1\" class=\"sk-toggleable__label fitted sk-toggleable__label-arrow fitted\">&nbsp;&nbsp;StandardScaler<a class=\"sk-estimator-doc-link fitted\" rel=\"noreferrer\" target=\"_blank\" href=\"https://scikit-learn.org/1.5/modules/generated/sklearn.preprocessing.StandardScaler.html\">?<span>Documentation for StandardScaler</span></a><span class=\"sk-estimator-doc-link fitted\">i<span>Fitted</span></span></label><div class=\"sk-toggleable__content fitted\"><pre>StandardScaler()</pre></div> </div></div></div></div>"
      ],
      "text/plain": [
       "StandardScaler()"
      ]
     },
     "execution_count": 24,
     "metadata": {},
     "output_type": "execute_result"
    }
   ],
   "source": [
    "scaler = StandardScaler()\n",
    "scaler.fit(x_train)"
   ]
  },
  {
   "cell_type": "code",
   "execution_count": 25,
   "metadata": {},
   "outputs": [],
   "source": [
    "x_train_scaler = scaler.transform(x_train)\n",
    "x_test_scaler = scaler.transform(x_test)"
   ]
  },
  {
   "cell_type": "code",
   "execution_count": 26,
   "metadata": {},
   "outputs": [],
   "source": [
    "x_train_scaler_df=pd.DataFrame(x_train_scaler,columns = x_train.columns)\n",
    "x_test_scaler_df=pd.DataFrame(x_test_scaler,columns = x_test.columns)"
   ]
  },
  {
   "cell_type": "code",
   "execution_count": 27,
   "metadata": {},
   "outputs": [
    {
     "data": {
      "text/html": [
       "<div>\n",
       "<style scoped>\n",
       "    .dataframe tbody tr th:only-of-type {\n",
       "        vertical-align: middle;\n",
       "    }\n",
       "\n",
       "    .dataframe tbody tr th {\n",
       "        vertical-align: top;\n",
       "    }\n",
       "\n",
       "    .dataframe thead th {\n",
       "        text-align: right;\n",
       "    }\n",
       "</style>\n",
       "<table border=\"1\" class=\"dataframe\">\n",
       "  <thead>\n",
       "    <tr style=\"text-align: right;\">\n",
       "      <th></th>\n",
       "      <th>rental_duration</th>\n",
       "      <th>rental_rate</th>\n",
       "      <th>length</th>\n",
       "      <th>replacement_cost</th>\n",
       "      <th>rating</th>\n",
       "      <th>category</th>\n",
       "      <th>active</th>\n",
       "      <th>rental_month</th>\n",
       "      <th>rental_day</th>\n",
       "      <th>return_month</th>\n",
       "      <th>return_day</th>\n",
       "    </tr>\n",
       "  </thead>\n",
       "  <tbody>\n",
       "    <tr>\n",
       "      <th>0</th>\n",
       "      <td>0.047229</td>\n",
       "      <td>1.240654</td>\n",
       "      <td>-1.348391</td>\n",
       "      <td>-0.205894</td>\n",
       "      <td>-1.350964</td>\n",
       "      <td>1.153646</td>\n",
       "      <td>0.16006</td>\n",
       "      <td>-1.837720</td>\n",
       "      <td>0.069264</td>\n",
       "      <td>-1.970076</td>\n",
       "      <td>0.891832</td>\n",
       "    </tr>\n",
       "    <tr>\n",
       "      <th>1</th>\n",
       "      <td>-1.374758</td>\n",
       "      <td>-1.185001</td>\n",
       "      <td>-1.422993</td>\n",
       "      <td>0.452833</td>\n",
       "      <td>-0.637425</td>\n",
       "      <td>1.153646</td>\n",
       "      <td>0.16006</td>\n",
       "      <td>-1.837720</td>\n",
       "      <td>-0.274955</td>\n",
       "      <td>-1.970076</td>\n",
       "      <td>0.452590</td>\n",
       "    </tr>\n",
       "    <tr>\n",
       "      <th>2</th>\n",
       "      <td>-1.374758</td>\n",
       "      <td>-1.185001</td>\n",
       "      <td>1.561066</td>\n",
       "      <td>1.276243</td>\n",
       "      <td>-1.350964</td>\n",
       "      <td>-0.363040</td>\n",
       "      <td>0.16006</td>\n",
       "      <td>1.088824</td>\n",
       "      <td>-1.766573</td>\n",
       "      <td>0.774598</td>\n",
       "      <td>-1.194565</td>\n",
       "    </tr>\n",
       "    <tr>\n",
       "      <th>3</th>\n",
       "      <td>0.047229</td>\n",
       "      <td>0.027827</td>\n",
       "      <td>-1.000251</td>\n",
       "      <td>-1.523349</td>\n",
       "      <td>-0.637425</td>\n",
       "      <td>0.286968</td>\n",
       "      <td>0.16006</td>\n",
       "      <td>1.088824</td>\n",
       "      <td>-1.881313</td>\n",
       "      <td>0.774598</td>\n",
       "      <td>-0.865134</td>\n",
       "    </tr>\n",
       "    <tr>\n",
       "      <th>4</th>\n",
       "      <td>-1.374758</td>\n",
       "      <td>0.027827</td>\n",
       "      <td>0.267974</td>\n",
       "      <td>0.123470</td>\n",
       "      <td>-0.637425</td>\n",
       "      <td>-0.363040</td>\n",
       "      <td>0.16006</td>\n",
       "      <td>-0.374448</td>\n",
       "      <td>-1.078134</td>\n",
       "      <td>-0.597739</td>\n",
       "      <td>0.013349</td>\n",
       "    </tr>\n",
       "    <tr>\n",
       "      <th>...</th>\n",
       "      <td>...</td>\n",
       "      <td>...</td>\n",
       "      <td>...</td>\n",
       "      <td>...</td>\n",
       "      <td>...</td>\n",
       "      <td>...</td>\n",
       "      <td>...</td>\n",
       "      <td>...</td>\n",
       "      <td>...</td>\n",
       "      <td>...</td>\n",
       "      <td>...</td>\n",
       "    </tr>\n",
       "    <tr>\n",
       "      <th>3599</th>\n",
       "      <td>0.758222</td>\n",
       "      <td>-1.185001</td>\n",
       "      <td>-1.671664</td>\n",
       "      <td>-0.864622</td>\n",
       "      <td>-0.637425</td>\n",
       "      <td>-0.146371</td>\n",
       "      <td>0.16006</td>\n",
       "      <td>-0.374448</td>\n",
       "      <td>-1.192874</td>\n",
       "      <td>-0.597739</td>\n",
       "      <td>-0.865134</td>\n",
       "    </tr>\n",
       "    <tr>\n",
       "      <th>3600</th>\n",
       "      <td>-0.663765</td>\n",
       "      <td>0.027827</td>\n",
       "      <td>0.790184</td>\n",
       "      <td>-1.358668</td>\n",
       "      <td>0.789652</td>\n",
       "      <td>-1.446387</td>\n",
       "      <td>0.16006</td>\n",
       "      <td>-0.374448</td>\n",
       "      <td>1.446142</td>\n",
       "      <td>0.774598</td>\n",
       "      <td>-1.523996</td>\n",
       "    </tr>\n",
       "    <tr>\n",
       "      <th>3601</th>\n",
       "      <td>-1.374758</td>\n",
       "      <td>-1.185001</td>\n",
       "      <td>-0.080167</td>\n",
       "      <td>-1.688031</td>\n",
       "      <td>-1.350964</td>\n",
       "      <td>1.586984</td>\n",
       "      <td>0.16006</td>\n",
       "      <td>1.088824</td>\n",
       "      <td>-1.766573</td>\n",
       "      <td>0.774598</td>\n",
       "      <td>-0.865134</td>\n",
       "    </tr>\n",
       "    <tr>\n",
       "      <th>3602</th>\n",
       "      <td>-1.374758</td>\n",
       "      <td>-1.185001</td>\n",
       "      <td>-0.129901</td>\n",
       "      <td>-0.864622</td>\n",
       "      <td>1.503191</td>\n",
       "      <td>0.070299</td>\n",
       "      <td>0.16006</td>\n",
       "      <td>-0.374448</td>\n",
       "      <td>1.331403</td>\n",
       "      <td>0.774598</td>\n",
       "      <td>-1.414185</td>\n",
       "    </tr>\n",
       "    <tr>\n",
       "      <th>3603</th>\n",
       "      <td>0.047229</td>\n",
       "      <td>1.240654</td>\n",
       "      <td>-1.373259</td>\n",
       "      <td>-0.041212</td>\n",
       "      <td>-0.637425</td>\n",
       "      <td>0.936976</td>\n",
       "      <td>0.16006</td>\n",
       "      <td>1.088824</td>\n",
       "      <td>-1.766573</td>\n",
       "      <td>0.774598</td>\n",
       "      <td>-1.414185</td>\n",
       "    </tr>\n",
       "  </tbody>\n",
       "</table>\n",
       "<p>3604 rows × 11 columns</p>\n",
       "</div>"
      ],
      "text/plain": [
       "      rental_duration  rental_rate    length  replacement_cost    rating  \\\n",
       "0            0.047229     1.240654 -1.348391         -0.205894 -1.350964   \n",
       "1           -1.374758    -1.185001 -1.422993          0.452833 -0.637425   \n",
       "2           -1.374758    -1.185001  1.561066          1.276243 -1.350964   \n",
       "3            0.047229     0.027827 -1.000251         -1.523349 -0.637425   \n",
       "4           -1.374758     0.027827  0.267974          0.123470 -0.637425   \n",
       "...               ...          ...       ...               ...       ...   \n",
       "3599         0.758222    -1.185001 -1.671664         -0.864622 -0.637425   \n",
       "3600        -0.663765     0.027827  0.790184         -1.358668  0.789652   \n",
       "3601        -1.374758    -1.185001 -0.080167         -1.688031 -1.350964   \n",
       "3602        -1.374758    -1.185001 -0.129901         -0.864622  1.503191   \n",
       "3603         0.047229     1.240654 -1.373259         -0.041212 -0.637425   \n",
       "\n",
       "      category   active  rental_month  rental_day  return_month  return_day  \n",
       "0     1.153646  0.16006     -1.837720    0.069264     -1.970076    0.891832  \n",
       "1     1.153646  0.16006     -1.837720   -0.274955     -1.970076    0.452590  \n",
       "2    -0.363040  0.16006      1.088824   -1.766573      0.774598   -1.194565  \n",
       "3     0.286968  0.16006      1.088824   -1.881313      0.774598   -0.865134  \n",
       "4    -0.363040  0.16006     -0.374448   -1.078134     -0.597739    0.013349  \n",
       "...        ...      ...           ...         ...           ...         ...  \n",
       "3599 -0.146371  0.16006     -0.374448   -1.192874     -0.597739   -0.865134  \n",
       "3600 -1.446387  0.16006     -0.374448    1.446142      0.774598   -1.523996  \n",
       "3601  1.586984  0.16006      1.088824   -1.766573      0.774598   -0.865134  \n",
       "3602  0.070299  0.16006     -0.374448    1.331403      0.774598   -1.414185  \n",
       "3603  0.936976  0.16006      1.088824   -1.766573      0.774598   -1.414185  \n",
       "\n",
       "[3604 rows x 11 columns]"
      ]
     },
     "execution_count": 27,
     "metadata": {},
     "output_type": "execute_result"
    }
   ],
   "source": [
    "x_test_scaler_df"
   ]
  },
  {
   "cell_type": "code",
   "execution_count": 28,
   "metadata": {},
   "outputs": [
    {
     "data": {
      "text/plain": [
       "11"
      ]
     },
     "execution_count": 28,
     "metadata": {},
     "output_type": "execute_result"
    }
   ],
   "source": [
    "x_train_scaler_df.shape[1]"
   ]
  },
  {
   "cell_type": "code",
   "execution_count": 29,
   "metadata": {},
   "outputs": [
    {
     "data": {
      "text/plain": [
       "(10809,)"
      ]
     },
     "execution_count": 29,
     "metadata": {},
     "output_type": "execute_result"
    }
   ],
   "source": [
    "y_train.shape"
   ]
  },
  {
   "cell_type": "markdown",
   "metadata": {},
   "source": [
    "# poor DEEP LEARNING algo"
   ]
  },
  {
   "cell_type": "code",
   "execution_count": 30,
   "metadata": {},
   "outputs": [
    {
     "name": "stderr",
     "output_type": "stream",
     "text": [
      "/Users/saro/Desktop/dvdrentaldl/.venv/lib/python3.9/site-packages/keras/src/layers/activations/leaky_relu.py:41: UserWarning: Argument `alpha` is deprecated. Use `negative_slope` instead.\n",
      "  warnings.warn(\n",
      "/Users/saro/Desktop/dvdrentaldl/.venv/lib/python3.9/site-packages/keras/src/layers/core/dense.py:87: UserWarning: Do not pass an `input_shape`/`input_dim` argument to a layer. When using Sequential models, prefer using an `Input(shape)` object as the first layer in the model instead.\n",
      "  super().__init__(activity_regularizer=activity_regularizer, **kwargs)\n"
     ]
    }
   ],
   "source": [
    "model = Sequential()\n",
    "\n",
    "model.add(Dense(512,input_dim = x_train_scaler_df.shape[1],activation=tf.keras.layers.LeakyReLU(alpha=0.01))) #hidden layer1\n",
    "model.add(Dense(256,activation=tf.keras.layers.LeakyReLU(alpha=0.01))) #hidden layer2\n",
    "model.add(Dense(256,activation=tf.keras.layers.LeakyReLU(alpha=0.01))) #hidden layer3\n",
    "model.add(Dense(128,activation=tf.keras.layers.LeakyReLU(alpha=0.01))) #hidden layer3\n",
    "model.add(Dense(128,activation=tf.keras.layers.LeakyReLU(alpha=0.01))) #hidden layer3\n",
    "model.add(Dense(64,activation=tf.keras.layers.LeakyReLU(alpha=0.01))) #hidden layer3\n",
    "model.add(Dense(16,activation=tf.keras.layers.LeakyReLU(alpha=0.01))) #hidden layer3\n",
    "model.add(Dense(16,activation=tf.keras.layers.LeakyReLU(alpha=0.01))) #hidden layer3\n",
    "\n",
    "model.add(Dense(1)) #output layer\n",
    "model.compile(loss=\"categorical_crossentropy\",optimizer=\"adam\",metrics=[tf.keras.metrics.F1Score(),\"accuracy\",tf.keras.metrics.Precision(),tf.keras.metrics.Recall()])"
   ]
  },
  {
   "cell_type": "code",
   "execution_count": 31,
   "metadata": {},
   "outputs": [
    {
     "data": {
      "text/html": [
       "<pre style=\"white-space:pre;overflow-x:auto;line-height:normal;font-family:Menlo,'DejaVu Sans Mono',consolas,'Courier New',monospace\"><span style=\"font-weight: bold\">Model: \"sequential\"</span>\n",
       "</pre>\n"
      ],
      "text/plain": [
       "\u001b[1mModel: \"sequential\"\u001b[0m\n"
      ]
     },
     "metadata": {},
     "output_type": "display_data"
    },
    {
     "data": {
      "text/html": [
       "<pre style=\"white-space:pre;overflow-x:auto;line-height:normal;font-family:Menlo,'DejaVu Sans Mono',consolas,'Courier New',monospace\">┏━━━━━━━━━━━━━━━━━━━━━━━━━━━━━━━━━┳━━━━━━━━━━━━━━━━━━━━━━━━┳━━━━━━━━━━━━━━━┓\n",
       "┃<span style=\"font-weight: bold\"> Layer (type)                    </span>┃<span style=\"font-weight: bold\"> Output Shape           </span>┃<span style=\"font-weight: bold\">       Param # </span>┃\n",
       "┡━━━━━━━━━━━━━━━━━━━━━━━━━━━━━━━━━╇━━━━━━━━━━━━━━━━━━━━━━━━╇━━━━━━━━━━━━━━━┩\n",
       "│ dense (<span style=\"color: #0087ff; text-decoration-color: #0087ff\">Dense</span>)                   │ (<span style=\"color: #00d7ff; text-decoration-color: #00d7ff\">None</span>, <span style=\"color: #00af00; text-decoration-color: #00af00\">512</span>)            │         <span style=\"color: #00af00; text-decoration-color: #00af00\">6,144</span> │\n",
       "├─────────────────────────────────┼────────────────────────┼───────────────┤\n",
       "│ dense_1 (<span style=\"color: #0087ff; text-decoration-color: #0087ff\">Dense</span>)                 │ (<span style=\"color: #00d7ff; text-decoration-color: #00d7ff\">None</span>, <span style=\"color: #00af00; text-decoration-color: #00af00\">256</span>)            │       <span style=\"color: #00af00; text-decoration-color: #00af00\">131,328</span> │\n",
       "├─────────────────────────────────┼────────────────────────┼───────────────┤\n",
       "│ dense_2 (<span style=\"color: #0087ff; text-decoration-color: #0087ff\">Dense</span>)                 │ (<span style=\"color: #00d7ff; text-decoration-color: #00d7ff\">None</span>, <span style=\"color: #00af00; text-decoration-color: #00af00\">256</span>)            │        <span style=\"color: #00af00; text-decoration-color: #00af00\">65,792</span> │\n",
       "├─────────────────────────────────┼────────────────────────┼───────────────┤\n",
       "│ dense_3 (<span style=\"color: #0087ff; text-decoration-color: #0087ff\">Dense</span>)                 │ (<span style=\"color: #00d7ff; text-decoration-color: #00d7ff\">None</span>, <span style=\"color: #00af00; text-decoration-color: #00af00\">128</span>)            │        <span style=\"color: #00af00; text-decoration-color: #00af00\">32,896</span> │\n",
       "├─────────────────────────────────┼────────────────────────┼───────────────┤\n",
       "│ dense_4 (<span style=\"color: #0087ff; text-decoration-color: #0087ff\">Dense</span>)                 │ (<span style=\"color: #00d7ff; text-decoration-color: #00d7ff\">None</span>, <span style=\"color: #00af00; text-decoration-color: #00af00\">128</span>)            │        <span style=\"color: #00af00; text-decoration-color: #00af00\">16,512</span> │\n",
       "├─────────────────────────────────┼────────────────────────┼───────────────┤\n",
       "│ dense_5 (<span style=\"color: #0087ff; text-decoration-color: #0087ff\">Dense</span>)                 │ (<span style=\"color: #00d7ff; text-decoration-color: #00d7ff\">None</span>, <span style=\"color: #00af00; text-decoration-color: #00af00\">64</span>)             │         <span style=\"color: #00af00; text-decoration-color: #00af00\">8,256</span> │\n",
       "├─────────────────────────────────┼────────────────────────┼───────────────┤\n",
       "│ dense_6 (<span style=\"color: #0087ff; text-decoration-color: #0087ff\">Dense</span>)                 │ (<span style=\"color: #00d7ff; text-decoration-color: #00d7ff\">None</span>, <span style=\"color: #00af00; text-decoration-color: #00af00\">16</span>)             │         <span style=\"color: #00af00; text-decoration-color: #00af00\">1,040</span> │\n",
       "├─────────────────────────────────┼────────────────────────┼───────────────┤\n",
       "│ dense_7 (<span style=\"color: #0087ff; text-decoration-color: #0087ff\">Dense</span>)                 │ (<span style=\"color: #00d7ff; text-decoration-color: #00d7ff\">None</span>, <span style=\"color: #00af00; text-decoration-color: #00af00\">16</span>)             │           <span style=\"color: #00af00; text-decoration-color: #00af00\">272</span> │\n",
       "├─────────────────────────────────┼────────────────────────┼───────────────┤\n",
       "│ dense_8 (<span style=\"color: #0087ff; text-decoration-color: #0087ff\">Dense</span>)                 │ (<span style=\"color: #00d7ff; text-decoration-color: #00d7ff\">None</span>, <span style=\"color: #00af00; text-decoration-color: #00af00\">1</span>)              │            <span style=\"color: #00af00; text-decoration-color: #00af00\">17</span> │\n",
       "└─────────────────────────────────┴────────────────────────┴───────────────┘\n",
       "</pre>\n"
      ],
      "text/plain": [
       "┏━━━━━━━━━━━━━━━━━━━━━━━━━━━━━━━━━┳━━━━━━━━━━━━━━━━━━━━━━━━┳━━━━━━━━━━━━━━━┓\n",
       "┃\u001b[1m \u001b[0m\u001b[1mLayer (type)                   \u001b[0m\u001b[1m \u001b[0m┃\u001b[1m \u001b[0m\u001b[1mOutput Shape          \u001b[0m\u001b[1m \u001b[0m┃\u001b[1m \u001b[0m\u001b[1m      Param #\u001b[0m\u001b[1m \u001b[0m┃\n",
       "┡━━━━━━━━━━━━━━━━━━━━━━━━━━━━━━━━━╇━━━━━━━━━━━━━━━━━━━━━━━━╇━━━━━━━━━━━━━━━┩\n",
       "│ dense (\u001b[38;5;33mDense\u001b[0m)                   │ (\u001b[38;5;45mNone\u001b[0m, \u001b[38;5;34m512\u001b[0m)            │         \u001b[38;5;34m6,144\u001b[0m │\n",
       "├─────────────────────────────────┼────────────────────────┼───────────────┤\n",
       "│ dense_1 (\u001b[38;5;33mDense\u001b[0m)                 │ (\u001b[38;5;45mNone\u001b[0m, \u001b[38;5;34m256\u001b[0m)            │       \u001b[38;5;34m131,328\u001b[0m │\n",
       "├─────────────────────────────────┼────────────────────────┼───────────────┤\n",
       "│ dense_2 (\u001b[38;5;33mDense\u001b[0m)                 │ (\u001b[38;5;45mNone\u001b[0m, \u001b[38;5;34m256\u001b[0m)            │        \u001b[38;5;34m65,792\u001b[0m │\n",
       "├─────────────────────────────────┼────────────────────────┼───────────────┤\n",
       "│ dense_3 (\u001b[38;5;33mDense\u001b[0m)                 │ (\u001b[38;5;45mNone\u001b[0m, \u001b[38;5;34m128\u001b[0m)            │        \u001b[38;5;34m32,896\u001b[0m │\n",
       "├─────────────────────────────────┼────────────────────────┼───────────────┤\n",
       "│ dense_4 (\u001b[38;5;33mDense\u001b[0m)                 │ (\u001b[38;5;45mNone\u001b[0m, \u001b[38;5;34m128\u001b[0m)            │        \u001b[38;5;34m16,512\u001b[0m │\n",
       "├─────────────────────────────────┼────────────────────────┼───────────────┤\n",
       "│ dense_5 (\u001b[38;5;33mDense\u001b[0m)                 │ (\u001b[38;5;45mNone\u001b[0m, \u001b[38;5;34m64\u001b[0m)             │         \u001b[38;5;34m8,256\u001b[0m │\n",
       "├─────────────────────────────────┼────────────────────────┼───────────────┤\n",
       "│ dense_6 (\u001b[38;5;33mDense\u001b[0m)                 │ (\u001b[38;5;45mNone\u001b[0m, \u001b[38;5;34m16\u001b[0m)             │         \u001b[38;5;34m1,040\u001b[0m │\n",
       "├─────────────────────────────────┼────────────────────────┼───────────────┤\n",
       "│ dense_7 (\u001b[38;5;33mDense\u001b[0m)                 │ (\u001b[38;5;45mNone\u001b[0m, \u001b[38;5;34m16\u001b[0m)             │           \u001b[38;5;34m272\u001b[0m │\n",
       "├─────────────────────────────────┼────────────────────────┼───────────────┤\n",
       "│ dense_8 (\u001b[38;5;33mDense\u001b[0m)                 │ (\u001b[38;5;45mNone\u001b[0m, \u001b[38;5;34m1\u001b[0m)              │            \u001b[38;5;34m17\u001b[0m │\n",
       "└─────────────────────────────────┴────────────────────────┴───────────────┘\n"
      ]
     },
     "metadata": {},
     "output_type": "display_data"
    },
    {
     "data": {
      "text/html": [
       "<pre style=\"white-space:pre;overflow-x:auto;line-height:normal;font-family:Menlo,'DejaVu Sans Mono',consolas,'Courier New',monospace\"><span style=\"font-weight: bold\"> Total params: </span><span style=\"color: #00af00; text-decoration-color: #00af00\">262,257</span> (1.00 MB)\n",
       "</pre>\n"
      ],
      "text/plain": [
       "\u001b[1m Total params: \u001b[0m\u001b[38;5;34m262,257\u001b[0m (1.00 MB)\n"
      ]
     },
     "metadata": {},
     "output_type": "display_data"
    },
    {
     "data": {
      "text/html": [
       "<pre style=\"white-space:pre;overflow-x:auto;line-height:normal;font-family:Menlo,'DejaVu Sans Mono',consolas,'Courier New',monospace\"><span style=\"font-weight: bold\"> Trainable params: </span><span style=\"color: #00af00; text-decoration-color: #00af00\">262,257</span> (1.00 MB)\n",
       "</pre>\n"
      ],
      "text/plain": [
       "\u001b[1m Trainable params: \u001b[0m\u001b[38;5;34m262,257\u001b[0m (1.00 MB)\n"
      ]
     },
     "metadata": {},
     "output_type": "display_data"
    },
    {
     "data": {
      "text/html": [
       "<pre style=\"white-space:pre;overflow-x:auto;line-height:normal;font-family:Menlo,'DejaVu Sans Mono',consolas,'Courier New',monospace\"><span style=\"font-weight: bold\"> Non-trainable params: </span><span style=\"color: #00af00; text-decoration-color: #00af00\">0</span> (0.00 B)\n",
       "</pre>\n"
      ],
      "text/plain": [
       "\u001b[1m Non-trainable params: \u001b[0m\u001b[38;5;34m0\u001b[0m (0.00 B)\n"
      ]
     },
     "metadata": {},
     "output_type": "display_data"
    }
   ],
   "source": [
    "model.summary()"
   ]
  },
  {
   "cell_type": "code",
   "execution_count": 32,
   "metadata": {},
   "outputs": [
    {
     "data": {
      "text/plain": [
       "((10809, 11), (10809,))"
      ]
     },
     "execution_count": 32,
     "metadata": {},
     "output_type": "execute_result"
    }
   ],
   "source": [
    "x_train_scaler_df.shape, y_train.shape"
   ]
  },
  {
   "cell_type": "code",
   "execution_count": 33,
   "metadata": {},
   "outputs": [
    {
     "data": {
      "text/plain": [
       "Index(['rental_duration', 'rental_rate', 'length', 'replacement_cost',\n",
       "       'rating', 'category', 'active', 'rental_month', 'rental_day',\n",
       "       'return_month', 'return_day'],\n",
       "      dtype='object')"
      ]
     },
     "execution_count": 33,
     "metadata": {},
     "output_type": "execute_result"
    }
   ],
   "source": [
    "x_train_scaler_df.columns"
   ]
  },
  {
   "cell_type": "code",
   "execution_count": 34,
   "metadata": {},
   "outputs": [
    {
     "name": "stdout",
     "output_type": "stream",
     "text": [
      "Epoch 1/10\n"
     ]
    },
    {
     "name": "stderr",
     "output_type": "stream",
     "text": [
      "/Users/saro/Desktop/dvdrentaldl/.venv/lib/python3.9/site-packages/keras/src/losses/losses.py:27: SyntaxWarning: In loss categorical_crossentropy, expected y_pred.shape to be (batch_size, num_classes) with num_classes > 1. Received: y_pred.shape=(None, 1). Consider using 'binary_crossentropy' if you only have 2 classes.\n",
      "  return self.fn(y_true, y_pred, **self._fn_kwargs)\n"
     ]
    },
    {
     "name": "stdout",
     "output_type": "stream",
     "text": [
      "\u001b[1m263/271\u001b[0m \u001b[32m━━━━━━━━━━━━━━━━━━━\u001b[0m\u001b[37m━\u001b[0m \u001b[1m0s\u001b[0m 2ms/step - accuracy: 0.0000e+00 - f1_score: 1.6207 - loss: 5.0945e-07 - precision: 0.0000e+00 - recall: 0.0000e+00"
     ]
    },
    {
     "name": "stderr",
     "output_type": "stream",
     "text": [
      "/Users/saro/Desktop/dvdrentaldl/.venv/lib/python3.9/site-packages/keras/src/losses/losses.py:27: SyntaxWarning: In loss categorical_crossentropy, expected y_pred.shape to be (batch_size, num_classes) with num_classes > 1. Received: y_pred.shape=(None, 1). Consider using 'binary_crossentropy' if you only have 2 classes.\n",
      "  return self.fn(y_true, y_pred, **self._fn_kwargs)\n"
     ]
    },
    {
     "name": "stdout",
     "output_type": "stream",
     "text": [
      "\u001b[1m271/271\u001b[0m \u001b[32m━━━━━━━━━━━━━━━━━━━━\u001b[0m\u001b[37m\u001b[0m \u001b[1m2s\u001b[0m 3ms/step - accuracy: 0.0000e+00 - f1_score: 1.6206 - loss: 5.0930e-07 - precision: 0.0000e+00 - recall: 0.0000e+00 - val_accuracy: 0.0000e+00 - val_f1_score: 1.6174 - val_loss: 5.0399e-07 - val_precision: 0.0000e+00 - val_recall: 0.0000e+00\n",
      "Epoch 2/10\n",
      "\u001b[1m271/271\u001b[0m \u001b[32m━━━━━━━━━━━━━━━━━━━━\u001b[0m\u001b[37m\u001b[0m \u001b[1m1s\u001b[0m 3ms/step - accuracy: 0.0000e+00 - f1_score: 1.6206 - loss: 5.0925e-07 - precision: 0.0000e+00 - recall: 0.0000e+00 - val_accuracy: 0.0000e+00 - val_f1_score: 1.6174 - val_loss: 5.0399e-07 - val_precision: 0.0000e+00 - val_recall: 0.0000e+00\n",
      "Epoch 3/10\n",
      "\u001b[1m271/271\u001b[0m \u001b[32m━━━━━━━━━━━━━━━━━━━━\u001b[0m\u001b[37m\u001b[0m \u001b[1m1s\u001b[0m 2ms/step - accuracy: 0.0000e+00 - f1_score: 1.6179 - loss: 5.0475e-07 - precision: 0.0000e+00 - recall: 0.0000e+00 - val_accuracy: 0.0000e+00 - val_f1_score: 1.6174 - val_loss: 5.0399e-07 - val_precision: 0.0000e+00 - val_recall: 0.0000e+00\n",
      "Epoch 4/10\n",
      "\u001b[1m271/271\u001b[0m \u001b[32m━━━━━━━━━━━━━━━━━━━━\u001b[0m\u001b[37m\u001b[0m \u001b[1m1s\u001b[0m 2ms/step - accuracy: 0.0000e+00 - f1_score: 1.6135 - loss: 4.9769e-07 - precision: 0.0000e+00 - recall: 0.0000e+00 - val_accuracy: 0.0000e+00 - val_f1_score: 1.6174 - val_loss: 5.0399e-07 - val_precision: 0.0000e+00 - val_recall: 0.0000e+00\n",
      "Epoch 5/10\n",
      "\u001b[1m271/271\u001b[0m \u001b[32m━━━━━━━━━━━━━━━━━━━━\u001b[0m\u001b[37m\u001b[0m \u001b[1m1s\u001b[0m 2ms/step - accuracy: 0.0000e+00 - f1_score: 1.6163 - loss: 5.0255e-07 - precision: 0.0000e+00 - recall: 0.0000e+00 - val_accuracy: 0.0000e+00 - val_f1_score: 1.6174 - val_loss: 5.0399e-07 - val_precision: 0.0000e+00 - val_recall: 0.0000e+00\n",
      "Epoch 6/10\n",
      "\u001b[1m271/271\u001b[0m \u001b[32m━━━━━━━━━━━━━━━━━━━━\u001b[0m\u001b[37m\u001b[0m \u001b[1m1s\u001b[0m 2ms/step - accuracy: 0.0000e+00 - f1_score: 1.6154 - loss: 5.0080e-07 - precision: 0.0000e+00 - recall: 0.0000e+00 - val_accuracy: 0.0000e+00 - val_f1_score: 1.6174 - val_loss: 5.0399e-07 - val_precision: 0.0000e+00 - val_recall: 0.0000e+00\n",
      "Epoch 7/10\n",
      "\u001b[1m271/271\u001b[0m \u001b[32m━━━━━━━━━━━━━━━━━━━━\u001b[0m\u001b[37m\u001b[0m \u001b[1m1s\u001b[0m 2ms/step - accuracy: 0.0000e+00 - f1_score: 1.6156 - loss: 5.0125e-07 - precision: 0.0000e+00 - recall: 0.0000e+00 - val_accuracy: 0.0000e+00 - val_f1_score: 1.6174 - val_loss: 5.0399e-07 - val_precision: 0.0000e+00 - val_recall: 0.0000e+00\n",
      "Epoch 8/10\n",
      "\u001b[1m271/271\u001b[0m \u001b[32m━━━━━━━━━━━━━━━━━━━━\u001b[0m\u001b[37m\u001b[0m \u001b[1m1s\u001b[0m 2ms/step - accuracy: 0.0000e+00 - f1_score: 1.6183 - loss: 5.0546e-07 - precision: 0.0000e+00 - recall: 0.0000e+00 - val_accuracy: 0.0000e+00 - val_f1_score: 1.6174 - val_loss: 5.0399e-07 - val_precision: 0.0000e+00 - val_recall: 0.0000e+00\n",
      "Epoch 9/10\n",
      "\u001b[1m271/271\u001b[0m \u001b[32m━━━━━━━━━━━━━━━━━━━━\u001b[0m\u001b[37m\u001b[0m \u001b[1m1s\u001b[0m 2ms/step - accuracy: 0.0000e+00 - f1_score: 1.6201 - loss: 5.0843e-07 - precision: 0.0000e+00 - recall: 0.0000e+00 - val_accuracy: 0.0000e+00 - val_f1_score: 1.6174 - val_loss: 5.0399e-07 - val_precision: 0.0000e+00 - val_recall: 0.0000e+00\n",
      "Epoch 10/10\n",
      "\u001b[1m271/271\u001b[0m \u001b[32m━━━━━━━━━━━━━━━━━━━━\u001b[0m\u001b[37m\u001b[0m \u001b[1m1s\u001b[0m 2ms/step - accuracy: 0.0000e+00 - f1_score: 1.6190 - loss: 5.0659e-07 - precision: 0.0000e+00 - recall: 0.0000e+00 - val_accuracy: 0.0000e+00 - val_f1_score: 1.6174 - val_loss: 5.0399e-07 - val_precision: 0.0000e+00 - val_recall: 0.0000e+00\n"
     ]
    }
   ],
   "source": [
    "result = model.fit(x_train_scaler_df,y_train,epochs=10,validation_split=0.2)"
   ]
  },
  {
   "cell_type": "code",
   "execution_count": 35,
   "metadata": {},
   "outputs": [
    {
     "data": {
      "text/plain": [
       "{'accuracy': [0.0, 0.0, 0.0, 0.0, 0.0, 0.0, 0.0, 0.0, 0.0, 0.0],\n",
       " 'f1_score': [1.618179202079773,\n",
       "  1.618179202079773,\n",
       "  1.618179202079773,\n",
       "  1.618179202079773,\n",
       "  1.618179202079773,\n",
       "  1.618179202079773,\n",
       "  1.618179202079773,\n",
       "  1.618179202079773,\n",
       "  1.618179202079773,\n",
       "  1.618179202079773],\n",
       " 'loss': [5.052156097917759e-07,\n",
       "  5.052156097917759e-07,\n",
       "  5.052156097917759e-07,\n",
       "  5.052156666351948e-07,\n",
       "  5.052156097917759e-07,\n",
       "  5.052156666351948e-07,\n",
       "  5.052156097917759e-07,\n",
       "  5.052156097917759e-07,\n",
       "  5.052156097917759e-07,\n",
       "  5.052156666351948e-07],\n",
       " 'precision': [0.0, 0.0, 0.0, 0.0, 0.0, 0.0, 0.0, 0.0, 0.0, 0.0],\n",
       " 'recall': [0.0, 0.0, 0.0, 0.0, 0.0, 0.0, 0.0, 0.0, 0.0, 0.0],\n",
       " 'val_accuracy': [0.0, 0.0, 0.0, 0.0, 0.0, 0.0, 0.0, 0.0, 0.0, 0.0],\n",
       " 'val_f1_score': [1.617425799369812,\n",
       "  1.617425799369812,\n",
       "  1.617425799369812,\n",
       "  1.617425799369812,\n",
       "  1.617425799369812,\n",
       "  1.617425799369812,\n",
       "  1.617425799369812,\n",
       "  1.617425799369812,\n",
       "  1.617425799369812,\n",
       "  1.617425799369812],\n",
       " 'val_loss': [5.03986370858911e-07,\n",
       "  5.03986370858911e-07,\n",
       "  5.03986370858911e-07,\n",
       "  5.03986370858911e-07,\n",
       "  5.03986370858911e-07,\n",
       "  5.03986370858911e-07,\n",
       "  5.03986370858911e-07,\n",
       "  5.03986370858911e-07,\n",
       "  5.03986370858911e-07,\n",
       "  5.03986370858911e-07],\n",
       " 'val_precision': [0.0, 0.0, 0.0, 0.0, 0.0, 0.0, 0.0, 0.0, 0.0, 0.0],\n",
       " 'val_recall': [0.0, 0.0, 0.0, 0.0, 0.0, 0.0, 0.0, 0.0, 0.0, 0.0]}"
      ]
     },
     "execution_count": 35,
     "metadata": {},
     "output_type": "execute_result"
    }
   ],
   "source": [
    "result.history"
   ]
  },
  {
   "cell_type": "code",
   "execution_count": 36,
   "metadata": {},
   "outputs": [
    {
     "data": {
      "text/html": [
       "<div>\n",
       "<style scoped>\n",
       "    .dataframe tbody tr th:only-of-type {\n",
       "        vertical-align: middle;\n",
       "    }\n",
       "\n",
       "    .dataframe tbody tr th {\n",
       "        vertical-align: top;\n",
       "    }\n",
       "\n",
       "    .dataframe thead th {\n",
       "        text-align: right;\n",
       "    }\n",
       "</style>\n",
       "<table border=\"1\" class=\"dataframe\">\n",
       "  <thead>\n",
       "    <tr style=\"text-align: right;\">\n",
       "      <th></th>\n",
       "      <th>accuracy</th>\n",
       "      <th>f1_score</th>\n",
       "      <th>loss</th>\n",
       "      <th>precision</th>\n",
       "      <th>recall</th>\n",
       "      <th>val_accuracy</th>\n",
       "      <th>val_f1_score</th>\n",
       "      <th>val_loss</th>\n",
       "      <th>val_precision</th>\n",
       "      <th>val_recall</th>\n",
       "    </tr>\n",
       "  </thead>\n",
       "  <tbody>\n",
       "    <tr>\n",
       "      <th>0</th>\n",
       "      <td>0.0</td>\n",
       "      <td>1.618179</td>\n",
       "      <td>5.052156e-07</td>\n",
       "      <td>0.0</td>\n",
       "      <td>0.0</td>\n",
       "      <td>0.0</td>\n",
       "      <td>1.617426</td>\n",
       "      <td>5.039864e-07</td>\n",
       "      <td>0.0</td>\n",
       "      <td>0.0</td>\n",
       "    </tr>\n",
       "    <tr>\n",
       "      <th>1</th>\n",
       "      <td>0.0</td>\n",
       "      <td>1.618179</td>\n",
       "      <td>5.052156e-07</td>\n",
       "      <td>0.0</td>\n",
       "      <td>0.0</td>\n",
       "      <td>0.0</td>\n",
       "      <td>1.617426</td>\n",
       "      <td>5.039864e-07</td>\n",
       "      <td>0.0</td>\n",
       "      <td>0.0</td>\n",
       "    </tr>\n",
       "    <tr>\n",
       "      <th>2</th>\n",
       "      <td>0.0</td>\n",
       "      <td>1.618179</td>\n",
       "      <td>5.052156e-07</td>\n",
       "      <td>0.0</td>\n",
       "      <td>0.0</td>\n",
       "      <td>0.0</td>\n",
       "      <td>1.617426</td>\n",
       "      <td>5.039864e-07</td>\n",
       "      <td>0.0</td>\n",
       "      <td>0.0</td>\n",
       "    </tr>\n",
       "    <tr>\n",
       "      <th>3</th>\n",
       "      <td>0.0</td>\n",
       "      <td>1.618179</td>\n",
       "      <td>5.052157e-07</td>\n",
       "      <td>0.0</td>\n",
       "      <td>0.0</td>\n",
       "      <td>0.0</td>\n",
       "      <td>1.617426</td>\n",
       "      <td>5.039864e-07</td>\n",
       "      <td>0.0</td>\n",
       "      <td>0.0</td>\n",
       "    </tr>\n",
       "    <tr>\n",
       "      <th>4</th>\n",
       "      <td>0.0</td>\n",
       "      <td>1.618179</td>\n",
       "      <td>5.052156e-07</td>\n",
       "      <td>0.0</td>\n",
       "      <td>0.0</td>\n",
       "      <td>0.0</td>\n",
       "      <td>1.617426</td>\n",
       "      <td>5.039864e-07</td>\n",
       "      <td>0.0</td>\n",
       "      <td>0.0</td>\n",
       "    </tr>\n",
       "    <tr>\n",
       "      <th>5</th>\n",
       "      <td>0.0</td>\n",
       "      <td>1.618179</td>\n",
       "      <td>5.052157e-07</td>\n",
       "      <td>0.0</td>\n",
       "      <td>0.0</td>\n",
       "      <td>0.0</td>\n",
       "      <td>1.617426</td>\n",
       "      <td>5.039864e-07</td>\n",
       "      <td>0.0</td>\n",
       "      <td>0.0</td>\n",
       "    </tr>\n",
       "    <tr>\n",
       "      <th>6</th>\n",
       "      <td>0.0</td>\n",
       "      <td>1.618179</td>\n",
       "      <td>5.052156e-07</td>\n",
       "      <td>0.0</td>\n",
       "      <td>0.0</td>\n",
       "      <td>0.0</td>\n",
       "      <td>1.617426</td>\n",
       "      <td>5.039864e-07</td>\n",
       "      <td>0.0</td>\n",
       "      <td>0.0</td>\n",
       "    </tr>\n",
       "    <tr>\n",
       "      <th>7</th>\n",
       "      <td>0.0</td>\n",
       "      <td>1.618179</td>\n",
       "      <td>5.052156e-07</td>\n",
       "      <td>0.0</td>\n",
       "      <td>0.0</td>\n",
       "      <td>0.0</td>\n",
       "      <td>1.617426</td>\n",
       "      <td>5.039864e-07</td>\n",
       "      <td>0.0</td>\n",
       "      <td>0.0</td>\n",
       "    </tr>\n",
       "    <tr>\n",
       "      <th>8</th>\n",
       "      <td>0.0</td>\n",
       "      <td>1.618179</td>\n",
       "      <td>5.052156e-07</td>\n",
       "      <td>0.0</td>\n",
       "      <td>0.0</td>\n",
       "      <td>0.0</td>\n",
       "      <td>1.617426</td>\n",
       "      <td>5.039864e-07</td>\n",
       "      <td>0.0</td>\n",
       "      <td>0.0</td>\n",
       "    </tr>\n",
       "    <tr>\n",
       "      <th>9</th>\n",
       "      <td>0.0</td>\n",
       "      <td>1.618179</td>\n",
       "      <td>5.052157e-07</td>\n",
       "      <td>0.0</td>\n",
       "      <td>0.0</td>\n",
       "      <td>0.0</td>\n",
       "      <td>1.617426</td>\n",
       "      <td>5.039864e-07</td>\n",
       "      <td>0.0</td>\n",
       "      <td>0.0</td>\n",
       "    </tr>\n",
       "  </tbody>\n",
       "</table>\n",
       "</div>"
      ],
      "text/plain": [
       "   accuracy  f1_score          loss  precision  recall  val_accuracy  \\\n",
       "0       0.0  1.618179  5.052156e-07        0.0     0.0           0.0   \n",
       "1       0.0  1.618179  5.052156e-07        0.0     0.0           0.0   \n",
       "2       0.0  1.618179  5.052156e-07        0.0     0.0           0.0   \n",
       "3       0.0  1.618179  5.052157e-07        0.0     0.0           0.0   \n",
       "4       0.0  1.618179  5.052156e-07        0.0     0.0           0.0   \n",
       "5       0.0  1.618179  5.052157e-07        0.0     0.0           0.0   \n",
       "6       0.0  1.618179  5.052156e-07        0.0     0.0           0.0   \n",
       "7       0.0  1.618179  5.052156e-07        0.0     0.0           0.0   \n",
       "8       0.0  1.618179  5.052156e-07        0.0     0.0           0.0   \n",
       "9       0.0  1.618179  5.052157e-07        0.0     0.0           0.0   \n",
       "\n",
       "   val_f1_score      val_loss  val_precision  val_recall  \n",
       "0      1.617426  5.039864e-07            0.0         0.0  \n",
       "1      1.617426  5.039864e-07            0.0         0.0  \n",
       "2      1.617426  5.039864e-07            0.0         0.0  \n",
       "3      1.617426  5.039864e-07            0.0         0.0  \n",
       "4      1.617426  5.039864e-07            0.0         0.0  \n",
       "5      1.617426  5.039864e-07            0.0         0.0  \n",
       "6      1.617426  5.039864e-07            0.0         0.0  \n",
       "7      1.617426  5.039864e-07            0.0         0.0  \n",
       "8      1.617426  5.039864e-07            0.0         0.0  \n",
       "9      1.617426  5.039864e-07            0.0         0.0  "
      ]
     },
     "execution_count": 36,
     "metadata": {},
     "output_type": "execute_result"
    }
   ],
   "source": [
    "result_df = pd.DataFrame(result.history)\n",
    "result_df"
   ]
  },
  {
   "cell_type": "code",
   "execution_count": 37,
   "metadata": {},
   "outputs": [
    {
     "data": {
      "image/png": "[encoded data removed]",
      "text/plain": [
       "<Figure size 640x480 with 1 Axes>"
      ]
     },
     "metadata": {},
     "output_type": "display_data"
    }
   ],
   "source": [
    "plt.plot(range(1,11),result_df[\"accuracy\"],label=\"train_accuracy\")\n",
    "plt.plot(range(1,11),result_df[\"val_accuracy\"],label=\"val_accuracy\")\n",
    "plt.legend()\n",
    "plt.show()"
   ]
  },
  {
   "cell_type": "code",
   "execution_count": 38,
   "metadata": {},
   "outputs": [
    {
     "name": "stdout",
     "output_type": "stream",
     "text": [
      "\u001b[1m113/113\u001b[0m \u001b[32m━━━━━━━━━━━━━━━━━━━━\u001b[0m\u001b[37m\u001b[0m \u001b[1m0s\u001b[0m 822us/step\n"
     ]
    },
    {
     "data": {
      "text/plain": [
       "array([[0.11677563],\n",
       "       [0.13770509],\n",
       "       [0.9482184 ],\n",
       "       ...,\n",
       "       [0.6426121 ],\n",
       "       [0.50992656],\n",
       "       [0.28153276]], dtype=float32)"
      ]
     },
     "execution_count": 38,
     "metadata": {},
     "output_type": "execute_result"
    }
   ],
   "source": [
    "model.predict(x_test)"
   ]
  },
  {
   "cell_type": "code",
   "execution_count": 39,
   "metadata": {},
   "outputs": [
    {
     "name": "stdout",
     "output_type": "stream",
     "text": [
      "\u001b[1m113/113\u001b[0m \u001b[32m━━━━━━━━━━━━━━━━━━━━\u001b[0m\u001b[37m\u001b[0m \u001b[1m0s\u001b[0m 639us/step - accuracy: 0.0000e+00 - f1_score: 1.6079 - loss: 4.8903e-07 - precision: 1.0000 - recall: 0.4941\n"
     ]
    },
    {
     "name": "stderr",
     "output_type": "stream",
     "text": [
      "/Users/saro/Desktop/dvdrentaldl/.venv/lib/python3.9/site-packages/keras/src/losses/losses.py:27: SyntaxWarning: In loss categorical_crossentropy, expected y_pred.shape to be (batch_size, num_classes) with num_classes > 1. Received: y_pred.shape=(None, 1). Consider using 'binary_crossentropy' if you only have 2 classes.\n",
      "  return self.fn(y_true, y_pred, **self._fn_kwargs)\n"
     ]
    },
    {
     "data": {
      "text/plain": [
       "[4.963839614902099e-07, 1.6127017736434937, 0.0, 1.0, 0.501387357711792]"
      ]
     },
     "execution_count": 39,
     "metadata": {},
     "output_type": "execute_result"
    }
   ],
   "source": [
    "model.evaluate (x = x_test, y = y_test)"
   ]
  },
  {
   "cell_type": "markdown",
   "metadata": {},
   "source": [
    "# Attempting to do better"
   ]
  },
  {
   "cell_type": "code",
   "execution_count": 40,
   "metadata": {},
   "outputs": [
    {
     "name": "stderr",
     "output_type": "stream",
     "text": [
      "/Users/saro/Desktop/dvdrentaldl/.venv/lib/python3.9/site-packages/keras/src/layers/core/dense.py:87: UserWarning: Do not pass an `input_shape`/`input_dim` argument to a layer. When using Sequential models, prefer using an `Input(shape)` object as the first layer in the model instead.\n",
      "  super().__init__(activity_regularizer=activity_regularizer, **kwargs)\n"
     ]
    }
   ],
   "source": [
    "model1 = Sequential()\n",
    "# Input layer (match input shape to your data)\n",
    "model1.add(Dense(512, input_dim=x_train.shape[1], activation='relu'))\n",
    "\n",
    "# Hidden layers\n",
    "model1.add(Dense(256, activation='relu'))\n",
    "model1.add(Dense(256, activation='relu'))\n",
    "model1.add(Dense(128, activation='relu'))\n",
    "model1.add(Dense(128, activation='relu'))\n",
    "model1.add(Dense(64, activation='relu'))\n",
    "model1.add(Dense(16, activation='relu'))\n",
    "\n",
    "\n",
    "model1.add(Dense(1))\n",
    "\n",
    "# Compile the model for regression with 'mse' loss function\n",
    "model1.compile(optimizer='adam', loss='mean_squared_error', metrics=[MeanSquaredError(), MeanAbsoluteError()])"
   ]
  },
  {
   "cell_type": "code",
   "execution_count": 41,
   "metadata": {},
   "outputs": [
    {
     "data": {
      "text/html": [
       "<pre style=\"white-space:pre;overflow-x:auto;line-height:normal;font-family:Menlo,'DejaVu Sans Mono',consolas,'Courier New',monospace\"><span style=\"font-weight: bold\">Model: \"sequential_1\"</span>\n",
       "</pre>\n"
      ],
      "text/plain": [
       "\u001b[1mModel: \"sequential_1\"\u001b[0m\n"
      ]
     },
     "metadata": {},
     "output_type": "display_data"
    },
    {
     "data": {
      "text/html": [
       "<pre style=\"white-space:pre;overflow-x:auto;line-height:normal;font-family:Menlo,'DejaVu Sans Mono',consolas,'Courier New',monospace\">┏━━━━━━━━━━━━━━━━━━━━━━━━━━━━━━━━━┳━━━━━━━━━━━━━━━━━━━━━━━━┳━━━━━━━━━━━━━━━┓\n",
       "┃<span style=\"font-weight: bold\"> Layer (type)                    </span>┃<span style=\"font-weight: bold\"> Output Shape           </span>┃<span style=\"font-weight: bold\">       Param # </span>┃\n",
       "┡━━━━━━━━━━━━━━━━━━━━━━━━━━━━━━━━━╇━━━━━━━━━━━━━━━━━━━━━━━━╇━━━━━━━━━━━━━━━┩\n",
       "│ dense_9 (<span style=\"color: #0087ff; text-decoration-color: #0087ff\">Dense</span>)                 │ (<span style=\"color: #00d7ff; text-decoration-color: #00d7ff\">None</span>, <span style=\"color: #00af00; text-decoration-color: #00af00\">512</span>)            │         <span style=\"color: #00af00; text-decoration-color: #00af00\">6,144</span> │\n",
       "├─────────────────────────────────┼────────────────────────┼───────────────┤\n",
       "│ dense_10 (<span style=\"color: #0087ff; text-decoration-color: #0087ff\">Dense</span>)                │ (<span style=\"color: #00d7ff; text-decoration-color: #00d7ff\">None</span>, <span style=\"color: #00af00; text-decoration-color: #00af00\">256</span>)            │       <span style=\"color: #00af00; text-decoration-color: #00af00\">131,328</span> │\n",
       "├─────────────────────────────────┼────────────────────────┼───────────────┤\n",
       "│ dense_11 (<span style=\"color: #0087ff; text-decoration-color: #0087ff\">Dense</span>)                │ (<span style=\"color: #00d7ff; text-decoration-color: #00d7ff\">None</span>, <span style=\"color: #00af00; text-decoration-color: #00af00\">256</span>)            │        <span style=\"color: #00af00; text-decoration-color: #00af00\">65,792</span> │\n",
       "├─────────────────────────────────┼────────────────────────┼───────────────┤\n",
       "│ dense_12 (<span style=\"color: #0087ff; text-decoration-color: #0087ff\">Dense</span>)                │ (<span style=\"color: #00d7ff; text-decoration-color: #00d7ff\">None</span>, <span style=\"color: #00af00; text-decoration-color: #00af00\">128</span>)            │        <span style=\"color: #00af00; text-decoration-color: #00af00\">32,896</span> │\n",
       "├─────────────────────────────────┼────────────────────────┼───────────────┤\n",
       "│ dense_13 (<span style=\"color: #0087ff; text-decoration-color: #0087ff\">Dense</span>)                │ (<span style=\"color: #00d7ff; text-decoration-color: #00d7ff\">None</span>, <span style=\"color: #00af00; text-decoration-color: #00af00\">128</span>)            │        <span style=\"color: #00af00; text-decoration-color: #00af00\">16,512</span> │\n",
       "├─────────────────────────────────┼────────────────────────┼───────────────┤\n",
       "│ dense_14 (<span style=\"color: #0087ff; text-decoration-color: #0087ff\">Dense</span>)                │ (<span style=\"color: #00d7ff; text-decoration-color: #00d7ff\">None</span>, <span style=\"color: #00af00; text-decoration-color: #00af00\">64</span>)             │         <span style=\"color: #00af00; text-decoration-color: #00af00\">8,256</span> │\n",
       "├─────────────────────────────────┼────────────────────────┼───────────────┤\n",
       "│ dense_15 (<span style=\"color: #0087ff; text-decoration-color: #0087ff\">Dense</span>)                │ (<span style=\"color: #00d7ff; text-decoration-color: #00d7ff\">None</span>, <span style=\"color: #00af00; text-decoration-color: #00af00\">16</span>)             │         <span style=\"color: #00af00; text-decoration-color: #00af00\">1,040</span> │\n",
       "├─────────────────────────────────┼────────────────────────┼───────────────┤\n",
       "│ dense_16 (<span style=\"color: #0087ff; text-decoration-color: #0087ff\">Dense</span>)                │ (<span style=\"color: #00d7ff; text-decoration-color: #00d7ff\">None</span>, <span style=\"color: #00af00; text-decoration-color: #00af00\">1</span>)              │            <span style=\"color: #00af00; text-decoration-color: #00af00\">17</span> │\n",
       "└─────────────────────────────────┴────────────────────────┴───────────────┘\n",
       "</pre>\n"
      ],
      "text/plain": [
       "┏━━━━━━━━━━━━━━━━━━━━━━━━━━━━━━━━━┳━━━━━━━━━━━━━━━━━━━━━━━━┳━━━━━━━━━━━━━━━┓\n",
       "┃\u001b[1m \u001b[0m\u001b[1mLayer (type)                   \u001b[0m\u001b[1m \u001b[0m┃\u001b[1m \u001b[0m\u001b[1mOutput Shape          \u001b[0m\u001b[1m \u001b[0m┃\u001b[1m \u001b[0m\u001b[1m      Param #\u001b[0m\u001b[1m \u001b[0m┃\n",
       "┡━━━━━━━━━━━━━━━━━━━━━━━━━━━━━━━━━╇━━━━━━━━━━━━━━━━━━━━━━━━╇━━━━━━━━━━━━━━━┩\n",
       "│ dense_9 (\u001b[38;5;33mDense\u001b[0m)                 │ (\u001b[38;5;45mNone\u001b[0m, \u001b[38;5;34m512\u001b[0m)            │         \u001b[38;5;34m6,144\u001b[0m │\n",
       "├─────────────────────────────────┼────────────────────────┼───────────────┤\n",
       "│ dense_10 (\u001b[38;5;33mDense\u001b[0m)                │ (\u001b[38;5;45mNone\u001b[0m, \u001b[38;5;34m256\u001b[0m)            │       \u001b[38;5;34m131,328\u001b[0m │\n",
       "├─────────────────────────────────┼────────────────────────┼───────────────┤\n",
       "│ dense_11 (\u001b[38;5;33mDense\u001b[0m)                │ (\u001b[38;5;45mNone\u001b[0m, \u001b[38;5;34m256\u001b[0m)            │        \u001b[38;5;34m65,792\u001b[0m │\n",
       "├─────────────────────────────────┼────────────────────────┼───────────────┤\n",
       "│ dense_12 (\u001b[38;5;33mDense\u001b[0m)                │ (\u001b[38;5;45mNone\u001b[0m, \u001b[38;5;34m128\u001b[0m)            │        \u001b[38;5;34m32,896\u001b[0m │\n",
       "├─────────────────────────────────┼────────────────────────┼───────────────┤\n",
       "│ dense_13 (\u001b[38;5;33mDense\u001b[0m)                │ (\u001b[38;5;45mNone\u001b[0m, \u001b[38;5;34m128\u001b[0m)            │        \u001b[38;5;34m16,512\u001b[0m │\n",
       "├─────────────────────────────────┼────────────────────────┼───────────────┤\n",
       "│ dense_14 (\u001b[38;5;33mDense\u001b[0m)                │ (\u001b[38;5;45mNone\u001b[0m, \u001b[38;5;34m64\u001b[0m)             │         \u001b[38;5;34m8,256\u001b[0m │\n",
       "├─────────────────────────────────┼────────────────────────┼───────────────┤\n",
       "│ dense_15 (\u001b[38;5;33mDense\u001b[0m)                │ (\u001b[38;5;45mNone\u001b[0m, \u001b[38;5;34m16\u001b[0m)             │         \u001b[38;5;34m1,040\u001b[0m │\n",
       "├─────────────────────────────────┼────────────────────────┼───────────────┤\n",
       "│ dense_16 (\u001b[38;5;33mDense\u001b[0m)                │ (\u001b[38;5;45mNone\u001b[0m, \u001b[38;5;34m1\u001b[0m)              │            \u001b[38;5;34m17\u001b[0m │\n",
       "└─────────────────────────────────┴────────────────────────┴───────────────┘\n"
      ]
     },
     "metadata": {},
     "output_type": "display_data"
    },
    {
     "data": {
      "text/html": [
       "<pre style=\"white-space:pre;overflow-x:auto;line-height:normal;font-family:Menlo,'DejaVu Sans Mono',consolas,'Courier New',monospace\"><span style=\"font-weight: bold\"> Total params: </span><span style=\"color: #00af00; text-decoration-color: #00af00\">261,985</span> (1023.38 KB)\n",
       "</pre>\n"
      ],
      "text/plain": [
       "\u001b[1m Total params: \u001b[0m\u001b[38;5;34m261,985\u001b[0m (1023.38 KB)\n"
      ]
     },
     "metadata": {},
     "output_type": "display_data"
    },
    {
     "data": {
      "text/html": [
       "<pre style=\"white-space:pre;overflow-x:auto;line-height:normal;font-family:Menlo,'DejaVu Sans Mono',consolas,'Courier New',monospace\"><span style=\"font-weight: bold\"> Trainable params: </span><span style=\"color: #00af00; text-decoration-color: #00af00\">261,985</span> (1023.38 KB)\n",
       "</pre>\n"
      ],
      "text/plain": [
       "\u001b[1m Trainable params: \u001b[0m\u001b[38;5;34m261,985\u001b[0m (1023.38 KB)\n"
      ]
     },
     "metadata": {},
     "output_type": "display_data"
    },
    {
     "data": {
      "text/html": [
       "<pre style=\"white-space:pre;overflow-x:auto;line-height:normal;font-family:Menlo,'DejaVu Sans Mono',consolas,'Courier New',monospace\"><span style=\"font-weight: bold\"> Non-trainable params: </span><span style=\"color: #00af00; text-decoration-color: #00af00\">0</span> (0.00 B)\n",
       "</pre>\n"
      ],
      "text/plain": [
       "\u001b[1m Non-trainable params: \u001b[0m\u001b[38;5;34m0\u001b[0m (0.00 B)\n"
      ]
     },
     "metadata": {},
     "output_type": "display_data"
    }
   ],
   "source": [
    "model1.summary()"
   ]
  },
  {
   "cell_type": "code",
   "execution_count": 42,
   "metadata": {},
   "outputs": [
    {
     "name": "stdout",
     "output_type": "stream",
     "text": [
      "Epoch 1/80\n",
      "\u001b[1m338/338\u001b[0m \u001b[32m━━━━━━━━━━━━━━━━━━━━\u001b[0m\u001b[37m\u001b[0m \u001b[1m1s\u001b[0m 2ms/step - loss: 6.4352 - mean_absolute_error: 2.0017 - mean_squared_error: 6.4352 - val_loss: 1.5376 - val_mean_absolute_error: 0.9703 - val_mean_squared_error: 1.5376\n",
      "Epoch 2/80\n",
      "\u001b[1m338/338\u001b[0m \u001b[32m━━━━━━━━━━━━━━━━━━━━\u001b[0m\u001b[37m\u001b[0m \u001b[1m1s\u001b[0m 2ms/step - loss: 1.4115 - mean_absolute_error: 0.9047 - mean_squared_error: 1.4115 - val_loss: 1.0397 - val_mean_absolute_error: 0.8301 - val_mean_squared_error: 1.0397\n",
      "Epoch 3/80\n",
      "\u001b[1m338/338\u001b[0m \u001b[32m━━━━━━━━━━━━━━━━━━━━\u001b[0m\u001b[37m\u001b[0m \u001b[1m1s\u001b[0m 2ms/step - loss: 0.5775 - mean_absolute_error: 0.5450 - mean_squared_error: 0.5775 - val_loss: 0.7846 - val_mean_absolute_error: 0.6544 - val_mean_squared_error: 0.7846\n",
      "Epoch 4/80\n",
      "\u001b[1m338/338\u001b[0m \u001b[32m━━━━━━━━━━━━━━━━━━━━\u001b[0m\u001b[37m\u001b[0m \u001b[1m1s\u001b[0m 2ms/step - loss: 0.4924 - mean_absolute_error: 0.4826 - mean_squared_error: 0.4924 - val_loss: 0.4463 - val_mean_absolute_error: 0.4662 - val_mean_squared_error: 0.4463\n",
      "Epoch 5/80\n",
      "\u001b[1m338/338\u001b[0m \u001b[32m━━━━━━━━━━━━━━━━━━━━\u001b[0m\u001b[37m\u001b[0m \u001b[1m1s\u001b[0m 2ms/step - loss: 0.2923 - mean_absolute_error: 0.3547 - mean_squared_error: 0.2923 - val_loss: 0.2779 - val_mean_absolute_error: 0.3023 - val_mean_squared_error: 0.2779\n",
      "Epoch 6/80\n",
      "\u001b[1m338/338\u001b[0m \u001b[32m━━━━━━━━━━━━━━━━━━━━\u001b[0m\u001b[37m\u001b[0m \u001b[1m1s\u001b[0m 2ms/step - loss: 0.2388 - mean_absolute_error: 0.3222 - mean_squared_error: 0.2388 - val_loss: 0.2605 - val_mean_absolute_error: 0.3780 - val_mean_squared_error: 0.2605\n",
      "Epoch 7/80\n",
      "\u001b[1m338/338\u001b[0m \u001b[32m━━━━━━━━━━━━━━━━━━━━\u001b[0m\u001b[37m\u001b[0m \u001b[1m1s\u001b[0m 2ms/step - loss: 0.2331 - mean_absolute_error: 0.3308 - mean_squared_error: 0.2331 - val_loss: 0.1725 - val_mean_absolute_error: 0.2954 - val_mean_squared_error: 0.1725\n",
      "Epoch 8/80\n",
      "\u001b[1m338/338\u001b[0m \u001b[32m━━━━━━━━━━━━━━━━━━━━\u001b[0m\u001b[37m\u001b[0m \u001b[1m1s\u001b[0m 2ms/step - loss: 0.1434 - mean_absolute_error: 0.2502 - mean_squared_error: 0.1434 - val_loss: 0.1921 - val_mean_absolute_error: 0.3188 - val_mean_squared_error: 0.1921\n",
      "Epoch 9/80\n",
      "\u001b[1m338/338\u001b[0m \u001b[32m━━━━━━━━━━━━━━━━━━━━\u001b[0m\u001b[37m\u001b[0m \u001b[1m1s\u001b[0m 2ms/step - loss: 0.1362 - mean_absolute_error: 0.2268 - mean_squared_error: 0.1362 - val_loss: 0.0931 - val_mean_absolute_error: 0.1860 - val_mean_squared_error: 0.0931\n",
      "Epoch 10/80\n",
      "\u001b[1m338/338\u001b[0m \u001b[32m━━━━━━━━━━━━━━━━━━━━\u001b[0m\u001b[37m\u001b[0m \u001b[1m1s\u001b[0m 2ms/step - loss: 0.1536 - mean_absolute_error: 0.2649 - mean_squared_error: 0.1536 - val_loss: 0.1105 - val_mean_absolute_error: 0.2078 - val_mean_squared_error: 0.1105\n",
      "Epoch 11/80\n",
      "\u001b[1m338/338\u001b[0m \u001b[32m━━━━━━━━━━━━━━━━━━━━\u001b[0m\u001b[37m\u001b[0m \u001b[1m1s\u001b[0m 2ms/step - loss: 0.0923 - mean_absolute_error: 0.1852 - mean_squared_error: 0.0923 - val_loss: 0.1203 - val_mean_absolute_error: 0.2406 - val_mean_squared_error: 0.1203\n",
      "Epoch 12/80\n",
      "\u001b[1m338/338\u001b[0m \u001b[32m━━━━━━━━━━━━━━━━━━━━\u001b[0m\u001b[37m\u001b[0m \u001b[1m1s\u001b[0m 2ms/step - loss: 0.0590 - mean_absolute_error: 0.1555 - mean_squared_error: 0.0590 - val_loss: 0.0314 - val_mean_absolute_error: 0.1010 - val_mean_squared_error: 0.0314\n",
      "Epoch 13/80\n",
      "\u001b[1m338/338\u001b[0m \u001b[32m━━━━━━━━━━━━━━━━━━━━\u001b[0m\u001b[37m\u001b[0m \u001b[1m1s\u001b[0m 2ms/step - loss: 0.1237 - mean_absolute_error: 0.2199 - mean_squared_error: 0.1237 - val_loss: 0.1582 - val_mean_absolute_error: 0.3094 - val_mean_squared_error: 0.1582\n",
      "Epoch 14/80\n",
      "\u001b[1m338/338\u001b[0m \u001b[32m━━━━━━━━━━━━━━━━━━━━\u001b[0m\u001b[37m\u001b[0m \u001b[1m1s\u001b[0m 2ms/step - loss: 0.1378 - mean_absolute_error: 0.2414 - mean_squared_error: 0.1378 - val_loss: 0.2552 - val_mean_absolute_error: 0.3934 - val_mean_squared_error: 0.2552\n",
      "Epoch 15/80\n",
      "\u001b[1m338/338\u001b[0m \u001b[32m━━━━━━━━━━━━━━━━━━━━\u001b[0m\u001b[37m\u001b[0m \u001b[1m1s\u001b[0m 2ms/step - loss: 0.0844 - mean_absolute_error: 0.1898 - mean_squared_error: 0.0844 - val_loss: 0.0275 - val_mean_absolute_error: 0.1036 - val_mean_squared_error: 0.0275\n",
      "Epoch 16/80\n",
      "\u001b[1m338/338\u001b[0m \u001b[32m━━━━━━━━━━━━━━━━━━━━\u001b[0m\u001b[37m\u001b[0m \u001b[1m1s\u001b[0m 2ms/step - loss: 0.0552 - mean_absolute_error: 0.1472 - mean_squared_error: 0.0552 - val_loss: 0.0246 - val_mean_absolute_error: 0.1082 - val_mean_squared_error: 0.0246\n",
      "Epoch 17/80\n",
      "\u001b[1m338/338\u001b[0m \u001b[32m━━━━━━━━━━━━━━━━━━━━\u001b[0m\u001b[37m\u001b[0m \u001b[1m1s\u001b[0m 2ms/step - loss: 0.0478 - mean_absolute_error: 0.1419 - mean_squared_error: 0.0478 - val_loss: 0.0285 - val_mean_absolute_error: 0.1173 - val_mean_squared_error: 0.0285\n",
      "Epoch 18/80\n",
      "\u001b[1m338/338\u001b[0m \u001b[32m━━━━━━━━━━━━━━━━━━━━\u001b[0m\u001b[37m\u001b[0m \u001b[1m1s\u001b[0m 2ms/step - loss: 0.0359 - mean_absolute_error: 0.1201 - mean_squared_error: 0.0359 - val_loss: 0.0215 - val_mean_absolute_error: 0.0948 - val_mean_squared_error: 0.0215\n",
      "Epoch 19/80\n",
      "\u001b[1m338/338\u001b[0m \u001b[32m━━━━━━━━━━━━━━━━━━━━\u001b[0m\u001b[37m\u001b[0m \u001b[1m1s\u001b[0m 2ms/step - loss: 0.0608 - mean_absolute_error: 0.1621 - mean_squared_error: 0.0608 - val_loss: 0.1441 - val_mean_absolute_error: 0.3008 - val_mean_squared_error: 0.1441\n",
      "Epoch 20/80\n",
      "\u001b[1m338/338\u001b[0m \u001b[32m━━━━━━━━━━━━━━━━━━━━\u001b[0m\u001b[37m\u001b[0m \u001b[1m1s\u001b[0m 2ms/step - loss: 0.0654 - mean_absolute_error: 0.1682 - mean_squared_error: 0.0654 - val_loss: 0.0122 - val_mean_absolute_error: 0.0673 - val_mean_squared_error: 0.0122\n",
      "Epoch 21/80\n",
      "\u001b[1m338/338\u001b[0m \u001b[32m━━━━━━━━━━━━━━━━━━━━\u001b[0m\u001b[37m\u001b[0m \u001b[1m1s\u001b[0m 2ms/step - loss: 0.0389 - mean_absolute_error: 0.1274 - mean_squared_error: 0.0389 - val_loss: 0.0618 - val_mean_absolute_error: 0.1219 - val_mean_squared_error: 0.0618\n",
      "Epoch 22/80\n",
      "\u001b[1m338/338\u001b[0m \u001b[32m━━━━━━━━━━━━━━━━━━━━\u001b[0m\u001b[37m\u001b[0m \u001b[1m1s\u001b[0m 2ms/step - loss: 0.0562 - mean_absolute_error: 0.1480 - mean_squared_error: 0.0562 - val_loss: 0.0256 - val_mean_absolute_error: 0.1051 - val_mean_squared_error: 0.0256\n",
      "Epoch 23/80\n",
      "\u001b[1m338/338\u001b[0m \u001b[32m━━━━━━━━━━━━━━━━━━━━\u001b[0m\u001b[37m\u001b[0m \u001b[1m1s\u001b[0m 2ms/step - loss: 0.0262 - mean_absolute_error: 0.1021 - mean_squared_error: 0.0262 - val_loss: 0.0398 - val_mean_absolute_error: 0.1453 - val_mean_squared_error: 0.0398\n",
      "Epoch 24/80\n",
      "\u001b[1m338/338\u001b[0m \u001b[32m━━━━━━━━━━━━━━━━━━━━\u001b[0m\u001b[37m\u001b[0m \u001b[1m1s\u001b[0m 2ms/step - loss: 0.0475 - mean_absolute_error: 0.1380 - mean_squared_error: 0.0475 - val_loss: 0.0108 - val_mean_absolute_error: 0.0735 - val_mean_squared_error: 0.0108\n",
      "Epoch 25/80\n",
      "\u001b[1m338/338\u001b[0m \u001b[32m━━━━━━━━━━━━━━━━━━━━\u001b[0m\u001b[37m\u001b[0m \u001b[1m1s\u001b[0m 2ms/step - loss: 0.1447 - mean_absolute_error: 0.2416 - mean_squared_error: 0.1447 - val_loss: 0.0140 - val_mean_absolute_error: 0.0730 - val_mean_squared_error: 0.0140\n",
      "Epoch 26/80\n",
      "\u001b[1m338/338\u001b[0m \u001b[32m━━━━━━━━━━━━━━━━━━━━\u001b[0m\u001b[37m\u001b[0m \u001b[1m1s\u001b[0m 2ms/step - loss: 0.0173 - mean_absolute_error: 0.0755 - mean_squared_error: 0.0173 - val_loss: 0.0079 - val_mean_absolute_error: 0.0527 - val_mean_squared_error: 0.0079\n",
      "Epoch 27/80\n",
      "\u001b[1m338/338\u001b[0m \u001b[32m━━━━━━━━━━━━━━━━━━━━\u001b[0m\u001b[37m\u001b[0m \u001b[1m1s\u001b[0m 2ms/step - loss: 0.0406 - mean_absolute_error: 0.1245 - mean_squared_error: 0.0406 - val_loss: 0.1344 - val_mean_absolute_error: 0.2538 - val_mean_squared_error: 0.1344\n",
      "Epoch 28/80\n",
      "\u001b[1m338/338\u001b[0m \u001b[32m━━━━━━━━━━━━━━━━━━━━\u001b[0m\u001b[37m\u001b[0m \u001b[1m1s\u001b[0m 2ms/step - loss: 0.0524 - mean_absolute_error: 0.1498 - mean_squared_error: 0.0524 - val_loss: 0.0126 - val_mean_absolute_error: 0.0816 - val_mean_squared_error: 0.0126\n",
      "Epoch 29/80\n",
      "\u001b[1m338/338\u001b[0m \u001b[32m━━━━━━━━━━━━━━━━━━━━\u001b[0m\u001b[37m\u001b[0m \u001b[1m1s\u001b[0m 2ms/step - loss: 0.0154 - mean_absolute_error: 0.0717 - mean_squared_error: 0.0154 - val_loss: 0.0757 - val_mean_absolute_error: 0.2117 - val_mean_squared_error: 0.0757\n",
      "Epoch 30/80\n",
      "\u001b[1m338/338\u001b[0m \u001b[32m━━━━━━━━━━━━━━━━━━━━\u001b[0m\u001b[37m\u001b[0m \u001b[1m1s\u001b[0m 2ms/step - loss: 0.0429 - mean_absolute_error: 0.1302 - mean_squared_error: 0.0429 - val_loss: 0.0805 - val_mean_absolute_error: 0.1901 - val_mean_squared_error: 0.0805\n",
      "Epoch 31/80\n",
      "\u001b[1m338/338\u001b[0m \u001b[32m━━━━━━━━━━━━━━━━━━━━\u001b[0m\u001b[37m\u001b[0m \u001b[1m1s\u001b[0m 2ms/step - loss: 0.0288 - mean_absolute_error: 0.1037 - mean_squared_error: 0.0288 - val_loss: 0.0171 - val_mean_absolute_error: 0.0944 - val_mean_squared_error: 0.0171\n",
      "Epoch 32/80\n",
      "\u001b[1m338/338\u001b[0m \u001b[32m━━━━━━━━━━━━━━━━━━━━\u001b[0m\u001b[37m\u001b[0m \u001b[1m1s\u001b[0m 2ms/step - loss: 0.0195 - mean_absolute_error: 0.0865 - mean_squared_error: 0.0195 - val_loss: 0.0248 - val_mean_absolute_error: 0.1095 - val_mean_squared_error: 0.0248\n",
      "Epoch 33/80\n",
      "\u001b[1m338/338\u001b[0m \u001b[32m━━━━━━━━━━━━━━━━━━━━\u001b[0m\u001b[37m\u001b[0m \u001b[1m1s\u001b[0m 2ms/step - loss: 0.0245 - mean_absolute_error: 0.0931 - mean_squared_error: 0.0245 - val_loss: 0.0403 - val_mean_absolute_error: 0.1494 - val_mean_squared_error: 0.0403\n",
      "Epoch 34/80\n",
      "\u001b[1m338/338\u001b[0m \u001b[32m━━━━━━━━━━━━━━━━━━━━\u001b[0m\u001b[37m\u001b[0m \u001b[1m1s\u001b[0m 2ms/step - loss: 0.0263 - mean_absolute_error: 0.1012 - mean_squared_error: 0.0263 - val_loss: 0.1117 - val_mean_absolute_error: 0.2461 - val_mean_squared_error: 0.1117\n",
      "Epoch 35/80\n",
      "\u001b[1m338/338\u001b[0m \u001b[32m━━━━━━━━━━━━━━━━━━━━\u001b[0m\u001b[37m\u001b[0m \u001b[1m1s\u001b[0m 2ms/step - loss: 0.0604 - mean_absolute_error: 0.1603 - mean_squared_error: 0.0604 - val_loss: 0.0748 - val_mean_absolute_error: 0.2128 - val_mean_squared_error: 0.0748\n",
      "Epoch 36/80\n",
      "\u001b[1m338/338\u001b[0m \u001b[32m━━━━━━━━━━━━━━━━━━━━\u001b[0m\u001b[37m\u001b[0m \u001b[1m1s\u001b[0m 2ms/step - loss: 0.0184 - mean_absolute_error: 0.0803 - mean_squared_error: 0.0184 - val_loss: 0.0062 - val_mean_absolute_error: 0.0472 - val_mean_squared_error: 0.0062\n",
      "Epoch 37/80\n",
      "\u001b[1m338/338\u001b[0m \u001b[32m━━━━━━━━━━━━━━━━━━━━\u001b[0m\u001b[37m\u001b[0m \u001b[1m1s\u001b[0m 2ms/step - loss: 0.0282 - mean_absolute_error: 0.0954 - mean_squared_error: 0.0282 - val_loss: 0.2475 - val_mean_absolute_error: 0.3726 - val_mean_squared_error: 0.2475\n",
      "Epoch 38/80\n",
      "\u001b[1m338/338\u001b[0m \u001b[32m━━━━━━━━━━━━━━━━━━━━\u001b[0m\u001b[37m\u001b[0m \u001b[1m1s\u001b[0m 2ms/step - loss: 0.0970 - mean_absolute_error: 0.1876 - mean_squared_error: 0.0970 - val_loss: 0.0117 - val_mean_absolute_error: 0.0803 - val_mean_squared_error: 0.0117\n",
      "Epoch 39/80\n",
      "\u001b[1m338/338\u001b[0m \u001b[32m━━━━━━━━━━━━━━━━━━━━\u001b[0m\u001b[37m\u001b[0m \u001b[1m1s\u001b[0m 2ms/step - loss: 0.0215 - mean_absolute_error: 0.0872 - mean_squared_error: 0.0215 - val_loss: 0.0288 - val_mean_absolute_error: 0.1130 - val_mean_squared_error: 0.0288\n",
      "Epoch 40/80\n",
      "\u001b[1m338/338\u001b[0m \u001b[32m━━━━━━━━━━━━━━━━━━━━\u001b[0m\u001b[37m\u001b[0m \u001b[1m1s\u001b[0m 2ms/step - loss: 0.0143 - mean_absolute_error: 0.0705 - mean_squared_error: 0.0143 - val_loss: 0.0920 - val_mean_absolute_error: 0.2432 - val_mean_squared_error: 0.0920\n",
      "Epoch 41/80\n",
      "\u001b[1m338/338\u001b[0m \u001b[32m━━━━━━━━━━━━━━━━━━━━\u001b[0m\u001b[37m\u001b[0m \u001b[1m1s\u001b[0m 2ms/step - loss: 0.1138 - mean_absolute_error: 0.2159 - mean_squared_error: 0.1138 - val_loss: 0.0524 - val_mean_absolute_error: 0.1729 - val_mean_squared_error: 0.0524\n",
      "Epoch 42/80\n",
      "\u001b[1m338/338\u001b[0m \u001b[32m━━━━━━━━━━━━━━━━━━━━\u001b[0m\u001b[37m\u001b[0m \u001b[1m1s\u001b[0m 2ms/step - loss: 0.0356 - mean_absolute_error: 0.1054 - mean_squared_error: 0.0356 - val_loss: 0.0100 - val_mean_absolute_error: 0.0515 - val_mean_squared_error: 0.0100\n",
      "Epoch 43/80\n",
      "\u001b[1m338/338\u001b[0m \u001b[32m━━━━━━━━━━━━━━━━━━━━\u001b[0m\u001b[37m\u001b[0m \u001b[1m1s\u001b[0m 2ms/step - loss: 0.0149 - mean_absolute_error: 0.0659 - mean_squared_error: 0.0149 - val_loss: 0.0042 - val_mean_absolute_error: 0.0344 - val_mean_squared_error: 0.0042\n",
      "Epoch 44/80\n",
      "\u001b[1m338/338\u001b[0m \u001b[32m━━━━━━━━━━━━━━━━━━━━\u001b[0m\u001b[37m\u001b[0m \u001b[1m1s\u001b[0m 2ms/step - loss: 0.0110 - mean_absolute_error: 0.0504 - mean_squared_error: 0.0110 - val_loss: 0.0211 - val_mean_absolute_error: 0.0988 - val_mean_squared_error: 0.0211\n",
      "Epoch 45/80\n",
      "\u001b[1m338/338\u001b[0m \u001b[32m━━━━━━━━━━━━━━━━━━━━\u001b[0m\u001b[37m\u001b[0m \u001b[1m1s\u001b[0m 2ms/step - loss: 0.0232 - mean_absolute_error: 0.0910 - mean_squared_error: 0.0232 - val_loss: 0.0111 - val_mean_absolute_error: 0.0677 - val_mean_squared_error: 0.0111\n",
      "Epoch 46/80\n",
      "\u001b[1m338/338\u001b[0m \u001b[32m━━━━━━━━━━━━━━━━━━━━\u001b[0m\u001b[37m\u001b[0m \u001b[1m1s\u001b[0m 2ms/step - loss: 0.0164 - mean_absolute_error: 0.0707 - mean_squared_error: 0.0164 - val_loss: 0.0101 - val_mean_absolute_error: 0.0727 - val_mean_squared_error: 0.0101\n",
      "Epoch 47/80\n",
      "\u001b[1m338/338\u001b[0m \u001b[32m━━━━━━━━━━━━━━━━━━━━\u001b[0m\u001b[37m\u001b[0m \u001b[1m1s\u001b[0m 2ms/step - loss: 0.0304 - mean_absolute_error: 0.1000 - mean_squared_error: 0.0304 - val_loss: 0.0037 - val_mean_absolute_error: 0.0380 - val_mean_squared_error: 0.0037\n",
      "Epoch 48/80\n",
      "\u001b[1m338/338\u001b[0m \u001b[32m━━━━━━━━━━━━━━━━━━━━\u001b[0m\u001b[37m\u001b[0m \u001b[1m1s\u001b[0m 2ms/step - loss: 0.0968 - mean_absolute_error: 0.1536 - mean_squared_error: 0.0968 - val_loss: 0.0122 - val_mean_absolute_error: 0.0672 - val_mean_squared_error: 0.0122\n",
      "Epoch 49/80\n",
      "\u001b[1m338/338\u001b[0m \u001b[32m━━━━━━━━━━━━━━━━━━━━\u001b[0m\u001b[37m\u001b[0m \u001b[1m1s\u001b[0m 2ms/step - loss: 0.0204 - mean_absolute_error: 0.0808 - mean_squared_error: 0.0204 - val_loss: 0.0021 - val_mean_absolute_error: 0.0252 - val_mean_squared_error: 0.0021\n",
      "Epoch 50/80\n",
      "\u001b[1m338/338\u001b[0m \u001b[32m━━━━━━━━━━━━━━━━━━━━\u001b[0m\u001b[37m\u001b[0m \u001b[1m1s\u001b[0m 2ms/step - loss: 0.0076 - mean_absolute_error: 0.0414 - mean_squared_error: 0.0076 - val_loss: 0.0028 - val_mean_absolute_error: 0.0284 - val_mean_squared_error: 0.0028\n",
      "Epoch 51/80\n",
      "\u001b[1m338/338\u001b[0m \u001b[32m━━━━━━━━━━━━━━━━━━━━\u001b[0m\u001b[37m\u001b[0m \u001b[1m1s\u001b[0m 2ms/step - loss: 0.0241 - mean_absolute_error: 0.0817 - mean_squared_error: 0.0241 - val_loss: 0.0095 - val_mean_absolute_error: 0.0725 - val_mean_squared_error: 0.0095\n",
      "Epoch 52/80\n",
      "\u001b[1m338/338\u001b[0m \u001b[32m━━━━━━━━━━━━━━━━━━━━\u001b[0m\u001b[37m\u001b[0m \u001b[1m1s\u001b[0m 2ms/step - loss: 0.0127 - mean_absolute_error: 0.0586 - mean_squared_error: 0.0127 - val_loss: 0.0127 - val_mean_absolute_error: 0.0733 - val_mean_squared_error: 0.0127\n",
      "Epoch 53/80\n",
      "\u001b[1m338/338\u001b[0m \u001b[32m━━━━━━━━━━━━━━━━━━━━\u001b[0m\u001b[37m\u001b[0m \u001b[1m1s\u001b[0m 2ms/step - loss: 0.0176 - mean_absolute_error: 0.0741 - mean_squared_error: 0.0176 - val_loss: 0.0182 - val_mean_absolute_error: 0.0949 - val_mean_squared_error: 0.0182\n",
      "Epoch 54/80\n",
      "\u001b[1m338/338\u001b[0m \u001b[32m━━━━━━━━━━━━━━━━━━━━\u001b[0m\u001b[37m\u001b[0m \u001b[1m1s\u001b[0m 2ms/step - loss: 0.0140 - mean_absolute_error: 0.0643 - mean_squared_error: 0.0140 - val_loss: 0.0198 - val_mean_absolute_error: 0.0941 - val_mean_squared_error: 0.0198\n",
      "Epoch 55/80\n",
      "\u001b[1m338/338\u001b[0m \u001b[32m━━━━━━━━━━━━━━━━━━━━\u001b[0m\u001b[37m\u001b[0m \u001b[1m1s\u001b[0m 2ms/step - loss: 0.0279 - mean_absolute_error: 0.0974 - mean_squared_error: 0.0279 - val_loss: 0.0241 - val_mean_absolute_error: 0.1065 - val_mean_squared_error: 0.0241\n",
      "Epoch 56/80\n",
      "\u001b[1m338/338\u001b[0m \u001b[32m━━━━━━━━━━━━━━━━━━━━\u001b[0m\u001b[37m\u001b[0m \u001b[1m1s\u001b[0m 2ms/step - loss: 0.0392 - mean_absolute_error: 0.1178 - mean_squared_error: 0.0392 - val_loss: 0.0082 - val_mean_absolute_error: 0.0585 - val_mean_squared_error: 0.0082\n",
      "Epoch 57/80\n",
      "\u001b[1m338/338\u001b[0m \u001b[32m━━━━━━━━━━━━━━━━━━━━\u001b[0m\u001b[37m\u001b[0m \u001b[1m1s\u001b[0m 2ms/step - loss: 0.0310 - mean_absolute_error: 0.0924 - mean_squared_error: 0.0310 - val_loss: 0.0092 - val_mean_absolute_error: 0.0681 - val_mean_squared_error: 0.0092\n",
      "Epoch 58/80\n",
      "\u001b[1m338/338\u001b[0m \u001b[32m━━━━━━━━━━━━━━━━━━━━\u001b[0m\u001b[37m\u001b[0m \u001b[1m1s\u001b[0m 2ms/step - loss: 0.0090 - mean_absolute_error: 0.0524 - mean_squared_error: 0.0090 - val_loss: 0.0036 - val_mean_absolute_error: 0.0341 - val_mean_squared_error: 0.0036\n",
      "Epoch 59/80\n",
      "\u001b[1m338/338\u001b[0m \u001b[32m━━━━━━━━━━━━━━━━━━━━\u001b[0m\u001b[37m\u001b[0m \u001b[1m1s\u001b[0m 2ms/step - loss: 0.0056 - mean_absolute_error: 0.0361 - mean_squared_error: 0.0056 - val_loss: 0.0318 - val_mean_absolute_error: 0.1408 - val_mean_squared_error: 0.0318\n",
      "Epoch 60/80\n",
      "\u001b[1m338/338\u001b[0m \u001b[32m━━━━━━━━━━━━━━━━━━━━\u001b[0m\u001b[37m\u001b[0m \u001b[1m1s\u001b[0m 2ms/step - loss: 0.0294 - mean_absolute_error: 0.0965 - mean_squared_error: 0.0294 - val_loss: 0.0080 - val_mean_absolute_error: 0.0565 - val_mean_squared_error: 0.0080\n",
      "Epoch 61/80\n",
      "\u001b[1m338/338\u001b[0m \u001b[32m━━━━━━━━━━━━━━━━━━━━\u001b[0m\u001b[37m\u001b[0m \u001b[1m1s\u001b[0m 2ms/step - loss: 0.0164 - mean_absolute_error: 0.0694 - mean_squared_error: 0.0164 - val_loss: 0.0102 - val_mean_absolute_error: 0.0549 - val_mean_squared_error: 0.0102\n",
      "Epoch 62/80\n",
      "\u001b[1m338/338\u001b[0m \u001b[32m━━━━━━━━━━━━━━━━━━━━\u001b[0m\u001b[37m\u001b[0m \u001b[1m1s\u001b[0m 2ms/step - loss: 0.0072 - mean_absolute_error: 0.0486 - mean_squared_error: 0.0072 - val_loss: 0.0086 - val_mean_absolute_error: 0.0567 - val_mean_squared_error: 0.0086\n",
      "Epoch 63/80\n",
      "\u001b[1m338/338\u001b[0m \u001b[32m━━━━━━━━━━━━━━━━━━━━\u001b[0m\u001b[37m\u001b[0m \u001b[1m1s\u001b[0m 2ms/step - loss: 0.0391 - mean_absolute_error: 0.1131 - mean_squared_error: 0.0391 - val_loss: 0.0329 - val_mean_absolute_error: 0.1227 - val_mean_squared_error: 0.0329\n",
      "Epoch 64/80\n",
      "\u001b[1m338/338\u001b[0m \u001b[32m━━━━━━━━━━━━━━━━━━━━\u001b[0m\u001b[37m\u001b[0m \u001b[1m1s\u001b[0m 2ms/step - loss: 0.0293 - mean_absolute_error: 0.0957 - mean_squared_error: 0.0293 - val_loss: 0.0045 - val_mean_absolute_error: 0.0382 - val_mean_squared_error: 0.0045\n",
      "Epoch 65/80\n",
      "\u001b[1m338/338\u001b[0m \u001b[32m━━━━━━━━━━━━━━━━━━━━\u001b[0m\u001b[37m\u001b[0m \u001b[1m1s\u001b[0m 2ms/step - loss: 0.0093 - mean_absolute_error: 0.0508 - mean_squared_error: 0.0093 - val_loss: 0.0065 - val_mean_absolute_error: 0.0505 - val_mean_squared_error: 0.0065\n",
      "Epoch 66/80\n",
      "\u001b[1m338/338\u001b[0m \u001b[32m━━━━━━━━━━━━━━━━━━━━\u001b[0m\u001b[37m\u001b[0m \u001b[1m1s\u001b[0m 2ms/step - loss: 0.0117 - mean_absolute_error: 0.0523 - mean_squared_error: 0.0117 - val_loss: 0.0033 - val_mean_absolute_error: 0.0305 - val_mean_squared_error: 0.0033\n",
      "Epoch 67/80\n",
      "\u001b[1m338/338\u001b[0m \u001b[32m━━━━━━━━━━━━━━━━━━━━\u001b[0m\u001b[37m\u001b[0m \u001b[1m1s\u001b[0m 2ms/step - loss: 0.0042 - mean_absolute_error: 0.0363 - mean_squared_error: 0.0042 - val_loss: 0.0365 - val_mean_absolute_error: 0.1402 - val_mean_squared_error: 0.0365\n",
      "Epoch 68/80\n",
      "\u001b[1m338/338\u001b[0m \u001b[32m━━━━━━━━━━━━━━━━━━━━\u001b[0m\u001b[37m\u001b[0m \u001b[1m1s\u001b[0m 2ms/step - loss: 0.0428 - mean_absolute_error: 0.1248 - mean_squared_error: 0.0428 - val_loss: 0.0023 - val_mean_absolute_error: 0.0262 - val_mean_squared_error: 0.0023\n",
      "Epoch 69/80\n",
      "\u001b[1m338/338\u001b[0m \u001b[32m━━━━━━━━━━━━━━━━━━━━\u001b[0m\u001b[37m\u001b[0m \u001b[1m1s\u001b[0m 2ms/step - loss: 0.0200 - mean_absolute_error: 0.0689 - mean_squared_error: 0.0200 - val_loss: 0.0054 - val_mean_absolute_error: 0.0485 - val_mean_squared_error: 0.0054\n",
      "Epoch 70/80\n",
      "\u001b[1m338/338\u001b[0m \u001b[32m━━━━━━━━━━━━━━━━━━━━\u001b[0m\u001b[37m\u001b[0m \u001b[1m1s\u001b[0m 2ms/step - loss: 0.0087 - mean_absolute_error: 0.0520 - mean_squared_error: 0.0087 - val_loss: 0.0217 - val_mean_absolute_error: 0.1037 - val_mean_squared_error: 0.0217\n",
      "Epoch 71/80\n",
      "\u001b[1m338/338\u001b[0m \u001b[32m━━━━━━━━━━━━━━━━━━━━\u001b[0m\u001b[37m\u001b[0m \u001b[1m1s\u001b[0m 2ms/step - loss: 0.0279 - mean_absolute_error: 0.1012 - mean_squared_error: 0.0279 - val_loss: 0.0036 - val_mean_absolute_error: 0.0387 - val_mean_squared_error: 0.0036\n",
      "Epoch 72/80\n",
      "\u001b[1m338/338\u001b[0m \u001b[32m━━━━━━━━━━━━━━━━━━━━\u001b[0m\u001b[37m\u001b[0m \u001b[1m1s\u001b[0m 2ms/step - loss: 0.0111 - mean_absolute_error: 0.0575 - mean_squared_error: 0.0111 - val_loss: 0.0080 - val_mean_absolute_error: 0.0609 - val_mean_squared_error: 0.0080\n",
      "Epoch 73/80\n",
      "\u001b[1m338/338\u001b[0m \u001b[32m━━━━━━━━━━━━━━━━━━━━\u001b[0m\u001b[37m\u001b[0m \u001b[1m1s\u001b[0m 2ms/step - loss: 0.0051 - mean_absolute_error: 0.0387 - mean_squared_error: 0.0051 - val_loss: 0.0061 - val_mean_absolute_error: 0.0537 - val_mean_squared_error: 0.0061\n",
      "Epoch 74/80\n",
      "\u001b[1m338/338\u001b[0m \u001b[32m━━━━━━━━━━━━━━━━━━━━\u001b[0m\u001b[37m\u001b[0m \u001b[1m1s\u001b[0m 2ms/step - loss: 0.1006 - mean_absolute_error: 0.1608 - mean_squared_error: 0.1006 - val_loss: 0.0046 - val_mean_absolute_error: 0.0440 - val_mean_squared_error: 0.0046\n",
      "Epoch 75/80\n",
      "\u001b[1m338/338\u001b[0m \u001b[32m━━━━━━━━━━━━━━━━━━━━\u001b[0m\u001b[37m\u001b[0m \u001b[1m1s\u001b[0m 2ms/step - loss: 0.0091 - mean_absolute_error: 0.0468 - mean_squared_error: 0.0091 - val_loss: 0.0184 - val_mean_absolute_error: 0.0713 - val_mean_squared_error: 0.0184\n",
      "Epoch 76/80\n",
      "\u001b[1m338/338\u001b[0m \u001b[32m━━━━━━━━━━━━━━━━━━━━\u001b[0m\u001b[37m\u001b[0m \u001b[1m1s\u001b[0m 2ms/step - loss: 0.0136 - mean_absolute_error: 0.0649 - mean_squared_error: 0.0136 - val_loss: 0.0019 - val_mean_absolute_error: 0.0245 - val_mean_squared_error: 0.0019\n",
      "Epoch 77/80\n",
      "\u001b[1m338/338\u001b[0m \u001b[32m━━━━━━━━━━━━━━━━━━━━\u001b[0m\u001b[37m\u001b[0m \u001b[1m1s\u001b[0m 2ms/step - loss: 0.0140 - mean_absolute_error: 0.0442 - mean_squared_error: 0.0140 - val_loss: 0.0104 - val_mean_absolute_error: 0.0571 - val_mean_squared_error: 0.0104\n",
      "Epoch 78/80\n",
      "\u001b[1m338/338\u001b[0m \u001b[32m━━━━━━━━━━━━━━━━━━━━\u001b[0m\u001b[37m\u001b[0m \u001b[1m1s\u001b[0m 2ms/step - loss: 0.0163 - mean_absolute_error: 0.0629 - mean_squared_error: 0.0163 - val_loss: 0.0188 - val_mean_absolute_error: 0.0718 - val_mean_squared_error: 0.0188\n",
      "Epoch 79/80\n",
      "\u001b[1m338/338\u001b[0m \u001b[32m━━━━━━━━━━━━━━━━━━━━\u001b[0m\u001b[37m\u001b[0m \u001b[1m1s\u001b[0m 2ms/step - loss: 0.0109 - mean_absolute_error: 0.0511 - mean_squared_error: 0.0109 - val_loss: 0.0037 - val_mean_absolute_error: 0.0364 - val_mean_squared_error: 0.0037\n",
      "Epoch 80/80\n",
      "\u001b[1m338/338\u001b[0m \u001b[32m━━━━━━━━━━━━━━━━━━━━\u001b[0m\u001b[37m\u001b[0m \u001b[1m1s\u001b[0m 2ms/step - loss: 0.0158 - mean_absolute_error: 0.0633 - mean_squared_error: 0.0158 - val_loss: 0.0122 - val_mean_absolute_error: 0.0762 - val_mean_squared_error: 0.0122\n"
     ]
    }
   ],
   "source": [
    "result = model1.fit(x_train, y_train, epochs=80, validation_data=(x_test, y_test))\n"
   ]
  },
  {
   "cell_type": "code",
   "execution_count": 43,
   "metadata": {},
   "outputs": [
    {
     "data": {
      "text/plain": [
       "dict_keys(['loss', 'mean_absolute_error', 'mean_squared_error', 'val_loss', 'val_mean_absolute_error', 'val_mean_squared_error'])"
      ]
     },
     "execution_count": 43,
     "metadata": {},
     "output_type": "execute_result"
    }
   ],
   "source": [
    "result.history.keys()"
   ]
  },
  {
   "cell_type": "code",
   "execution_count": 44,
   "metadata": {},
   "outputs": [
    {
     "name": "stdout",
     "output_type": "stream",
     "text": [
      "\u001b[1m113/113\u001b[0m \u001b[32m━━━━━━━━━━━━━━━━━━━━\u001b[0m\u001b[37m\u001b[0m \u001b[1m0s\u001b[0m 529us/step - loss: 0.0117 - mean_absolute_error: 0.0743 - mean_squared_error: 0.0117\n",
      "Test Loss (MSE): [0.012173503637313843, 0.012173503637313843, 0.07616189867258072]\n"
     ]
    }
   ],
   "source": [
    "# Evaluate the model\n",
    "test_loss = model1.evaluate(x_test, y_test)\n",
    "print(f'Test Loss (MSE): {test_loss}')"
   ]
  },
  {
   "cell_type": "code",
   "execution_count": 45,
   "metadata": {},
   "outputs": [
    {
     "name": "stdout",
     "output_type": "stream",
     "text": [
      "\u001b[1m113/113\u001b[0m \u001b[32m━━━━━━━━━━━━━━━━━━━━\u001b[0m\u001b[37m\u001b[0m \u001b[1m0s\u001b[0m 764us/step\n",
      "R² score: 0.997777658648051\n"
     ]
    }
   ],
   "source": [
    "from sklearn.metrics import r2_score\n",
    "y_pred = model1.predict(x_test)\n",
    "r2 = r2_score(y_test, y_pred)\n",
    "print(f'R² score: {r2}')\n"
   ]
  },
  {
   "cell_type": "code",
   "execution_count": 46,
   "metadata": {},
   "outputs": [
    {
     "data": {
      "text/html": [
       "<div>\n",
       "<style scoped>\n",
       "    .dataframe tbody tr th:only-of-type {\n",
       "        vertical-align: middle;\n",
       "    }\n",
       "\n",
       "    .dataframe tbody tr th {\n",
       "        vertical-align: top;\n",
       "    }\n",
       "\n",
       "    .dataframe thead th {\n",
       "        text-align: right;\n",
       "    }\n",
       "</style>\n",
       "<table border=\"1\" class=\"dataframe\">\n",
       "  <thead>\n",
       "    <tr style=\"text-align: right;\">\n",
       "      <th></th>\n",
       "      <th>loss</th>\n",
       "      <th>mean_absolute_error</th>\n",
       "      <th>mean_squared_error</th>\n",
       "      <th>val_loss</th>\n",
       "      <th>val_mean_absolute_error</th>\n",
       "      <th>val_mean_squared_error</th>\n",
       "    </tr>\n",
       "  </thead>\n",
       "  <tbody>\n",
       "    <tr>\n",
       "      <th>0</th>\n",
       "      <td>4.556769</td>\n",
       "      <td>1.672251</td>\n",
       "      <td>4.556769</td>\n",
       "      <td>1.537558</td>\n",
       "      <td>0.970271</td>\n",
       "      <td>1.537558</td>\n",
       "    </tr>\n",
       "    <tr>\n",
       "      <th>1</th>\n",
       "      <td>1.194407</td>\n",
       "      <td>0.822952</td>\n",
       "      <td>1.194407</td>\n",
       "      <td>1.039685</td>\n",
       "      <td>0.830078</td>\n",
       "      <td>1.039685</td>\n",
       "    </tr>\n",
       "    <tr>\n",
       "      <th>2</th>\n",
       "      <td>0.521523</td>\n",
       "      <td>0.504752</td>\n",
       "      <td>0.521523</td>\n",
       "      <td>0.784640</td>\n",
       "      <td>0.654374</td>\n",
       "      <td>0.784640</td>\n",
       "    </tr>\n",
       "    <tr>\n",
       "      <th>3</th>\n",
       "      <td>0.395579</td>\n",
       "      <td>0.420445</td>\n",
       "      <td>0.395579</td>\n",
       "      <td>0.446331</td>\n",
       "      <td>0.466184</td>\n",
       "      <td>0.446331</td>\n",
       "    </tr>\n",
       "    <tr>\n",
       "      <th>4</th>\n",
       "      <td>0.299632</td>\n",
       "      <td>0.359721</td>\n",
       "      <td>0.299632</td>\n",
       "      <td>0.277946</td>\n",
       "      <td>0.302284</td>\n",
       "      <td>0.277946</td>\n",
       "    </tr>\n",
       "    <tr>\n",
       "      <th>...</th>\n",
       "      <td>...</td>\n",
       "      <td>...</td>\n",
       "      <td>...</td>\n",
       "      <td>...</td>\n",
       "      <td>...</td>\n",
       "      <td>...</td>\n",
       "    </tr>\n",
       "    <tr>\n",
       "      <th>75</th>\n",
       "      <td>0.010596</td>\n",
       "      <td>0.056848</td>\n",
       "      <td>0.010596</td>\n",
       "      <td>0.001905</td>\n",
       "      <td>0.024469</td>\n",
       "      <td>0.001905</td>\n",
       "    </tr>\n",
       "    <tr>\n",
       "      <th>76</th>\n",
       "      <td>0.048473</td>\n",
       "      <td>0.096752</td>\n",
       "      <td>0.048473</td>\n",
       "      <td>0.010399</td>\n",
       "      <td>0.057096</td>\n",
       "      <td>0.010399</td>\n",
       "    </tr>\n",
       "    <tr>\n",
       "      <th>77</th>\n",
       "      <td>0.010275</td>\n",
       "      <td>0.053046</td>\n",
       "      <td>0.010275</td>\n",
       "      <td>0.018765</td>\n",
       "      <td>0.071754</td>\n",
       "      <td>0.018765</td>\n",
       "    </tr>\n",
       "    <tr>\n",
       "      <th>78</th>\n",
       "      <td>0.013644</td>\n",
       "      <td>0.060069</td>\n",
       "      <td>0.013644</td>\n",
       "      <td>0.003674</td>\n",
       "      <td>0.036436</td>\n",
       "      <td>0.003674</td>\n",
       "    </tr>\n",
       "    <tr>\n",
       "      <th>79</th>\n",
       "      <td>0.027809</td>\n",
       "      <td>0.084877</td>\n",
       "      <td>0.027809</td>\n",
       "      <td>0.012174</td>\n",
       "      <td>0.076162</td>\n",
       "      <td>0.012174</td>\n",
       "    </tr>\n",
       "  </tbody>\n",
       "</table>\n",
       "<p>80 rows × 6 columns</p>\n",
       "</div>"
      ],
      "text/plain": [
       "        loss  mean_absolute_error  mean_squared_error  val_loss  \\\n",
       "0   4.556769             1.672251            4.556769  1.537558   \n",
       "1   1.194407             0.822952            1.194407  1.039685   \n",
       "2   0.521523             0.504752            0.521523  0.784640   \n",
       "3   0.395579             0.420445            0.395579  0.446331   \n",
       "4   0.299632             0.359721            0.299632  0.277946   \n",
       "..       ...                  ...                 ...       ...   \n",
       "75  0.010596             0.056848            0.010596  0.001905   \n",
       "76  0.048473             0.096752            0.048473  0.010399   \n",
       "77  0.010275             0.053046            0.010275  0.018765   \n",
       "78  0.013644             0.060069            0.013644  0.003674   \n",
       "79  0.027809             0.084877            0.027809  0.012174   \n",
       "\n",
       "    val_mean_absolute_error  val_mean_squared_error  \n",
       "0                  0.970271                1.537558  \n",
       "1                  0.830078                1.039685  \n",
       "2                  0.654374                0.784640  \n",
       "3                  0.466184                0.446331  \n",
       "4                  0.302284                0.277946  \n",
       "..                      ...                     ...  \n",
       "75                 0.024469                0.001905  \n",
       "76                 0.057096                0.010399  \n",
       "77                 0.071754                0.018765  \n",
       "78                 0.036436                0.003674  \n",
       "79                 0.076162                0.012174  \n",
       "\n",
       "[80 rows x 6 columns]"
      ]
     },
     "execution_count": 46,
     "metadata": {},
     "output_type": "execute_result"
    }
   ],
   "source": [
    "result_df = pd.DataFrame(result.history)\n",
    "result_df"
   ]
  },
  {
   "cell_type": "code",
   "execution_count": 47,
   "metadata": {},
   "outputs": [
    {
     "data": {
      "image/png": "[encoded data removed]",
      "text/plain": [
       "<Figure size 640x480 with 1 Axes>"
      ]
     },
     "metadata": {},
     "output_type": "display_data"
    }
   ],
   "source": [
    "# Plot Mean Absolute Error (MAE) over epochs\n",
    "plt.plot(range(1, 81), result_df['mean_absolute_error'], label='Training MAE')\n",
    "plt.plot(range(1, 81), result_df['val_mean_absolute_error'], label='Validation MAE')\n",
    "\n",
    "plt.title('Mean Absolute Error Over Epochs')\n",
    "plt.xlabel('Epoch')\n",
    "plt.ylabel('MAE')\n",
    "plt.legend()\n",
    "plt.show()"
   ]
  },
  {
   "cell_type": "code",
   "execution_count": 48,
   "metadata": {},
   "outputs": [
    {
     "data": {
      "image/png": "[encoded data removed]",
      "text/plain": [
       "<Figure size 640x480 with 1 Axes>"
      ]
     },
     "metadata": {},
     "output_type": "display_data"
    }
   ],
   "source": [
    "# Plot the training and validation loss\n",
    "plt.plot(result.history['loss'], label='Training Loss (MSE)')\n",
    "plt.plot(result.history['val_loss'], label='Validation Loss (MSE)')\n",
    "plt.title('Training and Validation Loss Over Epochs')\n",
    "plt.xlabel('Epoch')\n",
    "plt.ylabel('Mean Squared Error (MSE)')\n",
    "plt.legend()\n",
    "plt.show()"
   ]
  },
  {
   "cell_type": "code",
   "execution_count": 49,
   "metadata": {},
   "outputs": [
    {
     "name": "stdout",
     "output_type": "stream",
     "text": [
      "\u001b[1m113/113\u001b[0m \u001b[32m━━━━━━━━━━━━━━━━━━━━\u001b[0m\u001b[37m\u001b[0m \u001b[1m0s\u001b[0m 546us/step\n"
     ]
    },
    {
     "data": {
      "image/png": "[encoded data removed]",
      "text/plain": [
       "<Figure size 640x480 with 1 Axes>"
      ]
     },
     "metadata": {},
     "output_type": "display_data"
    }
   ],
   "source": [
    "# Get predictions for the test set\n",
    "y_pred = model1.predict(x_test)\n",
    "\n",
    "# Scatter plot of actual vs predicted values\n",
    "plt.scatter(y_test, y_pred)\n",
    "plt.title('Predicted vs Actual Values')\n",
    "plt.xlabel('Actual Values')\n",
    "plt.ylabel('Predicted Values')\n",
    "plt.show()"
   ]
  },
  {
   "cell_type": "code",
   "execution_count": 50,
   "metadata": {},
   "outputs": [
    {
     "name": "stdout",
     "output_type": "stream",
     "text": [
      "\u001b[1m113/113\u001b[0m \u001b[32m━━━━━━━━━━━━━━━━━━━━\u001b[0m\u001b[37m\u001b[0m \u001b[1m0s\u001b[0m 513us/step\n"
     ]
    }
   ],
   "source": [
    "# Get predictions for the test set\n",
    "y_pred = model1.predict(x_test)\n",
    "\n",
    "# If y_test is a pandas Series, convert it to a NumPy array\n",
    "if isinstance(y_test, pd.Series):\n",
    "    y_test = y_test.values\n",
    "\n",
    "# Flatten y_pred if it's a 2D array\n",
    "y_pred = y_pred.flatten()\n",
    "\n",
    "# Calculate residuals (errors)\n",
    "residuals = y_test - y_pred\n"
   ]
  },
  {
   "cell_type": "code",
   "execution_count": 51,
   "metadata": {},
   "outputs": [
    {
     "data": {
      "image/png": "[encoded data removed]",
      "text/plain": [
       "<Figure size 640x480 with 1 Axes>"
      ]
     },
     "metadata": {},
     "output_type": "display_data"
    }
   ],
   "source": [
    "# Plot residuals\n",
    "plt.scatter(y_pred, residuals)\n",
    "plt.title('Residuals Plot')\n",
    "plt.xlabel('Predicted Values')\n",
    "plt.ylabel('Residuals (Actual - Predicted)')\n",
    "plt.axhline(y=0, color='r', linestyle='--')\n",
    "plt.show()"
   ]
  },
  {
   "cell_type": "code",
   "execution_count": 52,
   "metadata": {},
   "outputs": [],
   "source": [
    "# model = Sequential()\n",
    "# #input dimension 8 neuron - developer scope\n",
    "# model.add(Dense(512,input_dim = x_train_scaler_df.shape[1],activation=tf.keras.layers.LeakyReLU(alpha=0.01))) #hidden layer1\n",
    "# model.add(Dense(256,activation=tf.keras.layers.LeakyReLU(alpha=0.01))) #hidden layer2\n",
    "# model.add(Dense(256,activation=tf.keras.layers.LeakyReLU(alpha=0.01))) #hidden layer3\n",
    "# model.add(Dense(128,activation=tf.keras.layers.LeakyReLU(alpha=0.01))) #hidden layer3\n",
    "# model.add(Dense(128,activation=tf.keras.layers.LeakyReLU(alpha=0.01))) #hidden layer3\n",
    "# model.add(Dense(64,activation=tf.keras.layers.LeakyReLU(alpha=0.01))) #hidden layer3\n",
    "# model.add(Dense(16,activation=tf.keras.layers.LeakyReLU(alpha=0.01))) #hidden layer3\n",
    "# model.add(Dense(16,activation=tf.keras.layers.LeakyReLU(alpha=0.01))) #hidden layer3\n",
    "\n",
    "# model.add(Dense(12,activation=\"softmax\")) #output layer\n",
    "# model.compile(loss=\"categorical_crossentropy\",optimizer=\"adam\",metrics=[tf.keras.metrics.F1Score(),\"accuracy\",tf.keras.metrics.Precision(),tf.keras.metrics.Recall()])"
   ]
  },
  {
   "cell_type": "code",
   "execution_count": 53,
   "metadata": {},
   "outputs": [
    {
     "name": "stderr",
     "output_type": "stream",
     "text": [
      "WARNING:absl:You are saving your model as an HDF5 file via `model.save()` or `keras.saving.save_model(model)`. This file format is considered legacy. We recommend using instead the native Keras format, e.g. `model.save('my_model.keras')` or `keras.saving.save_model(model, 'my_model.keras')`. \n"
     ]
    }
   ],
   "source": [
    "model1.save(\"DL_Algo.h5\")"
   ]
  },
  {
   "cell_type": "code",
   "execution_count": 54,
   "metadata": {},
   "outputs": [
    {
     "name": "stderr",
     "output_type": "stream",
     "text": [
      "WARNING:absl:Compiled the loaded model, but the compiled metrics have yet to be built. `model.compile_metrics` will be empty until you train or evaluate the model.\n"
     ]
    }
   ],
   "source": [
    "new_model = load_model(\"DL_Algo.h5\")"
   ]
  },
  {
   "cell_type": "code",
   "execution_count": 55,
   "metadata": {},
   "outputs": [],
   "source": [
    "first_row = x_test.iloc[0].to_numpy()"
   ]
  },
  {
   "cell_type": "code",
   "execution_count": 56,
   "metadata": {},
   "outputs": [
    {
     "data": {
      "text/plain": [
       "array([ 5,  2, 61,  9,  0, 13,  1,  6, 18,  6, 25])"
      ]
     },
     "execution_count": 56,
     "metadata": {},
     "output_type": "execute_result"
    }
   ],
   "source": [
    "first_row"
   ]
  },
  {
   "cell_type": "code",
   "execution_count": 57,
   "metadata": {},
   "outputs": [
    {
     "name": "stdout",
     "output_type": "stream",
     "text": [
      "<class 'numpy.int64'>\n",
      "<class 'numpy.int64'>\n",
      "<class 'numpy.int64'>\n",
      "<class 'numpy.int64'>\n",
      "<class 'numpy.int64'>\n",
      "<class 'numpy.int64'>\n",
      "<class 'numpy.int64'>\n",
      "<class 'numpy.int64'>\n",
      "<class 'numpy.int64'>\n",
      "<class 'numpy.int64'>\n",
      "<class 'numpy.int64'>\n"
     ]
    }
   ],
   "source": [
    "for x in first_row:\n",
    "    print(type(x))"
   ]
  },
  {
   "cell_type": "code",
   "execution_count": 58,
   "metadata": {},
   "outputs": [
    {
     "name": "stdout",
     "output_type": "stream",
     "text": [
      "\u001b[1m1/1\u001b[0m \u001b[32m━━━━━━━━━━━━━━━━━━━━\u001b[0m\u001b[37m\u001b[0m \u001b[1m0s\u001b[0m 33ms/step\n"
     ]
    },
    {
     "data": {
      "text/plain": [
       "array([[7.1266055]], dtype=float32)"
      ]
     },
     "execution_count": 58,
     "metadata": {},
     "output_type": "execute_result"
    }
   ],
   "source": [
    "new_model.predict(np.array([first_row]))"
   ]
  },
  {
   "cell_type": "code",
   "execution_count": 59,
   "metadata": {},
   "outputs": [
    {
     "data": {
      "text/plain": [
       "rental_month\n",
       "7    1660\n",
       "8    1424\n",
       "6     520\n",
       "Name: count, dtype: int64"
      ]
     },
     "execution_count": 59,
     "metadata": {},
     "output_type": "execute_result"
    }
   ],
   "source": [
    "x_test['rental_month'].value_counts()"
   ]
  },
  {
   "cell_type": "code",
   "execution_count": 60,
   "metadata": {},
   "outputs": [
    {
     "data": {
      "text/plain": [
       "46"
      ]
     },
     "execution_count": 60,
     "metadata": {},
     "output_type": "execute_result"
    }
   ],
   "source": [
    "df['length'].min()"
   ]
  },
  {
   "cell_type": "code",
   "execution_count": 61,
   "metadata": {},
   "outputs": [
    {
     "data": {
      "text/plain": [
       "Index(['rental_duration', 'rental_rate', 'length', 'replacement_cost',\n",
       "       'rating', 'category', 'active', 'rental_month', 'rental_day',\n",
       "       'return_month', 'return_day'],\n",
       "      dtype='object')"
      ]
     },
     "execution_count": 61,
     "metadata": {},
     "output_type": "execute_result"
    }
   ],
   "source": [
    "x_test.columns"
   ]
  },
  {
   "cell_type": "code",
   "execution_count": 62,
   "metadata": {},
   "outputs": [
    {
     "data": {
      "text/plain": [
       "{'rental_rate': LabelEncoder(), 'replacement_cost': LabelEncoder()}"
      ]
     },
     "execution_count": 62,
     "metadata": {},
     "output_type": "execute_result"
    }
   ],
   "source": [
    "encoders_cont"
   ]
  },
  {
   "cell_type": "code",
   "execution_count": 63,
   "metadata": {},
   "outputs": [
    {
     "data": {
      "text/plain": [
       "array([ 9.99, 10.99, 11.99, 12.99, 13.99, 14.99, 15.99, 16.99, 17.99,\n",
       "       18.99, 19.99, 20.99, 21.99, 22.99, 23.99, 24.99, 25.99, 26.99,\n",
       "       27.99, 28.99, 29.99])"
      ]
     },
     "execution_count": 63,
     "metadata": {},
     "output_type": "execute_result"
    }
   ],
   "source": [
    "encoders_cont['replacement_cost'].classes_"
   ]
  },
  {
   "cell_type": "code",
   "execution_count": 64,
   "metadata": {},
   "outputs": [],
   "source": [
    "array = ['Horror', 'Documentary', 'New', 'Classics', 'Games', 'Sci-Fi',\n",
    "            'Foreign', 'Family', 'Travel', 'Music', 'Sports', 'Comedy',\n",
    "            'Drama', 'Action', 'Children', 'Animation']"
   ]
  },
  {
   "cell_type": "code",
   "execution_count": 65,
   "metadata": {},
   "outputs": [
    {
     "name": "stdout",
     "output_type": "stream",
     "text": [
      "0.0\n"
     ]
    }
   ],
   "source": [
    "category = 'Horror'\n",
    "num = array.index(category)\n",
    "print(float(num))"
   ]
  },
  {
   "cell_type": "code",
   "execution_count": null,
   "metadata": {},
   "outputs": [],
   "source": []
  }
 ],
 "metadata": {
  "kernelspec": {
   "display_name": ".venv",
   "language": "python",
   "name": "python3"
  },
  "language_info": {
   "codemirror_mode": {
    "name": "ipython",
    "version": 3
   },
   "file_extension": ".py",
   "mimetype": "text/x-python",
   "name": "python",
   "nbconvert_exporter": "python",
   "pygments_lexer": "ipython3",
   "version": "3.9.6"
  }
 },
 "nbformat": 4,
 "nbformat_minor": 2
}
